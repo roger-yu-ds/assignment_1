{
 "cells": [
  {
   "cell_type": "markdown",
   "metadata": {},
   "source": [
    "# Introduction\n",
    "\n",
    "This notebook attempts to improve the score from `roger_exploration_scale_pos_weight.ipynb` of 0.69390 (model `10906675_xgb_es_spw.joblib`) by reducing the overfitting by tuning the number of components in the PCA transformation. The current `n_components` of 8 shows [overfitting](#Overfitting).\n",
    "\n",
    "## Summary\n",
    "* using only 1 pca component reduced the overfitting the most, see [result](#Result)\n",
    "* but the [results of test AUC](#results-of-test-AUC) was not an improvement; 0.67760"
   ]
  },
  {
   "cell_type": "code",
   "execution_count": 2,
   "metadata": {},
   "outputs": [],
   "source": [
    "import pandas as pd\n",
    "import numpy as np\n",
    "from pathlib import Path\n",
    "import os\n",
    "from sklearn.calibration import CalibratedClassifierCV\n",
    "from sklearn.preprocessing import StandardScaler\n",
    "from sklearn.model_selection import train_test_split\n",
    "from sklearn.model_selection import RandomizedSearchCV\n",
    "from sklearn.model_selection import GridSearchCV\n",
    "from sklearn.decomposition import PCA\n",
    "from sklearn.metrics import roc_auc_score\n",
    "from sklearn.metrics import roc_curve\n",
    "from sklearn.metrics import precision_recall_curve\n",
    "from sklearn.metrics import confusion_matrix\n",
    "from sklearn.metrics import plot_confusion_matrix\n",
    "from sklearn.metrics import plot_roc_curve\n",
    "from sklearn.metrics import classification_report\n",
    "from sklearn.pipeline import Pipeline\n",
    "from scipy import stats\n",
    "from joblib import dump\n",
    "from joblib import load\n",
    "import xgboost as xgb\n",
    "import matplotlib.pyplot as plt\n",
    "from typing import Dict\n",
    "from kaggle.api.kaggle_api_extended import KaggleApi\n",
    "from dotenv import find_dotenv, load_dotenv\n",
    "from collections import Counter\n",
    "from imblearn.over_sampling import SMOTE\n",
    "import matplotlib.pyplot as plt\n",
    "import seaborn as sns\n",
    "from hyperopt import Trials, STATUS_OK, tpe, hp, fmin\n",
    "\n",
    "from src.data.make_dataset import load_sets, save_sets, save_predictions\n",
    "from src.models.null import NullModel\n",
    "from src.visualization.visualize import classification_reports, classification_reports_2\n",
    "from src.visualization.visualize import plot_pie, create_feature_importance_df, plot_feature_importances\n"
   ]
  },
  {
   "cell_type": "code",
   "execution_count": 3,
   "metadata": {},
   "outputs": [],
   "source": [
    "%load_ext autoreload\n",
    "%autoreload 2"
   ]
  },
  {
   "cell_type": "code",
   "execution_count": 4,
   "metadata": {},
   "outputs": [],
   "source": [
    "load_dotenv(find_dotenv())\n",
    "api = KaggleApi()\n",
    "api.authenticate()"
   ]
  },
  {
   "cell_type": "code",
   "execution_count": 5,
   "metadata": {},
   "outputs": [],
   "source": [
    "competition = os.environ['COMPETITION']"
   ]
  },
  {
   "cell_type": "markdown",
   "metadata": {},
   "source": [
    "# Set up directories"
   ]
  },
  {
   "cell_type": "code",
   "execution_count": 6,
   "metadata": {
    "collapsed": false,
    "jupyter": {
     "outputs_hidden": false
    },
    "pycharm": {
     "name": "#%%\n"
    }
   },
   "outputs": [],
   "source": [
    "project_dir = Path.cwd().parent.parent\n",
    "data_dir = project_dir / 'data'\n",
    "raw_data_dir = data_dir / 'raw'\n",
    "interim_data_dir = data_dir / 'interim'\n",
    "processed_data_dir = data_dir / 'processed'\n",
    "models_dir = project_dir / 'models'"
   ]
  },
  {
   "cell_type": "markdown",
   "metadata": {},
   "source": [
    "# Load data"
   ]
  },
  {
   "cell_type": "code",
   "execution_count": 7,
   "metadata": {},
   "outputs": [],
   "source": [
    "X_train, X_val, y_train, y_val, X_test = load_sets(interim_data_dir)\n",
    "X_train_lim, X_val_lim, y_train_lim, y_val_lim, X_test_lim = load_sets(interim_data_dir, suffix='top_8_features')\n",
    "test_id = pd.read_csv(interim_data_dir / 'test_id.csv')"
   ]
  },
  {
   "cell_type": "markdown",
   "metadata": {},
   "source": [
    "# Baseline"
   ]
  },
  {
   "cell_type": "code",
   "execution_count": 8,
   "metadata": {},
   "outputs": [
    {
     "data": {
      "image/png": "[encoded data removed]",
      "text/plain": [
       "<Figure size 432x288 with 1 Axes>"
      ]
     },
     "metadata": {},
     "output_type": "display_data"
    }
   ],
   "source": [
    "plot_pie(y_train)"
   ]
  },
  {
   "cell_type": "code",
   "execution_count": 9,
   "metadata": {},
   "outputs": [
    {
     "data": {
      "image/png": "[encoded data removed]",
      "text/plain": [
       "<Figure size 432x288 with 1 Axes>"
      ]
     },
     "metadata": {},
     "output_type": "display_data"
    }
   ],
   "source": [
    "plot_pie(y_val)"
   ]
  },
  {
   "cell_type": "markdown",
   "metadata": {},
   "source": [
    "## Baseline Score\n",
    "\n",
    "The baseline is simply the best from the previous attempt of 0.69051."
   ]
  },
  {
   "cell_type": "markdown",
   "metadata": {},
   "source": [
    "# Load best model\n",
    "\n",
    "The best model so far is `randomised_xgb.joblib` with a test AUC of 0.69051."
   ]
  },
  {
   "cell_type": "code",
   "execution_count": 10,
   "metadata": {},
   "outputs": [],
   "source": [
    "base_model = load(models_dir / '10906675_xgb_es_spw.joblib')"
   ]
  },
  {
   "cell_type": "code",
   "execution_count": 11,
   "metadata": {},
   "outputs": [
    {
     "data": {
      "text/plain": [
       "Pipeline(steps=[('scaler', StandardScaler()), ('pca', PCA(n_components=8)),\n",
       "                ('classifier',\n",
       "                 XGBClassifier(base_score=0.5, booster='gbtree',\n",
       "                               colsample_bylevel=1, colsample_bynode=1,\n",
       "                               colsample_bytree=0.590700201239684,\n",
       "                               eval_metric='logloss', gamma=0, gpu_id=-1,\n",
       "                               importance_type='gain',\n",
       "                               interaction_constraints='',\n",
       "                               learning_rate=0.020933095390929836,\n",
       "                               max_delta_step=0, max_depth=5,\n",
       "                               min_child_weight=2, missing=nan,\n",
       "                               monotone_constraints='()', n_estimators=184,\n",
       "                               n_jobs=8, num_parallel_tree=1, random_state=0,\n",
       "                               reg_alpha=0, reg_lambda=1,\n",
       "                               scale_pos_weight=0.5500000000000002,\n",
       "                               subsample=0.6028987933998539,\n",
       "                               tree_method='exact', use_label_encoder=False,\n",
       "                               validate_parameters=1, verbosity=None))])"
      ]
     },
     "execution_count": 11,
     "metadata": {},
     "output_type": "execute_result"
    }
   ],
   "source": [
    "base_model"
   ]
  },
  {
   "cell_type": "code",
   "execution_count": 15,
   "metadata": {},
   "outputs": [
    {
     "name": "stdout",
     "output_type": "stream",
     "text": [
      " class 1 :  5332\n",
      " class 0 :  1068\n",
      "Confusion Matrix: \n",
      " [[  54 1014]\n",
      " [  12 5320]]\n",
      "Accuracy:  0.8396875\n",
      "AUC:  0.7836622076867532\n",
      "              precision    recall  f1-score   support\n",
      "\n",
      "           0       0.82      0.05      0.10      1068\n",
      "           1       0.84      1.00      0.91      5332\n",
      "\n",
      "    accuracy                           0.84      6400\n",
      "   macro avg       0.83      0.52      0.50      6400\n",
      "weighted avg       0.84      0.84      0.78      6400\n",
      "\n"
     ]
    },
    {
     "data": {
      "image/png": "[encoded data removed]",
      "text/plain": [
       "<Figure size 432x288 with 1 Axes>"
      ]
     },
     "metadata": {
      "needs_background": "light"
     },
     "output_type": "display_data"
    }
   ],
   "source": [
    "classification_reports(base_model, X_train, y_train)"
   ]
  },
  {
   "cell_type": "code",
   "execution_count": 16,
   "metadata": {},
   "outputs": [
    {
     "name": "stdout",
     "output_type": "stream",
     "text": [
      " class 1 :  1337\n",
      " class 0 :  263\n",
      "Confusion Matrix: \n",
      " [[   5  258]\n",
      " [   5 1332]]\n",
      "Accuracy:  0.835625\n",
      "AUC:  0.6990709010297727\n",
      "              precision    recall  f1-score   support\n",
      "\n",
      "           0       0.50      0.02      0.04       263\n",
      "           1       0.84      1.00      0.91      1337\n",
      "\n",
      "    accuracy                           0.84      1600\n",
      "   macro avg       0.67      0.51      0.47      1600\n",
      "weighted avg       0.78      0.84      0.77      1600\n",
      "\n"
     ]
    },
    {
     "data": {
      "image/png": "[encoded data removed]",
      "text/plain": [
       "<Figure size 432x288 with 1 Axes>"
      ]
     },
     "metadata": {
      "needs_background": "light"
     },
     "output_type": "display_data"
    }
   ],
   "source": [
    "classification_reports(base_model, X_val, y_val)"
   ]
  },
  {
   "cell_type": "markdown",
   "metadata": {},
   "source": [
    "## Overfitting"
   ]
  },
  {
   "cell_type": "markdown",
   "metadata": {},
   "source": [
    "The training AUC is 0.784, while the validation AUC is 0.699; a difference of 0.085. This shows that the model is overfit."
   ]
  },
  {
   "cell_type": "markdown",
   "metadata": {},
   "source": [
    "# Reduce `n_components`\n",
    "\n",
    "The latest results show around 0.07 difference in the training and validation AUC, indicating overfitting. Reducing the number of features should mitigate this."
   ]
  },
  {
   "cell_type": "code",
   "execution_count": 14,
   "metadata": {},
   "outputs": [
    {
     "data": {
      "text/plain": [
       "{'objective': 'binary:logistic',\n",
       " 'use_label_encoder': False,\n",
       " 'base_score': 0.5,\n",
       " 'booster': 'gbtree',\n",
       " 'colsample_bylevel': 1,\n",
       " 'colsample_bynode': 1,\n",
       " 'colsample_bytree': 0.590700201239684,\n",
       " 'gamma': 0,\n",
       " 'gpu_id': -1,\n",
       " 'importance_type': 'gain',\n",
       " 'interaction_constraints': '',\n",
       " 'learning_rate': 0.020933095390929836,\n",
       " 'max_delta_step': 0,\n",
       " 'max_depth': 5,\n",
       " 'min_child_weight': 2,\n",
       " 'missing': nan,\n",
       " 'monotone_constraints': '()',\n",
       " 'n_estimators': 184,\n",
       " 'n_jobs': 8,\n",
       " 'num_parallel_tree': 1,\n",
       " 'random_state': 0,\n",
       " 'reg_alpha': 0,\n",
       " 'reg_lambda': 1,\n",
       " 'scale_pos_weight': 0.5500000000000002,\n",
       " 'subsample': 0.6028987933998539,\n",
       " 'tree_method': 'exact',\n",
       " 'validate_parameters': 1,\n",
       " 'verbosity': None,\n",
       " 'eval_metric': 'logloss'}"
      ]
     },
     "execution_count": 14,
     "metadata": {},
     "output_type": "execute_result"
    }
   ],
   "source": [
    "base_model_params = base_model['classifier'].get_params()\n",
    "base_model_params"
   ]
  },
  {
   "cell_type": "code",
   "execution_count": 28,
   "metadata": {},
   "outputs": [],
   "source": [
    "model_list = []\n",
    "n_components_list = []\n",
    "train_auc_list = []\n",
    "val_auc_list = []\n",
    "\n",
    "for n_components in range(1, 8):\n",
    "    clf = xgb.XGBClassifier(**base_model_params)\n",
    "    \n",
    "    pipe = Pipeline([\n",
    "        ('scaler', StandardScaler()),\n",
    "        ('pca', PCA(n_components=n_components))\n",
    "    ])\n",
    "    \n",
    "    pipe.fit(X_train)\n",
    "    X_train_trans = pipe.transform(X_train)\n",
    "    X_val_trans = pipe.transform(X_val)\n",
    "       \n",
    "    fit_params = {'eval_set': [(X_val_trans, y_val)],\n",
    "                  'eval_metric': 'auc',\n",
    "                  'early_stopping_rounds': 10,\n",
    "                  'verbose': False}\n",
    "    \n",
    "    clf.fit(X_train_trans, y_train, **fit_params)\n",
    "    \n",
    "    train_probs = clf.predict_proba(X_train_trans)[:, 1]\n",
    "    val_probs = clf.predict_proba(X_val_trans)[:, 1]\n",
    "    train_auc = roc_auc_score(y_train, train_probs)\n",
    "    val_auc = roc_auc_score(y_val, val_probs)\n",
    "    \n",
    "    model_list.append(clf)\n",
    "    n_components_list.append(n_components)\n",
    "    train_auc_list.append(train_auc)\n",
    "    val_auc_list.append(val_auc)"
   ]
  },
  {
   "cell_type": "markdown",
   "metadata": {},
   "source": [
    "## Result"
   ]
  },
  {
   "cell_type": "code",
   "execution_count": 29,
   "metadata": {},
   "outputs": [
    {
     "data": {
      "text/html": [
       "<div>\n",
       "<style scoped>\n",
       "    .dataframe tbody tr th:only-of-type {\n",
       "        vertical-align: middle;\n",
       "    }\n",
       "\n",
       "    .dataframe tbody tr th {\n",
       "        vertical-align: top;\n",
       "    }\n",
       "\n",
       "    .dataframe thead th {\n",
       "        text-align: right;\n",
       "    }\n",
       "</style>\n",
       "<table border=\"1\" class=\"dataframe\">\n",
       "  <thead>\n",
       "    <tr style=\"text-align: right;\">\n",
       "      <th></th>\n",
       "      <th>n_components</th>\n",
       "      <th>train_auc</th>\n",
       "      <th>val_auc</th>\n",
       "      <th>diff_auc</th>\n",
       "      <th>ratio_auc</th>\n",
       "    </tr>\n",
       "  </thead>\n",
       "  <tbody>\n",
       "    <tr>\n",
       "      <th>0</th>\n",
       "      <td>1</td>\n",
       "      <td>0.685417</td>\n",
       "      <td>0.684705</td>\n",
       "      <td>0.000712</td>\n",
       "      <td>0.001039</td>\n",
       "    </tr>\n",
       "    <tr>\n",
       "      <th>1</th>\n",
       "      <td>2</td>\n",
       "      <td>0.706201</td>\n",
       "      <td>0.681139</td>\n",
       "      <td>0.025063</td>\n",
       "      <td>0.035489</td>\n",
       "    </tr>\n",
       "    <tr>\n",
       "      <th>2</th>\n",
       "      <td>3</td>\n",
       "      <td>0.706482</td>\n",
       "      <td>0.681986</td>\n",
       "      <td>0.024495</td>\n",
       "      <td>0.034672</td>\n",
       "    </tr>\n",
       "    <tr>\n",
       "      <th>3</th>\n",
       "      <td>4</td>\n",
       "      <td>0.719245</td>\n",
       "      <td>0.690686</td>\n",
       "      <td>0.028559</td>\n",
       "      <td>0.039707</td>\n",
       "    </tr>\n",
       "    <tr>\n",
       "      <th>4</th>\n",
       "      <td>5</td>\n",
       "      <td>0.708047</td>\n",
       "      <td>0.677511</td>\n",
       "      <td>0.030536</td>\n",
       "      <td>0.043127</td>\n",
       "    </tr>\n",
       "    <tr>\n",
       "      <th>5</th>\n",
       "      <td>6</td>\n",
       "      <td>0.743682</td>\n",
       "      <td>0.682764</td>\n",
       "      <td>0.060918</td>\n",
       "      <td>0.081914</td>\n",
       "    </tr>\n",
       "    <tr>\n",
       "      <th>6</th>\n",
       "      <td>7</td>\n",
       "      <td>0.769762</td>\n",
       "      <td>0.693975</td>\n",
       "      <td>0.075788</td>\n",
       "      <td>0.098456</td>\n",
       "    </tr>\n",
       "  </tbody>\n",
       "</table>\n",
       "</div>"
      ],
      "text/plain": [
       "   n_components  train_auc   val_auc  diff_auc  ratio_auc\n",
       "0             1   0.685417  0.684705  0.000712   0.001039\n",
       "1             2   0.706201  0.681139  0.025063   0.035489\n",
       "2             3   0.706482  0.681986  0.024495   0.034672\n",
       "3             4   0.719245  0.690686  0.028559   0.039707\n",
       "4             5   0.708047  0.677511  0.030536   0.043127\n",
       "5             6   0.743682  0.682764  0.060918   0.081914\n",
       "6             7   0.769762  0.693975  0.075788   0.098456"
      ]
     },
     "execution_count": 29,
     "metadata": {},
     "output_type": "execute_result"
    }
   ],
   "source": [
    "result_df = (\n",
    "    pd.DataFrame({'n_components': n_components_list,\n",
    "                  'train_auc': train_auc_list,\n",
    "                  'val_auc': val_auc_list})\n",
    "    .assign(diff_auc=lambda x: x.train_auc - x.val_auc,\n",
    "            ratio_auc=lambda x: 1 - x.val_auc/x.train_auc)\n",
    ")\n",
    "\n",
    "result_df"
   ]
  },
  {
   "cell_type": "markdown",
   "metadata": {},
   "source": [
    "Using `n_components` of 1 by far results in the least amount of overfitting."
   ]
  },
  {
   "cell_type": "markdown",
   "metadata": {},
   "source": [
    "## Retrain model"
   ]
  },
  {
   "cell_type": "code",
   "execution_count": 30,
   "metadata": {},
   "outputs": [],
   "source": [
    "best_n_components = 1"
   ]
  },
  {
   "cell_type": "code",
   "execution_count": 35,
   "metadata": {},
   "outputs": [
    {
     "data": {
      "text/plain": [
       "Pipeline(steps=[('scaler', StandardScaler()), ('pca', PCA(n_components=1)),\n",
       "                ('classifier',\n",
       "                 XGBClassifier(base_score=0.5, booster='gbtree',\n",
       "                               colsample_bylevel=1, colsample_bynode=1,\n",
       "                               colsample_bytree=0.590700201239684,\n",
       "                               eval_metric='logloss', gamma=0, gpu_id=-1,\n",
       "                               importance_type='gain',\n",
       "                               interaction_constraints='',\n",
       "                               learning_rate=0.020933095390929836,\n",
       "                               max_delta_step=0, max_depth=5,\n",
       "                               min_child_weight=2, missing=nan,\n",
       "                               monotone_constraints='()', n_estimators=184,\n",
       "                               n_jobs=8, num_parallel_tree=1, random_state=0,\n",
       "                               reg_alpha=0, reg_lambda=1,\n",
       "                               scale_pos_weight=0.5500000000000002,\n",
       "                               subsample=0.6028987933998539,\n",
       "                               tree_method='exact', use_label_encoder=False,\n",
       "                               validate_parameters=1, verbosity=None))])"
      ]
     },
     "execution_count": 35,
     "metadata": {},
     "output_type": "execute_result"
    }
   ],
   "source": [
    "clf = xgb.XGBClassifier(**base_model_params)\n",
    "\n",
    "pipe = Pipeline([\n",
    "    ('scaler', StandardScaler()),\n",
    "    ('pca', PCA(n_components=best_n_components))\n",
    "])\n",
    "\n",
    "pipe.fit(X_train)\n",
    "X_val_trans = pipe.transform(X_val)\n",
    "\n",
    "pipe.steps.append(('classifier', clf))\n",
    "\n",
    "fit_params = {'classifier__eval_set': [(X_val_trans, y_val)],\n",
    "              'classifier__eval_metric': 'auc',\n",
    "              'classifier__early_stopping_rounds': 10,\n",
    "              'classifier__verbose': False}\n",
    "\n",
    "pipe.fit(X_train, y_train, **fit_params)"
   ]
  },
  {
   "cell_type": "code",
   "execution_count": 37,
   "metadata": {},
   "outputs": [
    {
     "name": "stdout",
     "output_type": "stream",
     "text": [
      " class 1 :  5332\n",
      " class 0 :  1068\n",
      "Confusion Matrix: \n",
      " [[  55 1013]\n",
      " [  44 5288]]\n",
      "Accuracy:  0.83484375\n",
      "AUC:  0.6854172286049041\n",
      "              precision    recall  f1-score   support\n",
      "\n",
      "           0       0.56      0.05      0.09      1068\n",
      "           1       0.84      0.99      0.91      5332\n",
      "\n",
      "    accuracy                           0.83      6400\n",
      "   macro avg       0.70      0.52      0.50      6400\n",
      "weighted avg       0.79      0.83      0.77      6400\n",
      "\n"
     ]
    },
    {
     "data": {
      "image/png": "[encoded data removed]",
      "text/plain": [
       "<Figure size 432x288 with 1 Axes>"
      ]
     },
     "metadata": {
      "needs_background": "light"
     },
     "output_type": "display_data"
    }
   ],
   "source": [
    "classification_reports(pipe, X_train, y_train)"
   ]
  },
  {
   "cell_type": "code",
   "execution_count": 38,
   "metadata": {},
   "outputs": [
    {
     "name": "stdout",
     "output_type": "stream",
     "text": [
      " class 1 :  1337\n",
      " class 0 :  263\n",
      "Confusion Matrix: \n",
      " [[  12  251]\n",
      " [  17 1320]]\n",
      "Accuracy:  0.8325\n",
      "AUC:  0.6847049890368028\n",
      "              precision    recall  f1-score   support\n",
      "\n",
      "           0       0.41      0.05      0.08       263\n",
      "           1       0.84      0.99      0.91      1337\n",
      "\n",
      "    accuracy                           0.83      1600\n",
      "   macro avg       0.63      0.52      0.50      1600\n",
      "weighted avg       0.77      0.83      0.77      1600\n",
      "\n"
     ]
    },
    {
     "data": {
      "image/png": "[encoded data removed]",
      "text/plain": [
       "<Figure size 432x288 with 1 Axes>"
      ]
     },
     "metadata": {
      "needs_background": "light"
     },
     "output_type": "display_data"
    }
   ],
   "source": [
    "classification_reports(pipe, X_val, y_val)"
   ]
  },
  {
   "cell_type": "markdown",
   "metadata": {},
   "source": [
    "## Save model"
   ]
  },
  {
   "cell_type": "code",
   "execution_count": 44,
   "metadata": {},
   "outputs": [
    {
     "data": {
      "text/plain": [
       "WindowsPath('D:/Projects/assignment_1/models/10906675_xgb_es_spw_1_comp')"
      ]
     },
     "execution_count": 44,
     "metadata": {},
     "output_type": "execute_result"
    }
   ],
   "source": [
    "model_name = '10906675_xgb_es_spw_1_comp'\n",
    "path = models_dir / model_name\n",
    "path"
   ]
  },
  {
   "cell_type": "code",
   "execution_count": 47,
   "metadata": {},
   "outputs": [
    {
     "data": {
      "text/plain": [
       "['D:\\\\Projects\\\\assignment_1\\\\models\\\\10906675_xgb_es_spw_1_comp.joblib']"
      ]
     },
     "execution_count": 47,
     "metadata": {},
     "output_type": "execute_result"
    }
   ],
   "source": [
    "dump(pipe, path.with_suffix('.joblib'))"
   ]
  },
  {
   "cell_type": "markdown",
   "metadata": {},
   "source": [
    "# Prediction on test set"
   ]
  },
  {
   "cell_type": "code",
   "execution_count": 42,
   "metadata": {},
   "outputs": [],
   "source": [
    "probs = pipe.predict_proba(X_test)[:, 1]"
   ]
  },
  {
   "cell_type": "code",
   "execution_count": 35,
   "metadata": {},
   "outputs": [
    {
     "data": {
      "text/plain": [
       "array([0.65319955, 0.65564203, 0.72314936, ..., 0.60709983, 0.72595614,\n",
       "       0.6344749 ], dtype=float32)"
      ]
     },
     "execution_count": 35,
     "metadata": {},
     "output_type": "execute_result"
    }
   ],
   "source": [
    "probs"
   ]
  },
  {
   "cell_type": "code",
   "execution_count": 48,
   "metadata": {},
   "outputs": [],
   "source": [
    "path = processed_data_dir / f'probs_{model_name}.csv'\n",
    "save_predictions(probs, 'TARGET_5Yrs', test_id, path)"
   ]
  },
  {
   "cell_type": "markdown",
   "metadata": {},
   "source": [
    "## Submit predictions"
   ]
  },
  {
   "cell_type": "raw",
   "metadata": {},
   "source": [
    "api.competition_submit(file_name=path,\n",
    "                       message=model_name,\n",
    "                       competition=competition,\n",
    "                       quiet=False)"
   ]
  },
  {
   "cell_type": "markdown",
   "metadata": {},
   "source": [
    "# Results of test AUC\n",
    "\n",
    "The test AUC is 0.67760."
   ]
  }
 ],
 "metadata": {
  "kernelspec": {
   "display_name": "Python 3",
   "language": "python",
   "name": "python3"
  },
  "language_info": {
   "codemirror_mode": {
    "name": "ipython",
    "version": 3
   },
   "file_extension": ".py",
   "mimetype": "text/x-python",
   "name": "python",
   "nbconvert_exporter": "python",
   "pygments_lexer": "ipython3",
   "version": "3.8.7"
  },
  "toc-autonumbering": true
 },
 "nbformat": 4,
 "nbformat_minor": 4
}
