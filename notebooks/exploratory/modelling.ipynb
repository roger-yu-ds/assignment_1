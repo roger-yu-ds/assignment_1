{
 "cells": [
  {
   "cell_type": "code",
   "execution_count": 74,
   "metadata": {},
   "outputs": [],
   "source": [
    "import pandas as pd\n",
    "import numpy as np\n",
    "from pathlib import Path\n",
    "import os\n",
    "from sklearn.preprocessing import StandardScaler\n",
    "from sklearn.model_selection import train_test_split\n",
    "from sklearn.model_selection import RandomizedSearchCV\n",
    "from sklearn.decomposition import PCA\n",
    "from sklearn.metrics import roc_auc_score\n",
    "from sklearn.metrics import roc_curve\n",
    "from sklearn.metrics import precision_recall_curve\n",
    "from sklearn.metrics import confusion_matrix\n",
    "from sklearn.pipeline import Pipeline\n",
    "from scipy import stats\n",
    "from joblib import dump\n",
    "from joblib import load\n",
    "import xgboost as xgb\n",
    "import matplotlib.pyplot as plt\n",
    "from typing import Dict\n",
    "from src.data import make_dataset\n",
    "from kaggle.api.kaggle_api_extended import KaggleApi\n",
    "from dotenv import find_dotenv, load_dotenv"
   ]
  },
  {
   "cell_type": "code",
   "execution_count": 78,
   "metadata": {},
   "outputs": [],
   "source": [
    "load_dotenv(find_dotenv())\n",
    "api = KaggleApi()\n",
    "api.authenticate()"
   ]
  },
  {
   "cell_type": "code",
   "execution_count": 80,
   "metadata": {},
   "outputs": [],
   "source": [
    "competition = os.environ['COMPETITION']"
   ]
  },
  {
   "cell_type": "markdown",
   "metadata": {},
   "source": [
    "# Set up directories"
   ]
  },
  {
   "cell_type": "code",
   "execution_count": 65,
   "metadata": {
    "collapsed": false,
    "jupyter": {
     "outputs_hidden": false
    },
    "pycharm": {
     "name": "#%%\n"
    }
   },
   "outputs": [],
   "source": [
    "project_dir = Path.cwd().parent\n",
    "data_dir = project_dir / 'data'\n",
    "raw_data_dir = data_dir / 'raw'\n",
    "interim_data_dir = data_dir / 'interim'\n",
    "processed_data_dir = data_dir / 'processed'\n",
    "models_dir = project_dir / 'models'"
   ]
  },
  {
   "cell_type": "markdown",
   "metadata": {},
   "source": [
    "# Load data"
   ]
  },
  {
   "cell_type": "code",
   "execution_count": 57,
   "metadata": {},
   "outputs": [],
   "source": [
    "df_train = pd.read_csv(raw_data_dir / 'train.csv')\n",
    "df_test = pd.read_csv(raw_data_dir / 'test.csv')\n",
    "X_train = np.load(interim_data_dir / 'X_train.npy')\n",
    "X_val = np.load(interim_data_dir / 'X_val.npy')\n",
    "y_train = np.load(interim_data_dir / 'y_train.npy')\n",
    "y_val = np.load(interim_data_dir / 'y_val.npy')\n",
    "X_test = np.load(interim_data_dir / 'X_test.npy')\n",
    "test_id = pd.read_csv(interim_data_dir / 'test_id.csv')"
   ]
  },
  {
   "cell_type": "markdown",
   "metadata": {},
   "source": [
    "# Baseline\n",
    "\n",
    "The base line prediction is simply to make them all negative."
   ]
  },
  {
   "cell_type": "code",
   "execution_count": 36,
   "metadata": {},
   "outputs": [
    {
     "data": {
      "image/png": "[encoded data removed]",
      "text/plain": [
       "<Figure size 432x288 with 1 Axes>"
      ]
     },
     "metadata": {},
     "output_type": "display_data"
    }
   ],
   "source": [
    "labels = 'Positive', 'Negative'\n",
    "pos_count = (y_train == 1).sum()\n",
    "neg_count = (y_train == 0).sum()\n",
    "sizes = [pos_count, neg_count]\n",
    "explode = (0, 0.1)  # only \"explode\" the 2nd slice (i.e. 'Hogs')\n",
    "\n",
    "fig1, ax1 = plt.subplots()\n",
    "ax1.pie(sizes, explode=explode, labels=labels, autopct='%1.1f%%',\n",
    "        shadow=True, startangle=90)\n",
    "ax1.axis('equal')  # Equal aspect ratio ensures that pie is drawn as a circle.\n",
    "\n",
    "plt.show()"
   ]
  },
  {
   "cell_type": "code",
   "execution_count": 37,
   "metadata": {},
   "outputs": [
    {
     "data": {
      "image/png": "[encoded data removed]",
      "text/plain": [
       "<Figure size 432x288 with 1 Axes>"
      ]
     },
     "metadata": {},
     "output_type": "display_data"
    }
   ],
   "source": [
    "labels = 'Positive', 'Negative'\n",
    "pos_count = (y_val == 1).sum()\n",
    "neg_count = (y_val == 0).sum()\n",
    "sizes = [pos_count, neg_count]\n",
    "explode = (0, 0.1)  # only \"explode\" the 2nd slice (i.e. 'Hogs')\n",
    "\n",
    "fig1, ax1 = plt.subplots()\n",
    "ax1.pie(sizes, explode=explode, labels=labels, autopct='%1.1f%%',\n",
    "        shadow=True, startangle=90)\n",
    "ax1.axis('equal')  # Equal aspect ratio ensures that pie is drawn as a circle.\n",
    "\n",
    "plt.show()"
   ]
  },
  {
   "cell_type": "code",
   "execution_count": 38,
   "metadata": {},
   "outputs": [
    {
     "data": {
      "text/plain": [
       "0.5"
      ]
     },
     "execution_count": 38,
     "metadata": {},
     "output_type": "execute_result"
    }
   ],
   "source": [
    "preds = [1] * len(y_val)\n",
    "roc_auc_score(y_val, preds)"
   ]
  },
  {
   "cell_type": "markdown",
   "metadata": {},
   "source": [
    "# XGB"
   ]
  },
  {
   "cell_type": "code",
   "execution_count": 39,
   "metadata": {},
   "outputs": [],
   "source": [
    "clf_xgb = xgb.XGBClassifier()"
   ]
  },
  {
   "cell_type": "code",
   "execution_count": 40,
   "metadata": {},
   "outputs": [
    {
     "name": "stderr",
     "output_type": "stream",
     "text": [
      "c:\\users\\mactuary\\.virtualenvs\\assignment_1-9rwzg4k3\\lib\\site-packages\\xgboost\\sklearn.py:888: UserWarning: The use of label encoder in XGBClassifier is deprecated and will be removed in a future release. To remove this warning, do the following: 1) Pass option use_label_encoder=False when constructing XGBClassifier object; and 2) Encode your labels (y) as integers starting with 0, i.e. 0, 1, 2, ..., [num_class - 1].\n",
      "  warnings.warn(label_encoder_deprecation_msg, UserWarning)\n"
     ]
    },
    {
     "name": "stdout",
     "output_type": "stream",
     "text": [
      "[21:33:02] WARNING: C:/Users/Administrator/workspace/xgboost-win64_release_1.3.0/src/learner.cc:1061: Starting in XGBoost 1.3.0, the default evaluation metric used with the objective 'binary:logistic' was changed from 'error' to 'logloss'. Explicitly set eval_metric if you'd like to restore the old behavior.\n"
     ]
    },
    {
     "data": {
      "text/plain": [
       "XGBClassifier(base_score=0.5, booster='gbtree', colsample_bylevel=1,\n",
       "              colsample_bynode=1, colsample_bytree=1, gamma=0, gpu_id=-1,\n",
       "              importance_type='gain', interaction_constraints='',\n",
       "              learning_rate=0.300000012, max_delta_step=0, max_depth=6,\n",
       "              min_child_weight=1, missing=nan, monotone_constraints='()',\n",
       "              n_estimators=100, n_jobs=8, num_parallel_tree=1, random_state=0,\n",
       "              reg_alpha=0, reg_lambda=1, scale_pos_weight=1, subsample=1,\n",
       "              tree_method='exact', validate_parameters=1, verbosity=None)"
      ]
     },
     "execution_count": 40,
     "metadata": {},
     "output_type": "execute_result"
    }
   ],
   "source": [
    "clf_xgb.fit(X_train, y_train)"
   ]
  },
  {
   "cell_type": "code",
   "execution_count": 41,
   "metadata": {},
   "outputs": [],
   "source": [
    "preds = clf_xgb.predict(X_val)\n",
    "probs = clf_xgb.predict_proba(X_val)"
   ]
  },
  {
   "cell_type": "code",
   "execution_count": 42,
   "metadata": {},
   "outputs": [
    {
     "data": {
      "text/plain": [
       "(1600, 19)"
      ]
     },
     "execution_count": 42,
     "metadata": {},
     "output_type": "execute_result"
    }
   ],
   "source": [
    "X_val.shape"
   ]
  },
  {
   "cell_type": "code",
   "execution_count": 43,
   "metadata": {},
   "outputs": [
    {
     "data": {
      "text/plain": [
       "1600"
      ]
     },
     "execution_count": 43,
     "metadata": {},
     "output_type": "execute_result"
    }
   ],
   "source": [
    "len(y_val)"
   ]
  },
  {
   "cell_type": "code",
   "execution_count": 44,
   "metadata": {},
   "outputs": [
    {
     "data": {
      "text/plain": [
       "0.6601664813398136"
      ]
     },
     "execution_count": 44,
     "metadata": {},
     "output_type": "execute_result"
    }
   ],
   "source": [
    "auc = roc_auc_score(y_val, probs[:, 1])\n",
    "tpr, fpr, threshold = roc_curve(y_val, probs[:, 1])\n",
    "auc"
   ]
  },
  {
   "cell_type": "code",
   "execution_count": null,
   "metadata": {},
   "outputs": [],
   "source": []
  },
  {
   "cell_type": "markdown",
   "metadata": {},
   "source": [
    "# RandomizedSearchCV"
   ]
  },
  {
   "cell_type": "code",
   "execution_count": 45,
   "metadata": {},
   "outputs": [
    {
     "name": "stdout",
     "output_type": "stream",
     "text": [
      "<class 'pandas.core.frame.DataFrame'>\n",
      "RangeIndex: 8000 entries, 0 to 7999\n",
      "Data columns (total 22 columns):\n",
      " #   Column       Non-Null Count  Dtype  \n",
      "---  ------       --------------  -----  \n",
      " 0   Id_old       8000 non-null   int64  \n",
      " 1   Id           8000 non-null   int64  \n",
      " 2   GP           8000 non-null   int64  \n",
      " 3   MIN          8000 non-null   float64\n",
      " 4   PTS          8000 non-null   float64\n",
      " 5   FGM          8000 non-null   float64\n",
      " 6   FGA          8000 non-null   float64\n",
      " 7   FG%          8000 non-null   float64\n",
      " 8   3P Made      8000 non-null   float64\n",
      " 9   3PA          8000 non-null   float64\n",
      " 10  3P%          8000 non-null   float64\n",
      " 11  FTM          8000 non-null   float64\n",
      " 12  FTA          8000 non-null   float64\n",
      " 13  FT%          8000 non-null   float64\n",
      " 14  OREB         8000 non-null   float64\n",
      " 15  DREB         8000 non-null   float64\n",
      " 16  REB          8000 non-null   float64\n",
      " 17  AST          8000 non-null   float64\n",
      " 18  STL          8000 non-null   float64\n",
      " 19  BLK          8000 non-null   float64\n",
      " 20  TOV          8000 non-null   float64\n",
      " 21  TARGET_5Yrs  8000 non-null   int64  \n",
      "dtypes: float64(18), int64(4)\n",
      "memory usage: 1.3 MB\n"
     ]
    }
   ],
   "source": [
    "# test\n",
    "df_train.info()"
   ]
  },
  {
   "cell_type": "code",
   "execution_count": 46,
   "metadata": {},
   "outputs": [
    {
     "name": "stdout",
     "output_type": "stream",
     "text": [
      "Fitting 5 folds for each of 100 candidates, totalling 500 fits\n"
     ]
    },
    {
     "name": "stderr",
     "output_type": "stream",
     "text": [
      "c:\\users\\mactuary\\.virtualenvs\\assignment_1-9rwzg4k3\\lib\\site-packages\\sklearn\\model_selection\\_search.py:918: UserWarning: One or more of the test scores are non-finite: [0.79984375        nan        nan        nan        nan        nan\n",
      "        nan        nan        nan        nan        nan 0.80375\n",
      " 0.79109375 0.83296875        nan        nan        nan        nan\n",
      "        nan 0.80578125 0.8015625         nan 0.7915625  0.79265625\n",
      " 0.81578125 0.81984375        nan        nan 0.81       0.80484375\n",
      " 0.7975     0.7978125  0.8175            nan        nan        nan\n",
      "        nan        nan        nan        nan        nan        nan\n",
      " 0.79671875        nan        nan        nan        nan        nan\n",
      "        nan        nan 0.79296875        nan 0.79421875        nan\n",
      "        nan 0.793125          nan 0.8009375         nan 0.82890625\n",
      "        nan        nan        nan        nan 0.78171875 0.8346875\n",
      " 0.79125           nan 0.8025            nan        nan 0.80671875\n",
      "        nan 0.82859375        nan        nan        nan 0.76734375\n",
      "        nan        nan 0.79765625        nan        nan 0.8115625\n",
      "        nan 0.795             nan 0.80640625 0.79875    0.7746875\n",
      "        nan 0.82765625        nan 0.8246875         nan        nan\n",
      " 0.8025     0.82078125 0.77671875        nan]\n",
      "  warnings.warn(\n"
     ]
    },
    {
     "data": {
      "text/plain": [
       "RandomizedSearchCV(cv=5,\n",
       "                   estimator=Pipeline(steps=[('scaler', StandardScaler()),\n",
       "                                             ('pca', PCA()),\n",
       "                                             ('classifier',\n",
       "                                              XGBClassifier(base_score=None,\n",
       "                                                            booster=None,\n",
       "                                                            colsample_bylevel=None,\n",
       "                                                            colsample_bynode=None,\n",
       "                                                            colsample_bytree=None,\n",
       "                                                            eval_metric='logloss',\n",
       "                                                            gamma=None,\n",
       "                                                            gpu_id=None,\n",
       "                                                            importance_type='gain',\n",
       "                                                            interaction_constraints=None,\n",
       "                                                            learning_rate=None,\n",
       "                                                            max_delta_step=Non...\n",
       "                                        'classifier__min_child_weight': [1, 2,\n",
       "                                                                         3, 4],\n",
       "                                        'classifier__n_estimators': <scipy.stats._distn_infrastructure.rv_frozen object at 0x000002694B8E41F0>,\n",
       "                                        'classifier__subsample': <scipy.stats._distn_infrastructure.rv_frozen object at 0x000002694B8E4580>,\n",
       "                                        'pca__n_components': <scipy.stats._distn_infrastructure.rv_frozen object at 0x000002694B876040>},\n",
       "                   random_state=42, verbose=10)"
      ]
     },
     "execution_count": 46,
     "metadata": {},
     "output_type": "execute_result"
    }
   ],
   "source": [
    "pipe = Pipeline([\n",
    "        ('scaler', StandardScaler()),\n",
    "        ('pca', PCA()),\n",
    "        ('classifier', xgb.XGBClassifier(\n",
    "            objective='binary:logistic',\n",
    "            use_label_encoder=False,\n",
    "            eval_metric='logloss'\n",
    "        ))\n",
    "])\n",
    "\n",
    "param_dist = {\n",
    "    'pca__n_components': stats.randint(1, X_train.shape[1]),\n",
    "    'classifier__n_estimators': stats.randint(150, 1000),\n",
    "    'classifier__learning_rate': stats.uniform(0.01, 0.6),\n",
    "    'classifier__subsample': stats.uniform(0.3, 0.9),\n",
    "    'classifier__max_depth': [3, 4, 5, 6, 7, 8, 9],\n",
    "    'classifier__colsample_bytree': stats.uniform(0.5, 0.9),\n",
    "    'classifier__min_child_weight': [1, 2, 3, 4]\n",
    "}\n",
    "\n",
    "cv = RandomizedSearchCV(\n",
    "    estimator=pipe,\n",
    "    param_distributions=param_dist,\n",
    "    random_state=42,\n",
    "    n_iter=100,\n",
    "    cv=5,\n",
    "    n_jobs=7,\n",
    "    verbose=10\n",
    ")\n",
    "\n",
    "cv.fit(X_train, y_train)"
   ]
  },
  {
   "cell_type": "code",
   "execution_count": 60,
   "metadata": {},
   "outputs": [
    {
     "data": {
      "text/plain": [
       "['D:\\\\OneDrive - UTS\\\\mdsi\\\\36114 Advanced Data Science for Innovation\\\\assignment_1\\\\models\\\\randomised_xgb']"
      ]
     },
     "execution_count": 60,
     "metadata": {},
     "output_type": "execute_result"
    }
   ],
   "source": [
    "dump(cv, models_dir / 'randomised_xgb')"
   ]
  },
  {
   "cell_type": "code",
   "execution_count": 47,
   "metadata": {},
   "outputs": [
    {
     "data": {
      "text/html": [
       "<div>\n",
       "<style scoped>\n",
       "    .dataframe tbody tr th:only-of-type {\n",
       "        vertical-align: middle;\n",
       "    }\n",
       "\n",
       "    .dataframe tbody tr th {\n",
       "        vertical-align: top;\n",
       "    }\n",
       "\n",
       "    .dataframe thead th {\n",
       "        text-align: right;\n",
       "    }\n",
       "</style>\n",
       "<table border=\"1\" class=\"dataframe\">\n",
       "  <thead>\n",
       "    <tr style=\"text-align: right;\">\n",
       "      <th></th>\n",
       "      <th>mean_fit_time</th>\n",
       "      <th>std_fit_time</th>\n",
       "      <th>mean_score_time</th>\n",
       "      <th>std_score_time</th>\n",
       "      <th>param_classifier__colsample_bytree</th>\n",
       "      <th>param_classifier__learning_rate</th>\n",
       "      <th>param_classifier__max_depth</th>\n",
       "      <th>param_classifier__min_child_weight</th>\n",
       "      <th>param_classifier__n_estimators</th>\n",
       "      <th>param_classifier__subsample</th>\n",
       "      <th>param_pca__n_components</th>\n",
       "      <th>params</th>\n",
       "      <th>split0_test_score</th>\n",
       "      <th>split1_test_score</th>\n",
       "      <th>split2_test_score</th>\n",
       "      <th>split3_test_score</th>\n",
       "      <th>split4_test_score</th>\n",
       "      <th>mean_test_score</th>\n",
       "      <th>std_test_score</th>\n",
       "      <th>rank_test_score</th>\n",
       "    </tr>\n",
       "  </thead>\n",
       "  <tbody>\n",
       "    <tr>\n",
       "      <th>0</th>\n",
       "      <td>16.384030</td>\n",
       "      <td>0.165592</td>\n",
       "      <td>0.0238</td>\n",
       "      <td>0.006766</td>\n",
       "      <td>0.837086</td>\n",
       "      <td>0.580429</td>\n",
       "      <td>5</td>\n",
       "      <td>4</td>\n",
       "      <td>850</td>\n",
       "      <td>0.837165</td>\n",
       "      <td>11</td>\n",
       "      <td>{'classifier__colsample_bytree': 0.83708610696...</td>\n",
       "      <td>0.790625</td>\n",
       "      <td>0.805469</td>\n",
       "      <td>0.807813</td>\n",
       "      <td>0.794531</td>\n",
       "      <td>0.800781</td>\n",
       "      <td>0.799844</td>\n",
       "      <td>0.006469</td>\n",
       "      <td>22</td>\n",
       "    </tr>\n",
       "    <tr>\n",
       "      <th>1</th>\n",
       "      <td>0.423614</td>\n",
       "      <td>0.455701</td>\n",
       "      <td>0.0000</td>\n",
       "      <td>0.000000</td>\n",
       "      <td>0.913324</td>\n",
       "      <td>0.210225</td>\n",
       "      <td>5</td>\n",
       "      <td>2</td>\n",
       "      <td>458</td>\n",
       "      <td>1.172919</td>\n",
       "      <td>12</td>\n",
       "      <td>{'classifier__colsample_bytree': 0.91332400276...</td>\n",
       "      <td>NaN</td>\n",
       "      <td>NaN</td>\n",
       "      <td>NaN</td>\n",
       "      <td>NaN</td>\n",
       "      <td>NaN</td>\n",
       "      <td>NaN</td>\n",
       "      <td>NaN</td>\n",
       "      <td>78</td>\n",
       "    </tr>\n",
       "    <tr>\n",
       "      <th>2</th>\n",
       "      <td>0.046200</td>\n",
       "      <td>0.001327</td>\n",
       "      <td>0.0000</td>\n",
       "      <td>0.000000</td>\n",
       "      <td>1.344697</td>\n",
       "      <td>0.010467</td>\n",
       "      <td>6</td>\n",
       "      <td>1</td>\n",
       "      <td>310</td>\n",
       "      <td>0.573818</td>\n",
       "      <td>12</td>\n",
       "      <td>{'classifier__colsample_bytree': 1.34469743811...</td>\n",
       "      <td>NaN</td>\n",
       "      <td>NaN</td>\n",
       "      <td>NaN</td>\n",
       "      <td>NaN</td>\n",
       "      <td>NaN</td>\n",
       "      <td>NaN</td>\n",
       "      <td>NaN</td>\n",
       "      <td>77</td>\n",
       "    </tr>\n",
       "    <tr>\n",
       "      <th>3</th>\n",
       "      <td>0.051800</td>\n",
       "      <td>0.007332</td>\n",
       "      <td>0.0000</td>\n",
       "      <td>0.000000</td>\n",
       "      <td>0.520756</td>\n",
       "      <td>0.324865</td>\n",
       "      <td>9</td>\n",
       "      <td>2</td>\n",
       "      <td>625</td>\n",
       "      <td>1.17638</td>\n",
       "      <td>15</td>\n",
       "      <td>{'classifier__colsample_bytree': 0.52075618253...</td>\n",
       "      <td>NaN</td>\n",
       "      <td>NaN</td>\n",
       "      <td>NaN</td>\n",
       "      <td>NaN</td>\n",
       "      <td>NaN</td>\n",
       "      <td>NaN</td>\n",
       "      <td>NaN</td>\n",
       "      <td>76</td>\n",
       "    </tr>\n",
       "    <tr>\n",
       "      <th>4</th>\n",
       "      <td>0.040599</td>\n",
       "      <td>0.008523</td>\n",
       "      <td>0.0000</td>\n",
       "      <td>0.000000</td>\n",
       "      <td>0.910463</td>\n",
       "      <td>0.481106</td>\n",
       "      <td>5</td>\n",
       "      <td>4</td>\n",
       "      <td>716</td>\n",
       "      <td>1.184908</td>\n",
       "      <td>3</td>\n",
       "      <td>{'classifier__colsample_bytree': 0.91046298579...</td>\n",
       "      <td>NaN</td>\n",
       "      <td>NaN</td>\n",
       "      <td>NaN</td>\n",
       "      <td>NaN</td>\n",
       "      <td>NaN</td>\n",
       "      <td>NaN</td>\n",
       "      <td>NaN</td>\n",
       "      <td>75</td>\n",
       "    </tr>\n",
       "    <tr>\n",
       "      <th>...</th>\n",
       "      <td>...</td>\n",
       "      <td>...</td>\n",
       "      <td>...</td>\n",
       "      <td>...</td>\n",
       "      <td>...</td>\n",
       "      <td>...</td>\n",
       "      <td>...</td>\n",
       "      <td>...</td>\n",
       "      <td>...</td>\n",
       "      <td>...</td>\n",
       "      <td>...</td>\n",
       "      <td>...</td>\n",
       "      <td>...</td>\n",
       "      <td>...</td>\n",
       "      <td>...</td>\n",
       "      <td>...</td>\n",
       "      <td>...</td>\n",
       "      <td>...</td>\n",
       "      <td>...</td>\n",
       "      <td>...</td>\n",
       "    </tr>\n",
       "    <tr>\n",
       "      <th>95</th>\n",
       "      <td>0.035000</td>\n",
       "      <td>0.001788</td>\n",
       "      <td>0.0000</td>\n",
       "      <td>0.000000</td>\n",
       "      <td>1.153509</td>\n",
       "      <td>0.464249</td>\n",
       "      <td>5</td>\n",
       "      <td>1</td>\n",
       "      <td>234</td>\n",
       "      <td>0.70549</td>\n",
       "      <td>14</td>\n",
       "      <td>{'classifier__colsample_bytree': 1.15350875966...</td>\n",
       "      <td>NaN</td>\n",
       "      <td>NaN</td>\n",
       "      <td>NaN</td>\n",
       "      <td>NaN</td>\n",
       "      <td>NaN</td>\n",
       "      <td>NaN</td>\n",
       "      <td>NaN</td>\n",
       "      <td>49</td>\n",
       "    </tr>\n",
       "    <tr>\n",
       "      <th>96</th>\n",
       "      <td>6.253240</td>\n",
       "      <td>1.374882</td>\n",
       "      <td>0.0126</td>\n",
       "      <td>0.001744</td>\n",
       "      <td>0.726298</td>\n",
       "      <td>0.174839</td>\n",
       "      <td>6</td>\n",
       "      <td>2</td>\n",
       "      <td>598</td>\n",
       "      <td>0.904531</td>\n",
       "      <td>2</td>\n",
       "      <td>{'classifier__colsample_bytree': 0.72629819556...</td>\n",
       "      <td>0.800000</td>\n",
       "      <td>0.797656</td>\n",
       "      <td>0.802344</td>\n",
       "      <td>0.803906</td>\n",
       "      <td>0.808594</td>\n",
       "      <td>0.802500</td>\n",
       "      <td>0.003711</td>\n",
       "      <td>18</td>\n",
       "    </tr>\n",
       "    <tr>\n",
       "      <th>97</th>\n",
       "      <td>9.329741</td>\n",
       "      <td>0.423306</td>\n",
       "      <td>0.0082</td>\n",
       "      <td>0.000749</td>\n",
       "      <td>0.822346</td>\n",
       "      <td>0.078135</td>\n",
       "      <td>4</td>\n",
       "      <td>2</td>\n",
       "      <td>823</td>\n",
       "      <td>0.72859</td>\n",
       "      <td>3</td>\n",
       "      <td>{'classifier__colsample_bytree': 0.82234644622...</td>\n",
       "      <td>0.822656</td>\n",
       "      <td>0.821094</td>\n",
       "      <td>0.818750</td>\n",
       "      <td>0.820312</td>\n",
       "      <td>0.821094</td>\n",
       "      <td>0.820781</td>\n",
       "      <td>0.001269</td>\n",
       "      <td>7</td>\n",
       "    </tr>\n",
       "    <tr>\n",
       "      <th>98</th>\n",
       "      <td>7.459398</td>\n",
       "      <td>1.045633</td>\n",
       "      <td>0.0090</td>\n",
       "      <td>0.002450</td>\n",
       "      <td>0.968147</td>\n",
       "      <td>0.521309</td>\n",
       "      <td>8</td>\n",
       "      <td>4</td>\n",
       "      <td>538</td>\n",
       "      <td>0.379567</td>\n",
       "      <td>17</td>\n",
       "      <td>{'classifier__colsample_bytree': 0.96814715100...</td>\n",
       "      <td>0.766406</td>\n",
       "      <td>0.772656</td>\n",
       "      <td>0.779687</td>\n",
       "      <td>0.782031</td>\n",
       "      <td>0.782813</td>\n",
       "      <td>0.776719</td>\n",
       "      <td>0.006277</td>\n",
       "      <td>37</td>\n",
       "    </tr>\n",
       "    <tr>\n",
       "      <th>99</th>\n",
       "      <td>0.032799</td>\n",
       "      <td>0.002314</td>\n",
       "      <td>0.0000</td>\n",
       "      <td>0.000000</td>\n",
       "      <td>0.620614</td>\n",
       "      <td>0.02727</td>\n",
       "      <td>9</td>\n",
       "      <td>1</td>\n",
       "      <td>727</td>\n",
       "      <td>1.02454</td>\n",
       "      <td>7</td>\n",
       "      <td>{'classifier__colsample_bytree': 0.62061370560...</td>\n",
       "      <td>NaN</td>\n",
       "      <td>NaN</td>\n",
       "      <td>NaN</td>\n",
       "      <td>NaN</td>\n",
       "      <td>NaN</td>\n",
       "      <td>NaN</td>\n",
       "      <td>NaN</td>\n",
       "      <td>100</td>\n",
       "    </tr>\n",
       "  </tbody>\n",
       "</table>\n",
       "<p>100 rows × 20 columns</p>\n",
       "</div>"
      ],
      "text/plain": [
       "    mean_fit_time  std_fit_time  mean_score_time  std_score_time  \\\n",
       "0       16.384030      0.165592           0.0238        0.006766   \n",
       "1        0.423614      0.455701           0.0000        0.000000   \n",
       "2        0.046200      0.001327           0.0000        0.000000   \n",
       "3        0.051800      0.007332           0.0000        0.000000   \n",
       "4        0.040599      0.008523           0.0000        0.000000   \n",
       "..            ...           ...              ...             ...   \n",
       "95       0.035000      0.001788           0.0000        0.000000   \n",
       "96       6.253240      1.374882           0.0126        0.001744   \n",
       "97       9.329741      0.423306           0.0082        0.000749   \n",
       "98       7.459398      1.045633           0.0090        0.002450   \n",
       "99       0.032799      0.002314           0.0000        0.000000   \n",
       "\n",
       "   param_classifier__colsample_bytree param_classifier__learning_rate  \\\n",
       "0                            0.837086                        0.580429   \n",
       "1                            0.913324                        0.210225   \n",
       "2                            1.344697                        0.010467   \n",
       "3                            0.520756                        0.324865   \n",
       "4                            0.910463                        0.481106   \n",
       "..                                ...                             ...   \n",
       "95                           1.153509                        0.464249   \n",
       "96                           0.726298                        0.174839   \n",
       "97                           0.822346                        0.078135   \n",
       "98                           0.968147                        0.521309   \n",
       "99                           0.620614                         0.02727   \n",
       "\n",
       "   param_classifier__max_depth param_classifier__min_child_weight  \\\n",
       "0                            5                                  4   \n",
       "1                            5                                  2   \n",
       "2                            6                                  1   \n",
       "3                            9                                  2   \n",
       "4                            5                                  4   \n",
       "..                         ...                                ...   \n",
       "95                           5                                  1   \n",
       "96                           6                                  2   \n",
       "97                           4                                  2   \n",
       "98                           8                                  4   \n",
       "99                           9                                  1   \n",
       "\n",
       "   param_classifier__n_estimators param_classifier__subsample  \\\n",
       "0                             850                    0.837165   \n",
       "1                             458                    1.172919   \n",
       "2                             310                    0.573818   \n",
       "3                             625                     1.17638   \n",
       "4                             716                    1.184908   \n",
       "..                            ...                         ...   \n",
       "95                            234                     0.70549   \n",
       "96                            598                    0.904531   \n",
       "97                            823                     0.72859   \n",
       "98                            538                    0.379567   \n",
       "99                            727                     1.02454   \n",
       "\n",
       "   param_pca__n_components                                             params  \\\n",
       "0                       11  {'classifier__colsample_bytree': 0.83708610696...   \n",
       "1                       12  {'classifier__colsample_bytree': 0.91332400276...   \n",
       "2                       12  {'classifier__colsample_bytree': 1.34469743811...   \n",
       "3                       15  {'classifier__colsample_bytree': 0.52075618253...   \n",
       "4                        3  {'classifier__colsample_bytree': 0.91046298579...   \n",
       "..                     ...                                                ...   \n",
       "95                      14  {'classifier__colsample_bytree': 1.15350875966...   \n",
       "96                       2  {'classifier__colsample_bytree': 0.72629819556...   \n",
       "97                       3  {'classifier__colsample_bytree': 0.82234644622...   \n",
       "98                      17  {'classifier__colsample_bytree': 0.96814715100...   \n",
       "99                       7  {'classifier__colsample_bytree': 0.62061370560...   \n",
       "\n",
       "    split0_test_score  split1_test_score  split2_test_score  \\\n",
       "0            0.790625           0.805469           0.807813   \n",
       "1                 NaN                NaN                NaN   \n",
       "2                 NaN                NaN                NaN   \n",
       "3                 NaN                NaN                NaN   \n",
       "4                 NaN                NaN                NaN   \n",
       "..                ...                ...                ...   \n",
       "95                NaN                NaN                NaN   \n",
       "96           0.800000           0.797656           0.802344   \n",
       "97           0.822656           0.821094           0.818750   \n",
       "98           0.766406           0.772656           0.779687   \n",
       "99                NaN                NaN                NaN   \n",
       "\n",
       "    split3_test_score  split4_test_score  mean_test_score  std_test_score  \\\n",
       "0            0.794531           0.800781         0.799844        0.006469   \n",
       "1                 NaN                NaN              NaN             NaN   \n",
       "2                 NaN                NaN              NaN             NaN   \n",
       "3                 NaN                NaN              NaN             NaN   \n",
       "4                 NaN                NaN              NaN             NaN   \n",
       "..                ...                ...              ...             ...   \n",
       "95                NaN                NaN              NaN             NaN   \n",
       "96           0.803906           0.808594         0.802500        0.003711   \n",
       "97           0.820312           0.821094         0.820781        0.001269   \n",
       "98           0.782031           0.782813         0.776719        0.006277   \n",
       "99                NaN                NaN              NaN             NaN   \n",
       "\n",
       "    rank_test_score  \n",
       "0                22  \n",
       "1                78  \n",
       "2                77  \n",
       "3                76  \n",
       "4                75  \n",
       "..              ...  \n",
       "95               49  \n",
       "96               18  \n",
       "97                7  \n",
       "98               37  \n",
       "99              100  \n",
       "\n",
       "[100 rows x 20 columns]"
      ]
     },
     "execution_count": 47,
     "metadata": {},
     "output_type": "execute_result"
    }
   ],
   "source": [
    "pd.DataFrame(cv.cv_results_)"
   ]
  },
  {
   "cell_type": "markdown",
   "metadata": {},
   "source": [
    "## Predictions with the best model"
   ]
  },
  {
   "cell_type": "code",
   "execution_count": 48,
   "metadata": {},
   "outputs": [],
   "source": [
    "preds = cv.predict(X_val)\n",
    "probs = cv.predict_proba(X_val)"
   ]
  },
  {
   "cell_type": "code",
   "execution_count": 49,
   "metadata": {},
   "outputs": [
    {
     "data": {
      "text/plain": [
       "1600"
      ]
     },
     "execution_count": 49,
     "metadata": {},
     "output_type": "execute_result"
    }
   ],
   "source": [
    "len(probs[:, 1])"
   ]
  },
  {
   "cell_type": "code",
   "execution_count": 50,
   "metadata": {},
   "outputs": [
    {
     "data": {
      "text/plain": [
       "0.7007032940781672"
      ]
     },
     "execution_count": 50,
     "metadata": {},
     "output_type": "execute_result"
    }
   ],
   "source": [
    "fpr, tpr, thresholds = roc_curve(y_val, probs[:, 1])\n",
    "roc_auc_score(y_val, probs[:, 1])"
   ]
  },
  {
   "cell_type": "code",
   "execution_count": 51,
   "metadata": {},
   "outputs": [
    {
     "data": {
      "text/plain": [
       "array([[   3,  260],\n",
       "       [   2, 1335]], dtype=int64)"
      ]
     },
     "execution_count": 51,
     "metadata": {},
     "output_type": "execute_result"
    }
   ],
   "source": [
    "confusion_matrix(y_val, preds)"
   ]
  },
  {
   "cell_type": "markdown",
   "metadata": {},
   "source": [
    "## Predict on test set"
   ]
  },
  {
   "cell_type": "code",
   "execution_count": 68,
   "metadata": {},
   "outputs": [],
   "source": [
    "preds = cv.predict(X_test)"
   ]
  },
  {
   "cell_type": "markdown",
   "metadata": {},
   "source": [
    "## Save predictions"
   ]
  },
  {
   "cell_type": "code",
   "execution_count": 81,
   "metadata": {},
   "outputs": [],
   "source": [
    "pred_name = 'TARGET_5Yrs'\n",
    "pred_path = processed_data_dir / 'preds_randomised_xgb.csv'\n",
    "make_dataset.save_predictions(preds, pred_name, test_id, pred_path)"
   ]
  },
  {
   "cell_type": "code",
   "execution_count": 83,
   "metadata": {},
   "outputs": [
    {
     "data": {
      "text/plain": [
       "'preds_randomised_xgb'"
      ]
     },
     "execution_count": 83,
     "metadata": {},
     "output_type": "execute_result"
    }
   ],
   "source": [
    "pred_path.stem"
   ]
  },
  {
   "cell_type": "markdown",
   "metadata": {},
   "source": [
    "## Submit predictions"
   ]
  },
  {
   "cell_type": "code",
   "execution_count": 85,
   "metadata": {},
   "outputs": [
    {
     "name": "stderr",
     "output_type": "stream",
     "text": [
      "100%|██████████████████████████████████████████████████████████████████████████| 28.6k/28.6k [00:07<00:00, 3.68kB/s]\n"
     ]
    },
    {
     "data": {
      "text/plain": [
       "Successfully submitted to [UTS AdvDSI] NBA Career Prediction"
      ]
     },
     "execution_count": 85,
     "metadata": {},
     "output_type": "execute_result"
    }
   ],
   "source": [
    "api.competition_submit(file_name=pred_path,\n",
    "                       message=pred_path.stem,\n",
    "                       competition=competition,\n",
    "                       quiet=False)"
   ]
  },
  {
   "cell_type": "markdown",
   "metadata": {},
   "source": [
    "## Predictions 2nd best model"
   ]
  },
  {
   "cell_type": "markdown",
   "metadata": {},
   "source": [
    "There's a very small difference in the `mean_test_score`s of the first and second. The second ranked model uses only 2 `pca_n_components`. The best model on the training set might be overfitting due to the large number of components. Let's try the second best model on the validation set."
   ]
  },
  {
   "cell_type": "code",
   "execution_count": 53,
   "metadata": {},
   "outputs": [
    {
     "data": {
      "text/plain": [
       "sklearn.model_selection._search.RandomizedSearchCV"
      ]
     },
     "execution_count": 53,
     "metadata": {},
     "output_type": "execute_result"
    }
   ],
   "source": [
    "type(cv)"
   ]
  },
  {
   "cell_type": "code",
   "execution_count": 61,
   "metadata": {},
   "outputs": [],
   "source": [
    "def get_parameters(cv: RandomizedSearchCV,\n",
    "                   step: str,\n",
    "                   nth: int) -> Dict[str, float]:\n",
    "    \"\"\"\n",
    "    Extract the parameters of the non-first ranked model from a RandomizedSearchCV object,\n",
    "    so that they may be used to fit another model.\n",
    "    \"\"\"\n",
    "    key_list = [key for key in cv.cv_results_.keys() if step in key]\n",
    "    return key_list"
   ]
  }
 ],
 "metadata": {
  "kernelspec": {
   "display_name": "Python 3",
   "language": "python",
   "name": "python3"
  },
  "language_info": {
   "codemirror_mode": {
    "name": "ipython",
    "version": 3
   },
   "file_extension": ".py",
   "mimetype": "text/x-python",
   "name": "python",
   "nbconvert_exporter": "python",
   "pygments_lexer": "ipython3",
   "version": "3.7.3"
  }
 },
 "nbformat": 4,
 "nbformat_minor": 4
}
