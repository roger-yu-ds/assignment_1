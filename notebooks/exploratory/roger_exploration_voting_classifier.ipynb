{
 "cells": [
  {
   "cell_type": "markdown",
   "metadata": {},
   "source": [
    "# Introduction\n",
    "\n",
    "This notebook implements the [VotingClassifier](#https://scikit-learn.org/stable/modules/generated/sklearn.ensemble.VotingClassifier.html), in which multiple:\n",
    "* predictions are gathered and the plurality vote wins\n",
    "* probabilities are gathered and aggregated to produce an ensembled set of probabilities\n",
    "\n",
    "\n",
    "## Summary\n",
    "* the [results](#Results-of-test-AUC) show that the test AUC is the highest so far at 0.69658\n",
    "* the VotingClassifier is heavily overfit with a training and validation AUC of 0.993 and 0.698, respectively\n",
    "* the class 0 f1-score are also the highest at 0.09, while maintaining the class 1 f1-score at 0.91"
   ]
  },
  {
   "cell_type": "code",
   "execution_count": 1,
   "metadata": {},
   "outputs": [],
   "source": [
    "import pandas as pd\n",
    "import numpy as np\n",
    "from pathlib import Path\n",
    "import os\n",
    "from sklearn.calibration import CalibratedClassifierCV\n",
    "from sklearn.ensemble import VotingClassifier\n",
    "from sklearn.preprocessing import StandardScaler, LabelEncoder\n",
    "from sklearn.model_selection import train_test_split\n",
    "from sklearn.model_selection import RandomizedSearchCV\n",
    "from sklearn.model_selection import GridSearchCV\n",
    "from sklearn.decomposition import PCA\n",
    "from sklearn.manifold import TSNE\n",
    "from sklearn.metrics import roc_auc_score\n",
    "from sklearn.metrics import roc_curve\n",
    "from sklearn.metrics import precision_recall_curve\n",
    "from sklearn.metrics import confusion_matrix\n",
    "from sklearn.metrics import plot_confusion_matrix\n",
    "from sklearn.metrics import plot_roc_curve\n",
    "from sklearn.metrics import classification_report\n",
    "from sklearn.pipeline import Pipeline\n",
    "from scipy import stats\n",
    "from joblib import dump\n",
    "from joblib import load\n",
    "import xgboost as xgb\n",
    "import matplotlib.pyplot as plt\n",
    "from typing import Dict\n",
    "from kaggle.api.kaggle_api_extended import KaggleApi\n",
    "from dotenv import find_dotenv, load_dotenv\n",
    "from collections import Counter\n",
    "from imblearn.over_sampling import SMOTE\n",
    "import matplotlib.pyplot as plt\n",
    "import seaborn as sns\n",
    "from hyperopt import Trials, STATUS_OK, tpe, hp, fmin\n",
    "from datetime import datetime\n",
    "\n",
    "from src.data.make_dataset import load_sets, save_sets, save_predictions, make_adversarial_validation_dataset, load_estimators\n",
    "from src.models.null import NullModel\n",
    "from src.visualization.visualize import classification_reports, classification_reports_2\n",
    "from src.visualization.visualize import plot_pie, create_feature_importance_df, plot_feature_importances\n"
   ]
  },
  {
   "cell_type": "code",
   "execution_count": 2,
   "metadata": {},
   "outputs": [],
   "source": [
    "%load_ext autoreload\n",
    "%autoreload 2"
   ]
  },
  {
   "cell_type": "code",
   "execution_count": 3,
   "metadata": {},
   "outputs": [],
   "source": [
    "load_dotenv(find_dotenv())\n",
    "api = KaggleApi()\n",
    "api.authenticate()"
   ]
  },
  {
   "cell_type": "code",
   "execution_count": 4,
   "metadata": {},
   "outputs": [],
   "source": [
    "competition = os.environ['COMPETITION']"
   ]
  },
  {
   "cell_type": "markdown",
   "metadata": {},
   "source": [
    "# Set up directories"
   ]
  },
  {
   "cell_type": "code",
   "execution_count": 5,
   "metadata": {
    "collapsed": false,
    "jupyter": {
     "outputs_hidden": false
    },
    "pycharm": {
     "name": "#%%\n"
    }
   },
   "outputs": [],
   "source": [
    "project_dir = Path.cwd().parent.parent\n",
    "data_dir = project_dir / 'data'\n",
    "raw_data_dir = data_dir / 'raw'\n",
    "interim_data_dir = data_dir / 'interim'\n",
    "processed_data_dir = data_dir / 'processed'\n",
    "models_dir = project_dir / 'models'"
   ]
  },
  {
   "cell_type": "markdown",
   "metadata": {},
   "source": [
    "# Load data"
   ]
  },
  {
   "cell_type": "code",
   "execution_count": 6,
   "metadata": {},
   "outputs": [],
   "source": [
    "X_train, X_val, y_train, y_val, X_test = load_sets(interim_data_dir)\n",
    "X_train_lim, X_val_lim, y_train_lim, y_val_lim, X_test_lim = load_sets(interim_data_dir, suffix='top_8_features')\n",
    "test_id = pd.read_csv(interim_data_dir / 'test_id.csv')"
   ]
  },
  {
   "cell_type": "code",
   "execution_count": 7,
   "metadata": {},
   "outputs": [],
   "source": [
    "target = 'TARGET_5Yrs'"
   ]
  },
  {
   "cell_type": "markdown",
   "metadata": {},
   "source": [
    "# Baseline"
   ]
  },
  {
   "cell_type": "code",
   "execution_count": 8,
   "metadata": {},
   "outputs": [
    {
     "data": {
      "image/png": "[encoded data removed]",
      "text/plain": [
       "<Figure size 432x288 with 1 Axes>"
      ]
     },
     "metadata": {},
     "output_type": "display_data"
    }
   ],
   "source": [
    "plot_pie(y_train)"
   ]
  },
  {
   "cell_type": "markdown",
   "metadata": {},
   "source": [
    "# Load estimators\n",
    "\n",
    "Note that some estimators are not compatible with the `VotingClassifier`, so these are popped from the list."
   ]
  },
  {
   "cell_type": "code",
   "execution_count": 17,
   "metadata": {},
   "outputs": [
    {
     "name": "stdout",
     "output_type": "stream",
     "text": [
      "Loading 10906675_xgb_es_spw.joblib\n",
      "Loading 10906675_xgb_es_spw_1_comp.joblib\n",
      "Loading 10906675_xgb_es_spw_cal.joblib\n",
      "Loading exploratory_xgb.joblib\n",
      "Loading randomised_xgb.joblib\n",
      "Loading xgb_top_8_features_early_stopping.joblib\n",
      "Loading brackenrig_mark_12964298_week1_votingclassifier.sav\n",
      "Loading brackenrig_mark_12964298_week2_SMOTE.sav\n"
     ]
    }
   ],
   "source": [
    "estimator_list = load_estimators(models_dir)"
   ]
  },
  {
   "cell_type": "markdown",
   "metadata": {},
   "source": [
    "Changing the `RandomisedSearchCV` object to the actual estimator object (`Pipeline`)."
   ]
  },
  {
   "cell_type": "code",
   "execution_count": 18,
   "metadata": {},
   "outputs": [],
   "source": [
    "estimator_list[4] = ('randomised_xgb.joblib', estimator_list[4][1].best_estimator_)"
   ]
  },
  {
   "cell_type": "markdown",
   "metadata": {},
   "source": [
    "The `VotingClassifier` throws an error for `CalibratedClassifierCV` objects, saying that it's not yet fitted, so they're excluded for now."
   ]
  },
  {
   "cell_type": "code",
   "execution_count": 19,
   "metadata": {},
   "outputs": [
    {
     "data": {
      "text/plain": [
       "('10906675_xgb_es_spw_cal',\n",
       " CalibratedClassifierCV(base_estimator=Pipeline(steps=[('scaler',\n",
       "                                                        StandardScaler()),\n",
       "                                                       ('pca',\n",
       "                                                        PCA(n_components=8)),\n",
       "                                                       ('classifier',\n",
       "                                                        XGBClassifier(base_score=0.5,\n",
       "                                                                      booster='gbtree',\n",
       "                                                                      colsample_bylevel=1,\n",
       "                                                                      colsample_bynode=1,\n",
       "                                                                      colsample_bytree=0.590700201239684,\n",
       "                                                                      eval_metric='logloss',\n",
       "                                                                      gamma=0,\n",
       "                                                                      gpu_id=-1,\n",
       "                                                                      importance_type='gain',\n",
       "                                                                      interaction_constraints='',\n",
       "                                                                      learning_rate=0.020933095390929836,\n",
       "                                                                      max_delta_step=0,\n",
       "                                                                      max_depth=5,\n",
       "                                                                      min_child_weight=2,\n",
       "                                                                      missing=nan,\n",
       "                                                                      monotone_constraints='()',\n",
       "                                                                      n_estimators=184,\n",
       "                                                                      n_jobs=8,\n",
       "                                                                      num_parallel_tree=1,\n",
       "                                                                      random_state=0,\n",
       "                                                                      reg_alpha=0,\n",
       "                                                                      reg_lambda=1,\n",
       "                                                                      scale_pos_weight=0.5,\n",
       "                                                                      subsample=0.6028987933998539,\n",
       "                                                                      tree_method='exact',\n",
       "                                                                      use_label_encoder=False,\n",
       "                                                                      validate_parameters=1,\n",
       "                                                                      verbosity=None))]),\n",
       "                        cv='prefit'))"
      ]
     },
     "execution_count": 19,
     "metadata": {},
     "output_type": "execute_result"
    }
   ],
   "source": [
    "# Drop the one that is already a voting classifier\n",
    "estimator_list.pop(7)\n",
    "estimator_list.pop(6)\n",
    "estimator_list.pop(2)"
   ]
  },
  {
   "cell_type": "code",
   "execution_count": 22,
   "metadata": {},
   "outputs": [
    {
     "name": "stdout",
     "output_type": "stream",
     "text": [
      "Started: 2021-02-21 14:45:04.339028\n",
      "Started: 2021-02-21 14:45:09.569773\n",
      "Run time: 0:00:05.230745\n"
     ]
    }
   ],
   "source": [
    "clf = VotingClassifier(estimators=estimator_list,\n",
    "                       voting='soft',\n",
    "                       n_jobs=-1,\n",
    "                       verbose=True)\n",
    "\n",
    "start = datetime.now()\n",
    "print(f'Started: {start}')\n",
    "\n",
    "clf.fit(X_train, y_train)\n",
    "\n",
    "end = datetime.now()\n",
    "print(f'Started: {end}')\n",
    "print(f'Run time: {end - start}')"
   ]
  },
  {
   "cell_type": "code",
   "execution_count": 23,
   "metadata": {},
   "outputs": [
    {
     "name": "stdout",
     "output_type": "stream",
     "text": [
      " class 1 :  5332\n",
      " class 0 :  1068\n",
      "Confusion Matrix: \n",
      " [[ 396  672]\n",
      " [   0 5332]]\n",
      "Accuracy:  0.895\n",
      "AUC:  0.9934539463517564\n",
      "              precision    recall  f1-score   support\n",
      "\n",
      "           0       1.00      0.37      0.54      1068\n",
      "           1       0.89      1.00      0.94      5332\n",
      "\n",
      "    accuracy                           0.90      6400\n",
      "   macro avg       0.94      0.69      0.74      6400\n",
      "weighted avg       0.91      0.90      0.87      6400\n",
      "\n"
     ]
    },
    {
     "data": {
      "image/png": "[encoded data removed]",
      "text/plain": [
       "<Figure size 432x288 with 1 Axes>"
      ]
     },
     "metadata": {
      "needs_background": "light"
     },
     "output_type": "display_data"
    }
   ],
   "source": [
    "classification_reports(clf, X_train, y_train)"
   ]
  },
  {
   "cell_type": "code",
   "execution_count": 24,
   "metadata": {},
   "outputs": [
    {
     "name": "stdout",
     "output_type": "stream",
     "text": [
      " class 1 :  1337\n",
      " class 0 :  263\n",
      "Confusion Matrix: \n",
      " [[  13  250]\n",
      " [  22 1315]]\n",
      "Accuracy:  0.83\n",
      "AUC:  0.697569326936476\n",
      "              precision    recall  f1-score   support\n",
      "\n",
      "           0       0.37      0.05      0.09       263\n",
      "           1       0.84      0.98      0.91      1337\n",
      "\n",
      "    accuracy                           0.83      1600\n",
      "   macro avg       0.61      0.52      0.50      1600\n",
      "weighted avg       0.76      0.83      0.77      1600\n",
      "\n"
     ]
    },
    {
     "data": {
      "image/png": "[encoded data removed]",
      "text/plain": [
       "<Figure size 432x288 with 1 Axes>"
      ]
     },
     "metadata": {
      "needs_background": "light"
     },
     "output_type": "display_data"
    }
   ],
   "source": [
    "classification_reports(clf, X_val, y_val)"
   ]
  },
  {
   "cell_type": "markdown",
   "metadata": {},
   "source": [
    "# Save model"
   ]
  },
  {
   "cell_type": "code",
   "execution_count": 25,
   "metadata": {},
   "outputs": [
    {
     "data": {
      "text/plain": [
       "['D:\\\\Projects\\\\assignment_1\\\\models\\\\10906675_voting_classifier.joblib']"
      ]
     },
     "execution_count": 25,
     "metadata": {},
     "output_type": "execute_result"
    }
   ],
   "source": [
    "model_name = '10906675_voting_classifier'\n",
    "model_path = models_dir / model_name\n",
    "dump(clf, model_path.with_suffix('.joblib'))"
   ]
  },
  {
   "cell_type": "markdown",
   "metadata": {},
   "source": [
    "# Prediction on test set"
   ]
  },
  {
   "cell_type": "code",
   "execution_count": 26,
   "metadata": {},
   "outputs": [],
   "source": [
    "probs = clf.predict_proba(X_test)[:, 1]"
   ]
  },
  {
   "cell_type": "code",
   "execution_count": 35,
   "metadata": {},
   "outputs": [
    {
     "data": {
      "text/plain": [
       "array([0.65319955, 0.65564203, 0.72314936, ..., 0.60709983, 0.72595614,\n",
       "       0.6344749 ], dtype=float32)"
      ]
     },
     "execution_count": 35,
     "metadata": {},
     "output_type": "execute_result"
    }
   ],
   "source": [
    "probs"
   ]
  },
  {
   "cell_type": "code",
   "execution_count": 28,
   "metadata": {},
   "outputs": [],
   "source": [
    "path = processed_data_dir / f'probs_{model_name}.csv'\n",
    "save_predictions(probs, 'TARGET_5Yrs', test_id, path)"
   ]
  },
  {
   "cell_type": "markdown",
   "metadata": {},
   "source": [
    "## Submit predictions"
   ]
  },
  {
   "cell_type": "code",
   "execution_count": 29,
   "metadata": {},
   "outputs": [
    {
     "name": "stderr",
     "output_type": "stream",
     "text": [
      "100%|█████████████████████████████████████████████████████████████████████████████| 59.5k/59.5k [00:07<00:00, 8.10kB/s]\n"
     ]
    },
    {
     "data": {
      "text/plain": [
       "Successfully submitted to [UTS AdvDSI] NBA Career Prediction"
      ]
     },
     "execution_count": 29,
     "metadata": {},
     "output_type": "execute_result"
    }
   ],
   "source": [
    "api.competition_submit(file_name=path,\n",
    "                       message=model_name,\n",
    "                       competition=competition,\n",
    "                       quiet=False)"
   ]
  },
  {
   "cell_type": "markdown",
   "metadata": {},
   "source": [
    "# Results of test AUC\n",
    "\n",
    "The test AUC is 0.69658."
   ]
  }
 ],
 "metadata": {
  "kernelspec": {
   "display_name": "Python 3",
   "language": "python",
   "name": "python3"
  },
  "language_info": {
   "codemirror_mode": {
    "name": "ipython",
    "version": 3
   },
   "file_extension": ".py",
   "mimetype": "text/x-python",
   "name": "python",
   "nbconvert_exporter": "python",
   "pygments_lexer": "ipython3",
   "version": "3.8.7"
  },
  "toc-autonumbering": true
 },
 "nbformat": 4,
 "nbformat_minor": 4
}
