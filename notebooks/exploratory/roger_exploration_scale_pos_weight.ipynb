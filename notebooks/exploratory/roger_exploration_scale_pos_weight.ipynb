{
 "cells": [
  {
   "cell_type": "markdown",
   "metadata": {},
   "source": [
    "# Introduction\n",
    "\n",
    "This notebook attempts to improve the score from `yu_roger-10906675-week1_randcv_xgb_69051.ipynb` of 0.69051 (model `randomised_xgb.joblib`) by using tuning the `scale_pos_weight` parameter. Previous experiment results have shown that the predictions are heavily weighted to the positive class, with almost no predictions of the negative class. Reducing the `scale_pos_weight` parameter in the XGB Classifier should address this.\n",
    "\n",
    "## Summary\n",
    "* the [best `scale_pos_weight`](#Best-scale_pos_weight) value was 0.1 and it improved the validation AUC slightly from 0.699 to 0.702\n",
    "* ✔ the [results of test AUC](#results-of-test-AUC) was an improvement of the [baseline score](#Baseline Score); from 0.69051 to 0.69450\n",
    "* [finer grid search of the `scale_pos_weight`](#Further-experiments:-finer-grids) shows that 0.1 is still the optimal value"
   ]
  },
  {
   "cell_type": "code",
   "execution_count": 1,
   "metadata": {},
   "outputs": [],
   "source": [
    "import pandas as pd\n",
    "import numpy as np\n",
    "from pathlib import Path\n",
    "import os\n",
    "from sklearn.calibration import CalibratedClassifierCV\n",
    "from sklearn.preprocessing import StandardScaler\n",
    "from sklearn.model_selection import train_test_split\n",
    "from sklearn.model_selection import RandomizedSearchCV\n",
    "from sklearn.model_selection import GridSearchCV\n",
    "from sklearn.decomposition import PCA\n",
    "from sklearn.metrics import roc_auc_score\n",
    "from sklearn.metrics import roc_curve\n",
    "from sklearn.metrics import precision_recall_curve\n",
    "from sklearn.metrics import confusion_matrix\n",
    "from sklearn.metrics import plot_confusion_matrix\n",
    "from sklearn.metrics import plot_roc_curve\n",
    "from sklearn.metrics import classification_report\n",
    "from sklearn.pipeline import Pipeline\n",
    "from scipy import stats\n",
    "from joblib import dump\n",
    "from joblib import load\n",
    "import xgboost as xgb\n",
    "import matplotlib.pyplot as plt\n",
    "from typing import Dict\n",
    "from kaggle.api.kaggle_api_extended import KaggleApi\n",
    "from dotenv import find_dotenv, load_dotenv\n",
    "from collections import Counter\n",
    "from imblearn.over_sampling import SMOTE\n",
    "import matplotlib.pyplot as plt\n",
    "import seaborn as sns\n",
    "from hyperopt import Trials, STATUS_OK, tpe, hp, fmin\n",
    "\n",
    "from src.data.make_dataset import load_sets, save_sets, save_predictions\n",
    "from src.models.null import NullModel\n",
    "from src.visualization.visualize import classification_reports, classification_reports_2\n",
    "from src.visualization.visualize import plot_pie, create_feature_importance_df, plot_feature_importances\n"
   ]
  },
  {
   "cell_type": "code",
   "execution_count": 2,
   "metadata": {},
   "outputs": [],
   "source": [
    "%load_ext autoreload\n",
    "%autoreload 2"
   ]
  },
  {
   "cell_type": "code",
   "execution_count": 3,
   "metadata": {},
   "outputs": [],
   "source": [
    "load_dotenv(find_dotenv())\n",
    "api = KaggleApi()\n",
    "api.authenticate()"
   ]
  },
  {
   "cell_type": "code",
   "execution_count": 4,
   "metadata": {},
   "outputs": [],
   "source": [
    "competition = os.environ['COMPETITION']"
   ]
  },
  {
   "cell_type": "markdown",
   "metadata": {},
   "source": [
    "# Set up directories"
   ]
  },
  {
   "cell_type": "code",
   "execution_count": 5,
   "metadata": {
    "collapsed": false,
    "jupyter": {
     "outputs_hidden": false
    },
    "pycharm": {
     "name": "#%%\n"
    }
   },
   "outputs": [],
   "source": [
    "project_dir = Path.cwd().parent.parent\n",
    "data_dir = project_dir / 'data'\n",
    "raw_data_dir = data_dir / 'raw'\n",
    "interim_data_dir = data_dir / 'interim'\n",
    "processed_data_dir = data_dir / 'processed'\n",
    "models_dir = project_dir / 'models'"
   ]
  },
  {
   "cell_type": "markdown",
   "metadata": {},
   "source": [
    "# Load data"
   ]
  },
  {
   "cell_type": "code",
   "execution_count": 6,
   "metadata": {},
   "outputs": [],
   "source": [
    "X_train, X_val, y_train, y_val, X_test = load_sets(interim_data_dir)\n",
    "X_train_lim, X_val_lim, y_train_lim, y_val_lim, X_test_lim = load_sets(interim_data_dir, suffix='top_8_features')\n",
    "test_id = pd.read_csv(interim_data_dir / 'test_id.csv')"
   ]
  },
  {
   "cell_type": "markdown",
   "metadata": {},
   "source": [
    "# Baseline"
   ]
  },
  {
   "cell_type": "code",
   "execution_count": 7,
   "metadata": {},
   "outputs": [
    {
     "data": {
      "image/png": "[encoded data removed]",
      "text/plain": [
       "<Figure size 432x288 with 1 Axes>"
      ]
     },
     "metadata": {},
     "output_type": "display_data"
    }
   ],
   "source": [
    "plot_pie(y_train)"
   ]
  },
  {
   "cell_type": "code",
   "execution_count": 8,
   "metadata": {},
   "outputs": [
    {
     "data": {
      "image/png": "[encoded data removed]",
      "text/plain": [
       "<Figure size 432x288 with 1 Axes>"
      ]
     },
     "metadata": {},
     "output_type": "display_data"
    }
   ],
   "source": [
    "plot_pie(y_val)"
   ]
  },
  {
   "cell_type": "markdown",
   "metadata": {},
   "source": [
    "## Baseline Score\n",
    "\n",
    "The baseline is simply the best from the previous attempt of 0.69051."
   ]
  },
  {
   "cell_type": "markdown",
   "metadata": {},
   "source": [
    "# Load best model\n",
    "\n",
    "The best model so far is `randomised_xgb.joblib` with a test AUC of 0.69051."
   ]
  },
  {
   "cell_type": "code",
   "execution_count": 9,
   "metadata": {},
   "outputs": [],
   "source": [
    "random_cv = load(models_dir / 'randomised_xgb.joblib')"
   ]
  },
  {
   "cell_type": "code",
   "execution_count": 10,
   "metadata": {},
   "outputs": [
    {
     "data": {
      "text/plain": [
       "RandomizedSearchCV(cv=5,\n",
       "                   estimator=Pipeline(steps=[('scaler', StandardScaler()),\n",
       "                                             ('pca', PCA()),\n",
       "                                             ('classifier',\n",
       "                                              XGBClassifier(base_score=None,\n",
       "                                                            booster=None,\n",
       "                                                            colsample_bylevel=None,\n",
       "                                                            colsample_bynode=None,\n",
       "                                                            colsample_bytree=None,\n",
       "                                                            eval_metric='logloss',\n",
       "                                                            gamma=None,\n",
       "                                                            gpu_id=None,\n",
       "                                                            importance_type='gain',\n",
       "                                                            interaction_constraints=None,\n",
       "                                                            learning_rate=None,\n",
       "                                                            max_delta_step=Non...\n",
       "                                        'classifier__min_child_weight': [1, 2,\n",
       "                                                                         3, 4],\n",
       "                                        'classifier__n_estimators': <scipy.stats._distn_infrastructure.rv_frozen object at 0x0000025EE80553A0>,\n",
       "                                        'classifier__subsample': <scipy.stats._distn_infrastructure.rv_frozen object at 0x0000025EE8055BB0>,\n",
       "                                        'pca__n_components': <scipy.stats._distn_infrastructure.rv_frozen object at 0x0000025EE4E90AC0>},\n",
       "                   random_state=42, scoring='roc_auc', verbose=10)"
      ]
     },
     "execution_count": 10,
     "metadata": {},
     "output_type": "execute_result"
    }
   ],
   "source": [
    "random_cv"
   ]
  },
  {
   "cell_type": "code",
   "execution_count": 11,
   "metadata": {},
   "outputs": [],
   "source": [
    "best_model = random_cv.best_estimator_"
   ]
  },
  {
   "cell_type": "markdown",
   "metadata": {},
   "source": [
    "# Find `best_ntree_limit`\n",
    "\n",
    "The score on the best model did not use the `early_stopping`, hence, didn't use the `best_ntree_limit`. This section finds the `best_ntree_limit` and uses it in the predictions.\n",
    "\n",
    "## Summary\n",
    "* Using early stopping on the best model improves the overfitting issue from a difference of 0.127 AUC to 0.053"
   ]
  },
  {
   "cell_type": "code",
   "execution_count": 12,
   "metadata": {},
   "outputs": [
    {
     "name": "stdout",
     "output_type": "stream",
     "text": [
      " class 1 :  5332\n",
      " class 0 :  1068\n",
      "Confusion Matrix: \n",
      " [[  42 1026]\n",
      " [   1 5331]]\n",
      "Accuracy:  0.83953125\n",
      "AUC:  0.8277863005077111\n",
      "              precision    recall  f1-score   support\n",
      "\n",
      "           0       0.98      0.04      0.08      1068\n",
      "           1       0.84      1.00      0.91      5332\n",
      "\n",
      "    accuracy                           0.84      6400\n",
      "   macro avg       0.91      0.52      0.49      6400\n",
      "weighted avg       0.86      0.84      0.77      6400\n",
      "\n"
     ]
    },
    {
     "data": {
      "image/png": "[encoded data removed]",
      "text/plain": [
       "<Figure size 432x288 with 1 Axes>"
      ]
     },
     "metadata": {
      "needs_background": "light"
     },
     "output_type": "display_data"
    }
   ],
   "source": [
    "classification_reports(best_model, X_train, y_train)"
   ]
  },
  {
   "cell_type": "code",
   "execution_count": 13,
   "metadata": {},
   "outputs": [
    {
     "name": "stdout",
     "output_type": "stream",
     "text": [
      " class 1 :  1337\n",
      " class 0 :  263\n",
      "Confusion Matrix: \n",
      " [[   3  260]\n",
      " [   2 1335]]\n",
      "Accuracy:  0.83625\n",
      "AUC:  0.7007032940781672\n",
      "              precision    recall  f1-score   support\n",
      "\n",
      "           0       0.60      0.01      0.02       263\n",
      "           1       0.84      1.00      0.91      1337\n",
      "\n",
      "    accuracy                           0.84      1600\n",
      "   macro avg       0.72      0.50      0.47      1600\n",
      "weighted avg       0.80      0.84      0.76      1600\n",
      "\n"
     ]
    },
    {
     "data": {
      "image/png": "[encoded data removed]",
      "text/plain": [
       "<Figure size 432x288 with 1 Axes>"
      ]
     },
     "metadata": {
      "needs_background": "light"
     },
     "output_type": "display_data"
    }
   ],
   "source": [
    "classification_reports(best_model, X_val, y_val)"
   ]
  },
  {
   "cell_type": "markdown",
   "metadata": {},
   "source": [
    "The training AUC is 0.828, while the validation AUC is 0.701; a difference of 0.127. This shows that the model is overfit."
   ]
  },
  {
   "cell_type": "markdown",
   "metadata": {},
   "source": [
    "## Separate the classifier from the pipe\n",
    "\n",
    "[sklearn.pipeline.Pipeline](#https://scikit-learn.org/stable/modules/generated/sklearn.pipeline.Pipeline.html) does not accept fit parameters, which is required to conduct early stopping. So the pipe will omit the classifier and just transform the data. This is required for the validation set because the transformation doesn't go all the way to the fit step."
   ]
  },
  {
   "cell_type": "code",
   "execution_count": 14,
   "metadata": {},
   "outputs": [],
   "source": [
    "pipe = Pipeline(random_cv.best_estimator_.steps[:-1])\n",
    "X_val_trans = pipe.transform(X_val)"
   ]
  },
  {
   "cell_type": "code",
   "execution_count": 15,
   "metadata": {},
   "outputs": [
    {
     "name": "stdout",
     "output_type": "stream",
     "text": [
      "[0]\tvalidation_0-auc:0.54107\n",
      "[1]\tvalidation_0-auc:0.57336\n",
      "[2]\tvalidation_0-auc:0.57460\n",
      "[3]\tvalidation_0-auc:0.57946\n",
      "[4]\tvalidation_0-auc:0.64009\n",
      "[5]\tvalidation_0-auc:0.63276\n",
      "[6]\tvalidation_0-auc:0.66704\n",
      "[7]\tvalidation_0-auc:0.66251\n",
      "[8]\tvalidation_0-auc:0.67700\n",
      "[9]\tvalidation_0-auc:0.67144\n",
      "[10]\tvalidation_0-auc:0.68072\n",
      "[11]\tvalidation_0-auc:0.68662\n",
      "[12]\tvalidation_0-auc:0.68042\n",
      "[13]\tvalidation_0-auc:0.68764\n",
      "[14]\tvalidation_0-auc:0.69032\n",
      "[15]\tvalidation_0-auc:0.68766\n",
      "[16]\tvalidation_0-auc:0.69311\n",
      "[17]\tvalidation_0-auc:0.69890\n",
      "[18]\tvalidation_0-auc:0.69418\n",
      "[19]\tvalidation_0-auc:0.69653\n",
      "[20]\tvalidation_0-auc:0.69561\n",
      "[21]\tvalidation_0-auc:0.69598\n",
      "[22]\tvalidation_0-auc:0.69282\n",
      "[23]\tvalidation_0-auc:0.69566\n",
      "[24]\tvalidation_0-auc:0.69459\n",
      "[25]\tvalidation_0-auc:0.69458\n",
      "[26]\tvalidation_0-auc:0.69693\n",
      "[27]\tvalidation_0-auc:0.69514\n"
     ]
    },
    {
     "data": {
      "text/plain": [
       "Pipeline(steps=[('scaler', StandardScaler()), ('pca', PCA(n_components=8)),\n",
       "                ('classifier',\n",
       "                 XGBClassifier(base_score=0.5, booster='gbtree',\n",
       "                               colsample_bylevel=1, colsample_bynode=1,\n",
       "                               colsample_bytree=0.590700201239684,\n",
       "                               eval_metric='logloss', gamma=0, gpu_id=-1,\n",
       "                               importance_type='gain',\n",
       "                               interaction_constraints='',\n",
       "                               learning_rate=0.020933095390929836,\n",
       "                               max_delta_step=0, max_depth=5,\n",
       "                               min_child_weight=2, missing=nan,\n",
       "                               monotone_constraints='()', n_estimators=184,\n",
       "                               n_jobs=8, num_parallel_tree=1, random_state=0,\n",
       "                               reg_alpha=0, reg_lambda=1, scale_pos_weight=1,\n",
       "                               subsample=0.6028987933998539,\n",
       "                               tree_method='exact', use_label_encoder=False,\n",
       "                               validate_parameters=1, verbosity=None))])"
      ]
     },
     "execution_count": 15,
     "metadata": {},
     "output_type": "execute_result"
    }
   ],
   "source": [
    "fit_params = {'classifier__eval_set': [(X_val_trans, y_val)],\n",
    "              'classifier__eval_metric': 'auc',\n",
    "              'classifier__early_stopping_rounds': 10,\n",
    "              'classifier__verbose': True}\n",
    "best_model.fit(X_train, y_train, **fit_params)"
   ]
  },
  {
   "cell_type": "code",
   "execution_count": 16,
   "metadata": {},
   "outputs": [
    {
     "data": {
      "text/plain": [
       "18"
      ]
     },
     "execution_count": 16,
     "metadata": {},
     "output_type": "execute_result"
    }
   ],
   "source": [
    "best_ntree_limit = best_model['classifier'].best_ntree_limit\n",
    "best_ntree_limit"
   ]
  },
  {
   "cell_type": "markdown",
   "metadata": {},
   "source": [
    "Note that if `best_ntree_limit` is already set, then the `.predict` method uses this parameter by default."
   ]
  },
  {
   "cell_type": "code",
   "execution_count": 17,
   "metadata": {},
   "outputs": [
    {
     "name": "stdout",
     "output_type": "stream",
     "text": [
      " class 1 :  5332\n",
      " class 0 :  1068\n",
      "Confusion Matrix: \n",
      " [[  14 1054]\n",
      " [   0 5332]]\n",
      "Accuracy:  0.8353125\n",
      "AUC:  0.7543304365417196\n",
      "              precision    recall  f1-score   support\n",
      "\n",
      "           0       1.00      0.01      0.03      1068\n",
      "           1       0.83      1.00      0.91      5332\n",
      "\n",
      "    accuracy                           0.84      6400\n",
      "   macro avg       0.92      0.51      0.47      6400\n",
      "weighted avg       0.86      0.84      0.76      6400\n",
      "\n"
     ]
    },
    {
     "data": {
      "image/png": "[encoded data removed]",
      "text/plain": [
       "<Figure size 432x288 with 1 Axes>"
      ]
     },
     "metadata": {
      "needs_background": "light"
     },
     "output_type": "display_data"
    }
   ],
   "source": [
    "classification_reports(best_model, X_train, y_train)"
   ]
  },
  {
   "cell_type": "code",
   "execution_count": 18,
   "metadata": {},
   "outputs": [
    {
     "name": "stdout",
     "output_type": "stream",
     "text": [
      " class 1 :  1337\n",
      " class 0 :  263\n",
      "Confusion Matrix: \n",
      " [[   1  262]\n",
      " [   0 1337]]\n",
      "Accuracy:  0.83625\n",
      "AUC:  0.6989031115004081\n",
      "              precision    recall  f1-score   support\n",
      "\n",
      "           0       1.00      0.00      0.01       263\n",
      "           1       0.84      1.00      0.91      1337\n",
      "\n",
      "    accuracy                           0.84      1600\n",
      "   macro avg       0.92      0.50      0.46      1600\n",
      "weighted avg       0.86      0.84      0.76      1600\n",
      "\n"
     ]
    },
    {
     "data": {
      "image/png": "[encoded data removed]",
      "text/plain": [
       "<Figure size 432x288 with 1 Axes>"
      ]
     },
     "metadata": {
      "needs_background": "light"
     },
     "output_type": "display_data"
    }
   ],
   "source": [
    "classification_reports(best_model, X_val, y_val)"
   ]
  },
  {
   "cell_type": "markdown",
   "metadata": {},
   "source": [
    "The training AUC is 0.754, while the validation AUC is 0.699; a difference of 0.053. This shows that the model is slightly less overfit."
   ]
  },
  {
   "cell_type": "markdown",
   "metadata": {},
   "source": [
    "# Tuning `scale_pos_weight` in `GridSearchCV`"
   ]
  },
  {
   "cell_type": "code",
   "execution_count": 21,
   "metadata": {},
   "outputs": [
    {
     "name": "stdout",
     "output_type": "stream",
     "text": [
      "Fitting 5 folds for each of 10 candidates, totalling 50 fits\n",
      "[0]\tvalidation_0-auc:0.54985\n",
      "[1]\tvalidation_0-auc:0.57177\n",
      "[2]\tvalidation_0-auc:0.56394\n",
      "[3]\tvalidation_0-auc:0.57011\n",
      "[4]\tvalidation_0-auc:0.62993\n",
      "[5]\tvalidation_0-auc:0.62053\n",
      "[6]\tvalidation_0-auc:0.65304\n",
      "[7]\tvalidation_0-auc:0.65245\n",
      "[8]\tvalidation_0-auc:0.67007\n",
      "[9]\tvalidation_0-auc:0.66649\n",
      "[10]\tvalidation_0-auc:0.67644\n",
      "[11]\tvalidation_0-auc:0.68461\n",
      "[12]\tvalidation_0-auc:0.68081\n",
      "[13]\tvalidation_0-auc:0.68792\n",
      "[14]\tvalidation_0-auc:0.69068\n",
      "[15]\tvalidation_0-auc:0.68556\n",
      "[16]\tvalidation_0-auc:0.68954\n",
      "[17]\tvalidation_0-auc:0.69354\n",
      "[18]\tvalidation_0-auc:0.69043\n",
      "[19]\tvalidation_0-auc:0.69302\n",
      "[20]\tvalidation_0-auc:0.69234\n",
      "[21]\tvalidation_0-auc:0.69481\n",
      "[22]\tvalidation_0-auc:0.69169\n",
      "[23]\tvalidation_0-auc:0.69452\n",
      "[24]\tvalidation_0-auc:0.69483\n",
      "[25]\tvalidation_0-auc:0.69409\n",
      "[26]\tvalidation_0-auc:0.69628\n",
      "[27]\tvalidation_0-auc:0.69459\n",
      "[28]\tvalidation_0-auc:0.69567\n",
      "[29]\tvalidation_0-auc:0.69429\n",
      "[30]\tvalidation_0-auc:0.69626\n",
      "[31]\tvalidation_0-auc:0.69602\n",
      "[32]\tvalidation_0-auc:0.69429\n",
      "[33]\tvalidation_0-auc:0.69404\n",
      "[34]\tvalidation_0-auc:0.69376\n",
      "[35]\tvalidation_0-auc:0.69550\n",
      "[36]\tvalidation_0-auc:0.69242\n"
     ]
    },
    {
     "data": {
      "text/plain": [
       "GridSearchCV(cv=5,\n",
       "             estimator=Pipeline(steps=[('scaler', StandardScaler()),\n",
       "                                       ('pca', PCA(n_components=8)),\n",
       "                                       ('classifier',\n",
       "                                        XGBClassifier(base_score=0.5,\n",
       "                                                      booster='gbtree',\n",
       "                                                      colsample_bylevel=1,\n",
       "                                                      colsample_bynode=1,\n",
       "                                                      colsample_bytree=0.590700201239684,\n",
       "                                                      eval_metric='logloss',\n",
       "                                                      gamma=0, gpu_id=-1,\n",
       "                                                      importance_type='gain',\n",
       "                                                      interaction_constraints='',\n",
       "                                                      learning_rate=0.0209330953...\n",
       "                                                      monotone_constraints='()',\n",
       "                                                      n_estimators=184,\n",
       "                                                      n_jobs=8,\n",
       "                                                      num_parallel_tree=1,\n",
       "                                                      random_state=0,\n",
       "                                                      reg_alpha=0, reg_lambda=1,\n",
       "                                                      scale_pos_weight=1,\n",
       "                                                      subsample=0.6028987933998539,\n",
       "                                                      tree_method='exact',\n",
       "                                                      use_label_encoder=False,\n",
       "                                                      validate_parameters=1,\n",
       "                                                      verbosity=None))]),\n",
       "             n_jobs=-1,\n",
       "             param_grid={'classifier__scale_pos_weight': array([0. , 0.1, 0.2, 0.3, 0.4, 0.5, 0.6, 0.7, 0.8, 0.9])},\n",
       "             scoring='roc_auc', verbose=2)"
      ]
     },
     "execution_count": 21,
     "metadata": {},
     "output_type": "execute_result"
    }
   ],
   "source": [
    "fit_params = {'classifier__eval_set': [(X_val_trans, y_val)],\n",
    "              'classifier__eval_metric': 'auc',\n",
    "              'classifier__early_stopping_rounds': 10,\n",
    "              'classifier__verbose': True}\n",
    "\n",
    "search_space = {'classifier__scale_pos_weight': np.arange(0, 1, 0.1)}\n",
    "\n",
    "grid_cv = GridSearchCV(estimator=best_model,\n",
    "                       param_grid=search_space,\n",
    "                       scoring='roc_auc',\n",
    "                       n_jobs=-1,\n",
    "                       cv=5,\n",
    "                       refit=True,\n",
    "                       verbose=2)\n",
    "\n",
    "grid_cv.fit(X_train, y_train, **fit_params)"
   ]
  },
  {
   "cell_type": "code",
   "execution_count": 22,
   "metadata": {},
   "outputs": [
    {
     "data": {
      "text/plain": [
       "27"
      ]
     },
     "execution_count": 22,
     "metadata": {},
     "output_type": "execute_result"
    }
   ],
   "source": [
    "grid_cv.best_estimator_['classifier'].get_booster().best_ntree_limit"
   ]
  },
  {
   "cell_type": "markdown",
   "metadata": {},
   "source": [
    "## Best `scale_pos_weight`\n",
    "\n",
    "From the `GridSearchCV`, searching in steps of 0.1. The best value for `scale_pos_weight` is 0.5."
   ]
  },
  {
   "cell_type": "code",
   "execution_count": 23,
   "metadata": {},
   "outputs": [
    {
     "data": {
      "text/plain": [
       "{'classifier__scale_pos_weight': 0.5}"
      ]
     },
     "execution_count": 23,
     "metadata": {},
     "output_type": "execute_result"
    }
   ],
   "source": [
    "grid_cv.best_params_"
   ]
  },
  {
   "cell_type": "code",
   "execution_count": 24,
   "metadata": {},
   "outputs": [
    {
     "name": "stdout",
     "output_type": "stream",
     "text": [
      " class 1 :  5332\n",
      " class 0 :  1068\n",
      "Confusion Matrix: \n",
      " [[  53 1015]\n",
      " [  16 5316]]\n",
      "Accuracy:  0.83890625\n",
      "AUC:  0.7719218252596858\n",
      "              precision    recall  f1-score   support\n",
      "\n",
      "           0       0.77      0.05      0.09      1068\n",
      "           1       0.84      1.00      0.91      5332\n",
      "\n",
      "    accuracy                           0.84      6400\n",
      "   macro avg       0.80      0.52      0.50      6400\n",
      "weighted avg       0.83      0.84      0.78      6400\n",
      "\n"
     ]
    },
    {
     "data": {
      "image/png": "[encoded data removed]",
      "text/plain": [
       "<Figure size 432x288 with 1 Axes>"
      ]
     },
     "metadata": {
      "needs_background": "light"
     },
     "output_type": "display_data"
    }
   ],
   "source": [
    "classification_reports(grid_cv, X_train, y_train)"
   ]
  },
  {
   "cell_type": "code",
   "execution_count": 25,
   "metadata": {},
   "outputs": [
    {
     "name": "stdout",
     "output_type": "stream",
     "text": [
      " class 1 :  1337\n",
      " class 0 :  263\n",
      "Confusion Matrix: \n",
      " [[   5  258]\n",
      " [   6 1331]]\n",
      "Accuracy:  0.835\n",
      "AUC:  0.6962824665629594\n",
      "              precision    recall  f1-score   support\n",
      "\n",
      "           0       0.45      0.02      0.04       263\n",
      "           1       0.84      1.00      0.91      1337\n",
      "\n",
      "    accuracy                           0.83      1600\n",
      "   macro avg       0.65      0.51      0.47      1600\n",
      "weighted avg       0.77      0.83      0.77      1600\n",
      "\n"
     ]
    },
    {
     "data": {
      "image/png": "[encoded data removed]",
      "text/plain": [
       "<Figure size 432x288 with 1 Axes>"
      ]
     },
     "metadata": {
      "needs_background": "light"
     },
     "output_type": "display_data"
    }
   ],
   "source": [
    "classification_reports(grid_cv, X_val, y_val)"
   ]
  },
  {
   "cell_type": "markdown",
   "metadata": {},
   "source": [
    "There is a slight decrease to the validation AUC from 0.696 to 0.702. The predictions are still predominantly positive."
   ]
  },
  {
   "cell_type": "markdown",
   "metadata": {},
   "source": [
    "# Finer grid\n",
    "\n",
    "Now that we know that the optimal `scale_pos_weight` is around 0.5, using a coarse grid with a step size of 0.1. This section will search more with more finely grained stepsize of 0.01 in the range [0.4, 0.6]."
   ]
  },
  {
   "cell_type": "code",
   "execution_count": 26,
   "metadata": {},
   "outputs": [
    {
     "name": "stdout",
     "output_type": "stream",
     "text": [
      "Fitting 5 folds for each of 20 candidates, totalling 100 fits\n",
      "[0]\tvalidation_0-auc:0.54985\n",
      "[1]\tvalidation_0-auc:0.56878\n",
      "[2]\tvalidation_0-auc:0.56193\n",
      "[3]\tvalidation_0-auc:0.56784\n",
      "[4]\tvalidation_0-auc:0.62688\n",
      "[5]\tvalidation_0-auc:0.61818\n",
      "[6]\tvalidation_0-auc:0.65030\n",
      "[7]\tvalidation_0-auc:0.64944\n",
      "[8]\tvalidation_0-auc:0.66603\n",
      "[9]\tvalidation_0-auc:0.66298\n",
      "[10]\tvalidation_0-auc:0.67342\n",
      "[11]\tvalidation_0-auc:0.68059\n",
      "[12]\tvalidation_0-auc:0.67619\n",
      "[13]\tvalidation_0-auc:0.68376\n",
      "[14]\tvalidation_0-auc:0.68700\n",
      "[15]\tvalidation_0-auc:0.68167\n",
      "[16]\tvalidation_0-auc:0.68773\n",
      "[17]\tvalidation_0-auc:0.69212\n",
      "[18]\tvalidation_0-auc:0.68907\n",
      "[19]\tvalidation_0-auc:0.69212\n",
      "[20]\tvalidation_0-auc:0.69136\n",
      "[21]\tvalidation_0-auc:0.69362\n",
      "[22]\tvalidation_0-auc:0.69007\n",
      "[23]\tvalidation_0-auc:0.69251\n",
      "[24]\tvalidation_0-auc:0.69264\n",
      "[25]\tvalidation_0-auc:0.69236\n",
      "[26]\tvalidation_0-auc:0.69349\n",
      "[27]\tvalidation_0-auc:0.69185\n",
      "[28]\tvalidation_0-auc:0.69309\n",
      "[29]\tvalidation_0-auc:0.69181\n",
      "[30]\tvalidation_0-auc:0.69366\n",
      "[31]\tvalidation_0-auc:0.69369\n",
      "[32]\tvalidation_0-auc:0.69154\n",
      "[33]\tvalidation_0-auc:0.69200\n",
      "[34]\tvalidation_0-auc:0.69072\n",
      "[35]\tvalidation_0-auc:0.69270\n",
      "[36]\tvalidation_0-auc:0.69064\n",
      "[37]\tvalidation_0-auc:0.68963\n",
      "[38]\tvalidation_0-auc:0.69164\n",
      "[39]\tvalidation_0-auc:0.69330\n",
      "[40]\tvalidation_0-auc:0.69413\n",
      "[41]\tvalidation_0-auc:0.69315\n",
      "[42]\tvalidation_0-auc:0.69522\n",
      "[43]\tvalidation_0-auc:0.69734\n",
      "[44]\tvalidation_0-auc:0.69758\n",
      "[45]\tvalidation_0-auc:0.69760\n",
      "[46]\tvalidation_0-auc:0.69715\n",
      "[47]\tvalidation_0-auc:0.69794\n",
      "[48]\tvalidation_0-auc:0.69835\n",
      "[49]\tvalidation_0-auc:0.69784\n",
      "[50]\tvalidation_0-auc:0.69878\n",
      "[51]\tvalidation_0-auc:0.69907\n",
      "[52]\tvalidation_0-auc:0.69849\n",
      "[53]\tvalidation_0-auc:0.69764\n",
      "[54]\tvalidation_0-auc:0.69735\n",
      "[55]\tvalidation_0-auc:0.69703\n",
      "[56]\tvalidation_0-auc:0.69623\n",
      "[57]\tvalidation_0-auc:0.69726\n",
      "[58]\tvalidation_0-auc:0.69639\n",
      "[59]\tvalidation_0-auc:0.69550\n",
      "[60]\tvalidation_0-auc:0.69692\n",
      "[61]\tvalidation_0-auc:0.69694\n"
     ]
    },
    {
     "data": {
      "text/plain": [
       "GridSearchCV(cv=5,\n",
       "             estimator=Pipeline(steps=[('scaler', StandardScaler()),\n",
       "                                       ('pca', PCA(n_components=8)),\n",
       "                                       ('classifier',\n",
       "                                        XGBClassifier(base_score=0.5,\n",
       "                                                      booster='gbtree',\n",
       "                                                      colsample_bylevel=1,\n",
       "                                                      colsample_bynode=1,\n",
       "                                                      colsample_bytree=0.590700201239684,\n",
       "                                                      eval_metric='logloss',\n",
       "                                                      gamma=0, gpu_id=-1,\n",
       "                                                      importance_type='gain',\n",
       "                                                      interaction_constraints='',\n",
       "                                                      learning_rate=0.0209330953...\n",
       "                                                      random_state=0,\n",
       "                                                      reg_alpha=0, reg_lambda=1,\n",
       "                                                      scale_pos_weight=0.5,\n",
       "                                                      subsample=0.6028987933998539,\n",
       "                                                      tree_method='exact',\n",
       "                                                      use_label_encoder=False,\n",
       "                                                      validate_parameters=1,\n",
       "                                                      verbosity=None))]),\n",
       "             n_jobs=-1,\n",
       "             param_grid={'classifier__scale_pos_weight': array([0.4 , 0.41, 0.42, 0.43, 0.44, 0.45, 0.46, 0.47, 0.48, 0.49, 0.5 ,\n",
       "       0.51, 0.52, 0.53, 0.54, 0.55, 0.56, 0.57, 0.58, 0.59])},\n",
       "             scoring='roc_auc', verbose=3)"
      ]
     },
     "execution_count": 26,
     "metadata": {},
     "output_type": "execute_result"
    }
   ],
   "source": [
    "fit_params = {'classifier__eval_set': [(X_val_trans, y_val)],\n",
    "              'classifier__eval_metric': 'auc',\n",
    "              'classifier__early_stopping_rounds': 10,\n",
    "              'classifier__verbose': True}\n",
    "\n",
    "search_space = {'classifier__scale_pos_weight': np.arange(0.4, 0.6, 0.01)}\n",
    "grid_cv_fine = GridSearchCV(estimator=grid_cv.best_estimator_,\n",
    "                            param_grid=search_space,\n",
    "                            scoring='roc_auc',\n",
    "                            n_jobs=-1,\n",
    "                            cv=5,\n",
    "                            refit=True,\n",
    "                            verbose=3)\n",
    "\n",
    "grid_cv_fine.fit(X_train, y_train, **fit_params)"
   ]
  },
  {
   "cell_type": "code",
   "execution_count": 27,
   "metadata": {},
   "outputs": [
    {
     "data": {
      "text/plain": [
       "52"
      ]
     },
     "execution_count": 27,
     "metadata": {},
     "output_type": "execute_result"
    }
   ],
   "source": [
    "grid_cv_fine.best_estimator_['classifier'].get_booster().best_ntree_limit"
   ]
  },
  {
   "cell_type": "code",
   "execution_count": 28,
   "metadata": {},
   "outputs": [
    {
     "data": {
      "text/plain": [
       "{'classifier__scale_pos_weight': 0.5500000000000002}"
      ]
     },
     "execution_count": 28,
     "metadata": {},
     "output_type": "execute_result"
    }
   ],
   "source": [
    "grid_cv_fine.best_params_"
   ]
  },
  {
   "cell_type": "markdown",
   "metadata": {},
   "source": [
    "The best `scale_pos_weight` is 0.55."
   ]
  },
  {
   "cell_type": "code",
   "execution_count": 29,
   "metadata": {},
   "outputs": [
    {
     "data": {
      "text/html": [
       "<div>\n",
       "<style scoped>\n",
       "    .dataframe tbody tr th:only-of-type {\n",
       "        vertical-align: middle;\n",
       "    }\n",
       "\n",
       "    .dataframe tbody tr th {\n",
       "        vertical-align: top;\n",
       "    }\n",
       "\n",
       "    .dataframe thead th {\n",
       "        text-align: right;\n",
       "    }\n",
       "</style>\n",
       "<table border=\"1\" class=\"dataframe\">\n",
       "  <thead>\n",
       "    <tr style=\"text-align: right;\">\n",
       "      <th></th>\n",
       "      <th>mean_fit_time</th>\n",
       "      <th>std_fit_time</th>\n",
       "      <th>mean_score_time</th>\n",
       "      <th>std_score_time</th>\n",
       "      <th>param_classifier__scale_pos_weight</th>\n",
       "      <th>params</th>\n",
       "      <th>split0_test_score</th>\n",
       "      <th>split1_test_score</th>\n",
       "      <th>split2_test_score</th>\n",
       "      <th>split3_test_score</th>\n",
       "      <th>split4_test_score</th>\n",
       "      <th>mean_test_score</th>\n",
       "      <th>std_test_score</th>\n",
       "      <th>rank_test_score</th>\n",
       "    </tr>\n",
       "  </thead>\n",
       "  <tbody>\n",
       "    <tr>\n",
       "      <th>15</th>\n",
       "      <td>0.955001</td>\n",
       "      <td>0.331665</td>\n",
       "      <td>0.010800</td>\n",
       "      <td>0.000399</td>\n",
       "      <td>0.55</td>\n",
       "      <td>{'classifier__scale_pos_weight': 0.55000000000...</td>\n",
       "      <td>0.654468</td>\n",
       "      <td>0.691316</td>\n",
       "      <td>0.699159</td>\n",
       "      <td>0.676115</td>\n",
       "      <td>0.670508</td>\n",
       "      <td>0.678313</td>\n",
       "      <td>0.015735</td>\n",
       "      <td>1</td>\n",
       "    </tr>\n",
       "    <tr>\n",
       "      <th>16</th>\n",
       "      <td>0.971605</td>\n",
       "      <td>0.371350</td>\n",
       "      <td>0.012595</td>\n",
       "      <td>0.003931</td>\n",
       "      <td>0.56</td>\n",
       "      <td>{'classifier__scale_pos_weight': 0.56000000000...</td>\n",
       "      <td>0.655295</td>\n",
       "      <td>0.688361</td>\n",
       "      <td>0.698690</td>\n",
       "      <td>0.675199</td>\n",
       "      <td>0.670758</td>\n",
       "      <td>0.677661</td>\n",
       "      <td>0.014904</td>\n",
       "      <td>2</td>\n",
       "    </tr>\n",
       "    <tr>\n",
       "      <th>17</th>\n",
       "      <td>0.977998</td>\n",
       "      <td>0.375702</td>\n",
       "      <td>0.011399</td>\n",
       "      <td>0.001019</td>\n",
       "      <td>0.57</td>\n",
       "      <td>{'classifier__scale_pos_weight': 0.57000000000...</td>\n",
       "      <td>0.655422</td>\n",
       "      <td>0.688044</td>\n",
       "      <td>0.698304</td>\n",
       "      <td>0.676172</td>\n",
       "      <td>0.669259</td>\n",
       "      <td>0.677440</td>\n",
       "      <td>0.014840</td>\n",
       "      <td>3</td>\n",
       "    </tr>\n",
       "    <tr>\n",
       "      <th>10</th>\n",
       "      <td>0.794999</td>\n",
       "      <td>0.289585</td>\n",
       "      <td>0.010200</td>\n",
       "      <td>0.000749</td>\n",
       "      <td>0.5</td>\n",
       "      <td>{'classifier__scale_pos_weight': 0.50000000000...</td>\n",
       "      <td>0.655810</td>\n",
       "      <td>0.686179</td>\n",
       "      <td>0.697428</td>\n",
       "      <td>0.667536</td>\n",
       "      <td>0.677728</td>\n",
       "      <td>0.676936</td>\n",
       "      <td>0.014427</td>\n",
       "      <td>4</td>\n",
       "    </tr>\n",
       "    <tr>\n",
       "      <th>14</th>\n",
       "      <td>0.821201</td>\n",
       "      <td>0.259978</td>\n",
       "      <td>0.010000</td>\n",
       "      <td>0.001674</td>\n",
       "      <td>0.54</td>\n",
       "      <td>{'classifier__scale_pos_weight': 0.54000000000...</td>\n",
       "      <td>0.656100</td>\n",
       "      <td>0.691008</td>\n",
       "      <td>0.697686</td>\n",
       "      <td>0.668369</td>\n",
       "      <td>0.671050</td>\n",
       "      <td>0.676842</td>\n",
       "      <td>0.015302</td>\n",
       "      <td>5</td>\n",
       "    </tr>\n",
       "    <tr>\n",
       "      <th>3</th>\n",
       "      <td>0.827600</td>\n",
       "      <td>0.284167</td>\n",
       "      <td>0.010600</td>\n",
       "      <td>0.001020</td>\n",
       "      <td>0.43</td>\n",
       "      <td>{'classifier__scale_pos_weight': 0.43000000000...</td>\n",
       "      <td>0.656390</td>\n",
       "      <td>0.683558</td>\n",
       "      <td>0.695571</td>\n",
       "      <td>0.668259</td>\n",
       "      <td>0.678968</td>\n",
       "      <td>0.676550</td>\n",
       "      <td>0.013356</td>\n",
       "      <td>6</td>\n",
       "    </tr>\n",
       "    <tr>\n",
       "      <th>4</th>\n",
       "      <td>0.797198</td>\n",
       "      <td>0.301072</td>\n",
       "      <td>0.010402</td>\n",
       "      <td>0.001020</td>\n",
       "      <td>0.44</td>\n",
       "      <td>{'classifier__scale_pos_weight': 0.44000000000...</td>\n",
       "      <td>0.657064</td>\n",
       "      <td>0.679891</td>\n",
       "      <td>0.696073</td>\n",
       "      <td>0.670556</td>\n",
       "      <td>0.678675</td>\n",
       "      <td>0.676452</td>\n",
       "      <td>0.012747</td>\n",
       "      <td>7</td>\n",
       "    </tr>\n",
       "    <tr>\n",
       "      <th>18</th>\n",
       "      <td>0.832198</td>\n",
       "      <td>0.215013</td>\n",
       "      <td>0.010401</td>\n",
       "      <td>0.001201</td>\n",
       "      <td>0.58</td>\n",
       "      <td>{'classifier__scale_pos_weight': 0.58000000000...</td>\n",
       "      <td>0.651775</td>\n",
       "      <td>0.687382</td>\n",
       "      <td>0.698300</td>\n",
       "      <td>0.668242</td>\n",
       "      <td>0.673734</td>\n",
       "      <td>0.675887</td>\n",
       "      <td>0.015994</td>\n",
       "      <td>8</td>\n",
       "    </tr>\n",
       "    <tr>\n",
       "      <th>13</th>\n",
       "      <td>0.773200</td>\n",
       "      <td>0.276148</td>\n",
       "      <td>0.011801</td>\n",
       "      <td>0.001939</td>\n",
       "      <td>0.53</td>\n",
       "      <td>{'classifier__scale_pos_weight': 0.53000000000...</td>\n",
       "      <td>0.656038</td>\n",
       "      <td>0.687914</td>\n",
       "      <td>0.696843</td>\n",
       "      <td>0.668597</td>\n",
       "      <td>0.669684</td>\n",
       "      <td>0.675815</td>\n",
       "      <td>0.014624</td>\n",
       "      <td>9</td>\n",
       "    </tr>\n",
       "    <tr>\n",
       "      <th>11</th>\n",
       "      <td>0.753199</td>\n",
       "      <td>0.256869</td>\n",
       "      <td>0.010599</td>\n",
       "      <td>0.001201</td>\n",
       "      <td>0.51</td>\n",
       "      <td>{'classifier__scale_pos_weight': 0.51000000000...</td>\n",
       "      <td>0.656896</td>\n",
       "      <td>0.686744</td>\n",
       "      <td>0.696941</td>\n",
       "      <td>0.667137</td>\n",
       "      <td>0.669640</td>\n",
       "      <td>0.675472</td>\n",
       "      <td>0.014398</td>\n",
       "      <td>10</td>\n",
       "    </tr>\n",
       "    <tr>\n",
       "      <th>12</th>\n",
       "      <td>0.751598</td>\n",
       "      <td>0.309817</td>\n",
       "      <td>0.010401</td>\n",
       "      <td>0.000489</td>\n",
       "      <td>0.52</td>\n",
       "      <td>{'classifier__scale_pos_weight': 0.52000000000...</td>\n",
       "      <td>0.654100</td>\n",
       "      <td>0.687965</td>\n",
       "      <td>0.697239</td>\n",
       "      <td>0.666559</td>\n",
       "      <td>0.670346</td>\n",
       "      <td>0.675242</td>\n",
       "      <td>0.015441</td>\n",
       "      <td>11</td>\n",
       "    </tr>\n",
       "    <tr>\n",
       "      <th>2</th>\n",
       "      <td>0.795798</td>\n",
       "      <td>0.290886</td>\n",
       "      <td>0.010201</td>\n",
       "      <td>0.000748</td>\n",
       "      <td>0.42</td>\n",
       "      <td>{'classifier__scale_pos_weight': 0.42000000000...</td>\n",
       "      <td>0.655667</td>\n",
       "      <td>0.682689</td>\n",
       "      <td>0.689138</td>\n",
       "      <td>0.668829</td>\n",
       "      <td>0.679126</td>\n",
       "      <td>0.675090</td>\n",
       "      <td>0.011729</td>\n",
       "      <td>12</td>\n",
       "    </tr>\n",
       "    <tr>\n",
       "      <th>19</th>\n",
       "      <td>0.538799</td>\n",
       "      <td>0.094795</td>\n",
       "      <td>0.009399</td>\n",
       "      <td>0.001020</td>\n",
       "      <td>0.59</td>\n",
       "      <td>{'classifier__scale_pos_weight': 0.59000000000...</td>\n",
       "      <td>0.652109</td>\n",
       "      <td>0.687030</td>\n",
       "      <td>0.697629</td>\n",
       "      <td>0.669149</td>\n",
       "      <td>0.665539</td>\n",
       "      <td>0.674291</td>\n",
       "      <td>0.016137</td>\n",
       "      <td>13</td>\n",
       "    </tr>\n",
       "    <tr>\n",
       "      <th>5</th>\n",
       "      <td>0.716400</td>\n",
       "      <td>0.354683</td>\n",
       "      <td>0.011600</td>\n",
       "      <td>0.002576</td>\n",
       "      <td>0.45</td>\n",
       "      <td>{'classifier__scale_pos_weight': 0.45000000000...</td>\n",
       "      <td>0.657530</td>\n",
       "      <td>0.683800</td>\n",
       "      <td>0.691427</td>\n",
       "      <td>0.660658</td>\n",
       "      <td>0.677978</td>\n",
       "      <td>0.674279</td>\n",
       "      <td>0.013149</td>\n",
       "      <td>14</td>\n",
       "    </tr>\n",
       "    <tr>\n",
       "      <th>9</th>\n",
       "      <td>0.742602</td>\n",
       "      <td>0.324569</td>\n",
       "      <td>0.012199</td>\n",
       "      <td>0.005947</td>\n",
       "      <td>0.49</td>\n",
       "      <td>{'classifier__scale_pos_weight': 0.49000000000...</td>\n",
       "      <td>0.655299</td>\n",
       "      <td>0.679387</td>\n",
       "      <td>0.695587</td>\n",
       "      <td>0.668450</td>\n",
       "      <td>0.672595</td>\n",
       "      <td>0.674264</td>\n",
       "      <td>0.013245</td>\n",
       "      <td>15</td>\n",
       "    </tr>\n",
       "    <tr>\n",
       "      <th>1</th>\n",
       "      <td>0.947139</td>\n",
       "      <td>0.178937</td>\n",
       "      <td>0.012306</td>\n",
       "      <td>0.002185</td>\n",
       "      <td>0.41</td>\n",
       "      <td>{'classifier__scale_pos_weight': 0.41000000000...</td>\n",
       "      <td>0.653601</td>\n",
       "      <td>0.685818</td>\n",
       "      <td>0.686859</td>\n",
       "      <td>0.667137</td>\n",
       "      <td>0.677859</td>\n",
       "      <td>0.674255</td>\n",
       "      <td>0.012512</td>\n",
       "      <td>16</td>\n",
       "    </tr>\n",
       "    <tr>\n",
       "      <th>8</th>\n",
       "      <td>0.795400</td>\n",
       "      <td>0.309537</td>\n",
       "      <td>0.010399</td>\n",
       "      <td>0.000801</td>\n",
       "      <td>0.48</td>\n",
       "      <td>{'classifier__scale_pos_weight': 0.48000000000...</td>\n",
       "      <td>0.655785</td>\n",
       "      <td>0.678129</td>\n",
       "      <td>0.696376</td>\n",
       "      <td>0.668483</td>\n",
       "      <td>0.672321</td>\n",
       "      <td>0.674219</td>\n",
       "      <td>0.013285</td>\n",
       "      <td>17</td>\n",
       "    </tr>\n",
       "    <tr>\n",
       "      <th>0</th>\n",
       "      <td>1.084735</td>\n",
       "      <td>0.265955</td>\n",
       "      <td>0.011504</td>\n",
       "      <td>0.002056</td>\n",
       "      <td>0.4</td>\n",
       "      <td>{'classifier__scale_pos_weight': 0.4}</td>\n",
       "      <td>0.653689</td>\n",
       "      <td>0.684683</td>\n",
       "      <td>0.685877</td>\n",
       "      <td>0.665927</td>\n",
       "      <td>0.679284</td>\n",
       "      <td>0.673892</td>\n",
       "      <td>0.012335</td>\n",
       "      <td>18</td>\n",
       "    </tr>\n",
       "    <tr>\n",
       "      <th>7</th>\n",
       "      <td>0.800599</td>\n",
       "      <td>0.307808</td>\n",
       "      <td>0.012801</td>\n",
       "      <td>0.002226</td>\n",
       "      <td>0.47</td>\n",
       "      <td>{'classifier__scale_pos_weight': 0.47000000000...</td>\n",
       "      <td>0.655202</td>\n",
       "      <td>0.678100</td>\n",
       "      <td>0.696818</td>\n",
       "      <td>0.659597</td>\n",
       "      <td>0.672428</td>\n",
       "      <td>0.672429</td>\n",
       "      <td>0.014754</td>\n",
       "      <td>19</td>\n",
       "    </tr>\n",
       "    <tr>\n",
       "      <th>6</th>\n",
       "      <td>0.764801</td>\n",
       "      <td>0.362817</td>\n",
       "      <td>0.010799</td>\n",
       "      <td>0.000750</td>\n",
       "      <td>0.46</td>\n",
       "      <td>{'classifier__scale_pos_weight': 0.46000000000...</td>\n",
       "      <td>0.653645</td>\n",
       "      <td>0.676496</td>\n",
       "      <td>0.692137</td>\n",
       "      <td>0.660049</td>\n",
       "      <td>0.678960</td>\n",
       "      <td>0.672257</td>\n",
       "      <td>0.013810</td>\n",
       "      <td>20</td>\n",
       "    </tr>\n",
       "  </tbody>\n",
       "</table>\n",
       "</div>"
      ],
      "text/plain": [
       "    mean_fit_time  std_fit_time  mean_score_time  std_score_time  \\\n",
       "15       0.955001      0.331665         0.010800        0.000399   \n",
       "16       0.971605      0.371350         0.012595        0.003931   \n",
       "17       0.977998      0.375702         0.011399        0.001019   \n",
       "10       0.794999      0.289585         0.010200        0.000749   \n",
       "14       0.821201      0.259978         0.010000        0.001674   \n",
       "3        0.827600      0.284167         0.010600        0.001020   \n",
       "4        0.797198      0.301072         0.010402        0.001020   \n",
       "18       0.832198      0.215013         0.010401        0.001201   \n",
       "13       0.773200      0.276148         0.011801        0.001939   \n",
       "11       0.753199      0.256869         0.010599        0.001201   \n",
       "12       0.751598      0.309817         0.010401        0.000489   \n",
       "2        0.795798      0.290886         0.010201        0.000748   \n",
       "19       0.538799      0.094795         0.009399        0.001020   \n",
       "5        0.716400      0.354683         0.011600        0.002576   \n",
       "9        0.742602      0.324569         0.012199        0.005947   \n",
       "1        0.947139      0.178937         0.012306        0.002185   \n",
       "8        0.795400      0.309537         0.010399        0.000801   \n",
       "0        1.084735      0.265955         0.011504        0.002056   \n",
       "7        0.800599      0.307808         0.012801        0.002226   \n",
       "6        0.764801      0.362817         0.010799        0.000750   \n",
       "\n",
       "   param_classifier__scale_pos_weight  \\\n",
       "15                               0.55   \n",
       "16                               0.56   \n",
       "17                               0.57   \n",
       "10                                0.5   \n",
       "14                               0.54   \n",
       "3                                0.43   \n",
       "4                                0.44   \n",
       "18                               0.58   \n",
       "13                               0.53   \n",
       "11                               0.51   \n",
       "12                               0.52   \n",
       "2                                0.42   \n",
       "19                               0.59   \n",
       "5                                0.45   \n",
       "9                                0.49   \n",
       "1                                0.41   \n",
       "8                                0.48   \n",
       "0                                 0.4   \n",
       "7                                0.47   \n",
       "6                                0.46   \n",
       "\n",
       "                                               params  split0_test_score  \\\n",
       "15  {'classifier__scale_pos_weight': 0.55000000000...           0.654468   \n",
       "16  {'classifier__scale_pos_weight': 0.56000000000...           0.655295   \n",
       "17  {'classifier__scale_pos_weight': 0.57000000000...           0.655422   \n",
       "10  {'classifier__scale_pos_weight': 0.50000000000...           0.655810   \n",
       "14  {'classifier__scale_pos_weight': 0.54000000000...           0.656100   \n",
       "3   {'classifier__scale_pos_weight': 0.43000000000...           0.656390   \n",
       "4   {'classifier__scale_pos_weight': 0.44000000000...           0.657064   \n",
       "18  {'classifier__scale_pos_weight': 0.58000000000...           0.651775   \n",
       "13  {'classifier__scale_pos_weight': 0.53000000000...           0.656038   \n",
       "11  {'classifier__scale_pos_weight': 0.51000000000...           0.656896   \n",
       "12  {'classifier__scale_pos_weight': 0.52000000000...           0.654100   \n",
       "2   {'classifier__scale_pos_weight': 0.42000000000...           0.655667   \n",
       "19  {'classifier__scale_pos_weight': 0.59000000000...           0.652109   \n",
       "5   {'classifier__scale_pos_weight': 0.45000000000...           0.657530   \n",
       "9   {'classifier__scale_pos_weight': 0.49000000000...           0.655299   \n",
       "1   {'classifier__scale_pos_weight': 0.41000000000...           0.653601   \n",
       "8   {'classifier__scale_pos_weight': 0.48000000000...           0.655785   \n",
       "0               {'classifier__scale_pos_weight': 0.4}           0.653689   \n",
       "7   {'classifier__scale_pos_weight': 0.47000000000...           0.655202   \n",
       "6   {'classifier__scale_pos_weight': 0.46000000000...           0.653645   \n",
       "\n",
       "    split1_test_score  split2_test_score  split3_test_score  \\\n",
       "15           0.691316           0.699159           0.676115   \n",
       "16           0.688361           0.698690           0.675199   \n",
       "17           0.688044           0.698304           0.676172   \n",
       "10           0.686179           0.697428           0.667536   \n",
       "14           0.691008           0.697686           0.668369   \n",
       "3            0.683558           0.695571           0.668259   \n",
       "4            0.679891           0.696073           0.670556   \n",
       "18           0.687382           0.698300           0.668242   \n",
       "13           0.687914           0.696843           0.668597   \n",
       "11           0.686744           0.696941           0.667137   \n",
       "12           0.687965           0.697239           0.666559   \n",
       "2            0.682689           0.689138           0.668829   \n",
       "19           0.687030           0.697629           0.669149   \n",
       "5            0.683800           0.691427           0.660658   \n",
       "9            0.679387           0.695587           0.668450   \n",
       "1            0.685818           0.686859           0.667137   \n",
       "8            0.678129           0.696376           0.668483   \n",
       "0            0.684683           0.685877           0.665927   \n",
       "7            0.678100           0.696818           0.659597   \n",
       "6            0.676496           0.692137           0.660049   \n",
       "\n",
       "    split4_test_score  mean_test_score  std_test_score  rank_test_score  \n",
       "15           0.670508         0.678313        0.015735                1  \n",
       "16           0.670758         0.677661        0.014904                2  \n",
       "17           0.669259         0.677440        0.014840                3  \n",
       "10           0.677728         0.676936        0.014427                4  \n",
       "14           0.671050         0.676842        0.015302                5  \n",
       "3            0.678968         0.676550        0.013356                6  \n",
       "4            0.678675         0.676452        0.012747                7  \n",
       "18           0.673734         0.675887        0.015994                8  \n",
       "13           0.669684         0.675815        0.014624                9  \n",
       "11           0.669640         0.675472        0.014398               10  \n",
       "12           0.670346         0.675242        0.015441               11  \n",
       "2            0.679126         0.675090        0.011729               12  \n",
       "19           0.665539         0.674291        0.016137               13  \n",
       "5            0.677978         0.674279        0.013149               14  \n",
       "9            0.672595         0.674264        0.013245               15  \n",
       "1            0.677859         0.674255        0.012512               16  \n",
       "8            0.672321         0.674219        0.013285               17  \n",
       "0            0.679284         0.673892        0.012335               18  \n",
       "7            0.672428         0.672429        0.014754               19  \n",
       "6            0.678960         0.672257        0.013810               20  "
      ]
     },
     "execution_count": 29,
     "metadata": {},
     "output_type": "execute_result"
    }
   ],
   "source": [
    "pd.DataFrame(grid_cv_fine.cv_results_).sort_values(by=['mean_test_score'], ascending=False)"
   ]
  },
  {
   "cell_type": "code",
   "execution_count": 30,
   "metadata": {},
   "outputs": [
    {
     "name": "stdout",
     "output_type": "stream",
     "text": [
      " class 1 :  5332\n",
      " class 0 :  1068\n",
      "Confusion Matrix: \n",
      " [[  54 1014]\n",
      " [  12 5320]]\n",
      "Accuracy:  0.8396875\n",
      "AUC:  0.7836622076867532\n",
      "              precision    recall  f1-score   support\n",
      "\n",
      "           0       0.82      0.05      0.10      1068\n",
      "           1       0.84      1.00      0.91      5332\n",
      "\n",
      "    accuracy                           0.84      6400\n",
      "   macro avg       0.83      0.52      0.50      6400\n",
      "weighted avg       0.84      0.84      0.78      6400\n",
      "\n"
     ]
    },
    {
     "data": {
      "image/png": "[encoded data removed]",
      "text/plain": [
       "<Figure size 432x288 with 1 Axes>"
      ]
     },
     "metadata": {
      "needs_background": "light"
     },
     "output_type": "display_data"
    }
   ],
   "source": [
    "classification_reports(grid_cv_fine, X_train, y_train)"
   ]
  },
  {
   "cell_type": "code",
   "execution_count": 31,
   "metadata": {},
   "outputs": [
    {
     "name": "stdout",
     "output_type": "stream",
     "text": [
      " class 1 :  1337\n",
      " class 0 :  263\n",
      "Confusion Matrix: \n",
      " [[   5  258]\n",
      " [   5 1332]]\n",
      "Accuracy:  0.835625\n",
      "AUC:  0.6990709010297727\n",
      "              precision    recall  f1-score   support\n",
      "\n",
      "           0       0.50      0.02      0.04       263\n",
      "           1       0.84      1.00      0.91      1337\n",
      "\n",
      "    accuracy                           0.84      1600\n",
      "   macro avg       0.67      0.51      0.47      1600\n",
      "weighted avg       0.78      0.84      0.77      1600\n",
      "\n"
     ]
    },
    {
     "data": {
      "image/png": "[encoded data removed]",
      "text/plain": [
       "<Figure size 432x288 with 1 Axes>"
      ]
     },
     "metadata": {
      "needs_background": "light"
     },
     "output_type": "display_data"
    }
   ],
   "source": [
    "classification_reports(grid_cv_fine, X_val, y_val)"
   ]
  },
  {
   "cell_type": "markdown",
   "metadata": {},
   "source": [
    "## Result"
   ]
  },
  {
   "cell_type": "markdown",
   "metadata": {},
   "source": [
    "This has increased the the validation AUC slightly from 0.6989 to 0.6991. However, the predictions are still predominantly of the positive class."
   ]
  },
  {
   "cell_type": "markdown",
   "metadata": {},
   "source": [
    "## Save model"
   ]
  },
  {
   "cell_type": "code",
   "execution_count": 32,
   "metadata": {},
   "outputs": [
    {
     "data": {
      "text/plain": [
       "WindowsPath('D:/Projects/assignment_1/models/10906675_xgb_es_spw.joblib')"
      ]
     },
     "execution_count": 32,
     "metadata": {},
     "output_type": "execute_result"
    }
   ],
   "source": [
    "model_name = '10906675_xgb_es_spw.joblib'\n",
    "models_dir / model_name"
   ]
  },
  {
   "cell_type": "code",
   "execution_count": 33,
   "metadata": {},
   "outputs": [
    {
     "data": {
      "text/plain": [
       "['D:\\\\Projects\\\\assignment_1\\\\models\\\\10906675_xgb_es_spw.joblib']"
      ]
     },
     "execution_count": 33,
     "metadata": {},
     "output_type": "execute_result"
    }
   ],
   "source": [
    "model_name = '10906675_xgb_es_spw.joblib'\n",
    "dump(grid_cv_fine.best_estimator_, models_dir / model_name)"
   ]
  },
  {
   "cell_type": "markdown",
   "metadata": {},
   "source": [
    "# Prediction on test set"
   ]
  },
  {
   "cell_type": "code",
   "execution_count": 34,
   "metadata": {},
   "outputs": [],
   "source": [
    "probs = grid_cv_fine.best_estimator_.predict_proba(X_test)[:, 1]"
   ]
  },
  {
   "cell_type": "code",
   "execution_count": 35,
   "metadata": {},
   "outputs": [
    {
     "data": {
      "text/plain": [
       "array([0.65319955, 0.65564203, 0.72314936, ..., 0.60709983, 0.72595614,\n",
       "       0.6344749 ], dtype=float32)"
      ]
     },
     "execution_count": 35,
     "metadata": {},
     "output_type": "execute_result"
    }
   ],
   "source": [
    "probs"
   ]
  },
  {
   "cell_type": "code",
   "execution_count": 36,
   "metadata": {},
   "outputs": [],
   "source": [
    "path = processed_data_dir / f'probs_{model_name}.csv'\n",
    "save_predictions(probs, 'TARGET_5Yrs', test_id, path)"
   ]
  },
  {
   "cell_type": "markdown",
   "metadata": {},
   "source": [
    "## Submit predictions"
   ]
  },
  {
   "cell_type": "raw",
   "metadata": {},
   "source": [
    "api.competition_submit(file_name=path,\n",
    "                       message=model_name,\n",
    "                       competition=competition,\n",
    "                       quiet=False)"
   ]
  },
  {
   "cell_type": "markdown",
   "metadata": {},
   "source": [
    "# Results of test AUC\n",
    "\n",
    "The test AUC is 0.69390."
   ]
  }
 ],
 "metadata": {
  "kernelspec": {
   "display_name": "Python 3",
   "language": "python",
   "name": "python3"
  },
  "language_info": {
   "codemirror_mode": {
    "name": "ipython",
    "version": 3
   },
   "file_extension": ".py",
   "mimetype": "text/x-python",
   "name": "python",
   "nbconvert_exporter": "python",
   "pygments_lexer": "ipython3",
   "version": "3.8.7"
  },
  "toc-autonumbering": true
 },
 "nbformat": 4,
 "nbformat_minor": 4
}
