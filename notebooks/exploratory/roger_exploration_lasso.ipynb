{
 "cells": [
  {
   "cell_type": "markdown",
   "metadata": {},
   "source": [
    "# Introduction\n",
    "\n",
    "This notebook is based on roger_exploration_early_stopping.ipynb, which achieved 0.687 AUC on the **validation** set.\n",
    "\n",
    "## Lasso Regression\n",
    "The purpose of this notebook is \n",
    "1. to investigate the Lasso regularised logistic regression model. \n",
    "1. to extract some\n",
    "\n",
    "## Summary\n"
   ]
  },
  {
   "cell_type": "code",
   "execution_count": 58,
   "metadata": {},
   "outputs": [],
   "source": [
    "import pandas as pd\n",
    "import numpy as np\n",
    "from pathlib import Path\n",
    "import os\n",
    "from datetime import datetime\n",
    "from sklearn.preprocessing import StandardScaler\n",
    "from sklearn.model_selection import train_test_split\n",
    "from sklearn.model_selection import RandomizedSearchCV\n",
    "from sklearn.model_selection import GridSearchCV\n",
    "from sklearn.decomposition import PCA\n",
    "from sklearn.metrics import roc_auc_score\n",
    "from sklearn.metrics import roc_curve\n",
    "from sklearn.metrics import precision_recall_curve\n",
    "from sklearn.metrics import confusion_matrix\n",
    "from sklearn.metrics import plot_confusion_matrix\n",
    "from sklearn.metrics import plot_roc_curve\n",
    "from sklearn.metrics import classification_report\n",
    "from sklearn.pipeline import Pipeline\n",
    "from scipy import stats\n",
    "from joblib import dump\n",
    "from joblib import load\n",
    "import xgboost as xgb\n",
    "import matplotlib.pyplot as plt\n",
    "from typing import Dict\n",
    "from kaggle.api.kaggle_api_extended import KaggleApi\n",
    "from dotenv import find_dotenv, load_dotenv\n",
    "from collections import Counter\n",
    "from imblearn.over_sampling import SMOTE\n",
    "from imblearn.under_sampling import RandomUnderSampler\n",
    "\n",
    "from src.data import make_dataset\n",
    "from src.models.null import NullModel\n",
    "from src.visualization.visualize import classification_reports, classification_reports_2\n",
    "from src.visualization.visualize import plot_pie"
   ]
  },
  {
   "cell_type": "code",
   "execution_count": 7,
   "metadata": {},
   "outputs": [],
   "source": [
    "%load_ext autoreload\n",
    "%autoreload 2"
   ]
  },
  {
   "cell_type": "code",
   "execution_count": 8,
   "metadata": {},
   "outputs": [],
   "source": [
    "load_dotenv(find_dotenv())\n",
    "api = KaggleApi()\n",
    "api.authenticate()"
   ]
  },
  {
   "cell_type": "code",
   "execution_count": 9,
   "metadata": {},
   "outputs": [],
   "source": [
    "competition = os.environ['COMPETITION']"
   ]
  },
  {
   "cell_type": "markdown",
   "metadata": {},
   "source": [
    "# Set up directories"
   ]
  },
  {
   "cell_type": "code",
   "execution_count": 10,
   "metadata": {
    "collapsed": false,
    "jupyter": {
     "outputs_hidden": false
    },
    "pycharm": {
     "name": "#%%\n"
    }
   },
   "outputs": [],
   "source": [
    "project_dir = Path.cwd().parent.parent\n",
    "data_dir = project_dir / 'data'\n",
    "raw_data_dir = data_dir / 'raw'\n",
    "interim_data_dir = data_dir / 'interim'\n",
    "processed_data_dir = data_dir / 'processed'\n",
    "models_dir = project_dir / 'models'"
   ]
  },
  {
   "cell_type": "markdown",
   "metadata": {},
   "source": [
    "# Load data"
   ]
  },
  {
   "cell_type": "code",
   "execution_count": 11,
   "metadata": {},
   "outputs": [],
   "source": [
    "df_train = pd.read_csv(raw_data_dir / 'train.csv')\n",
    "df_test = pd.read_csv(raw_data_dir / 'test.csv')\n",
    "X_train = np.load(interim_data_dir / 'X_train.npy')\n",
    "X_val = np.load(interim_data_dir / 'X_val.npy')\n",
    "y_train = np.load(interim_data_dir / 'y_train.npy')\n",
    "y_val = np.load(interim_data_dir / 'y_val.npy')\n",
    "X_test = np.load(interim_data_dir / 'X_test.npy')\n",
    "test_id = pd.read_csv(interim_data_dir / 'test_id.csv')"
   ]
  },
  {
   "cell_type": "markdown",
   "metadata": {},
   "source": [
    "# Baseline\n",
    "\n",
    "The base line prediction is simply to make them all negative."
   ]
  },
  {
   "cell_type": "code",
   "execution_count": 12,
   "metadata": {},
   "outputs": [
    {
     "data": {
      "image/png": "[encoded data removed]",
      "text/plain": [
       "<Figure size 432x288 with 1 Axes>"
      ]
     },
     "metadata": {},
     "output_type": "display_data"
    }
   ],
   "source": [
    "labels = 'Positive', 'Negative'\n",
    "pos_count = (y_train == 1).sum()\n",
    "neg_count = (y_train == 0).sum()\n",
    "sizes = [pos_count, neg_count]\n",
    "explode = (0, 0.1)  # only \"explode\" the 2nd slice (i.e. 'Hogs')\n",
    "\n",
    "fig1, ax1 = plt.subplots()\n",
    "ax1.pie(sizes, explode=explode, labels=labels, autopct='%1.1f%%',\n",
    "        shadow=True, startangle=90)\n",
    "ax1.axis('equal')  # Equal aspect ratio ensures that pie is drawn as a circle.\n",
    "\n",
    "plt.show()"
   ]
  },
  {
   "cell_type": "code",
   "execution_count": 13,
   "metadata": {},
   "outputs": [
    {
     "data": {
      "text/plain": [
       "1    0.833125\n",
       "0    0.166875\n",
       "dtype: float64"
      ]
     },
     "execution_count": 13,
     "metadata": {},
     "output_type": "execute_result"
    }
   ],
   "source": [
    "pd.Series(y_train).value_counts(normalize=True)"
   ]
  },
  {
   "cell_type": "code",
   "execution_count": 14,
   "metadata": {},
   "outputs": [
    {
     "data": {
      "image/png": "[encoded data removed]",
      "text/plain": [
       "<Figure size 432x288 with 1 Axes>"
      ]
     },
     "metadata": {},
     "output_type": "display_data"
    }
   ],
   "source": [
    "labels = 'Positive', 'Negative'\n",
    "pos_count = (y_val == 1).sum()\n",
    "neg_count = (y_val == 0).sum()\n",
    "sizes = [pos_count, neg_count]\n",
    "explode = (0, 0.1)  # only \"explode\" the 2nd slice (i.e. 'Hogs')\n",
    "\n",
    "fig1, ax1 = plt.subplots()\n",
    "ax1.pie(sizes, explode=explode, labels=labels, autopct='%1.1f%%',\n",
    "        shadow=True, startangle=90)\n",
    "ax1.axis('equal')  # Equal aspect ratio ensures that pie is drawn as a circle.\n",
    "\n",
    "plt.show()"
   ]
  },
  {
   "cell_type": "markdown",
   "metadata": {},
   "source": [
    "## Baseline Score\n",
    "\n",
    "The baseline score from the previous exploration iteration."
   ]
  },
  {
   "cell_type": "code",
   "execution_count": 15,
   "metadata": {},
   "outputs": [],
   "source": [
    "clf_smote = load(models_dir / 'exploratory_xgb.joblib')"
   ]
  },
  {
   "cell_type": "code",
   "execution_count": 16,
   "metadata": {},
   "outputs": [
    {
     "data": {
      "text/plain": [
       "12"
      ]
     },
     "execution_count": 16,
     "metadata": {},
     "output_type": "execute_result"
    }
   ],
   "source": [
    "best_ntree_limit = clf_smote.get_booster().best_ntree_limit\n",
    "best_ntree_limit"
   ]
  },
  {
   "cell_type": "code",
   "execution_count": 17,
   "metadata": {},
   "outputs": [],
   "source": [
    "preds_train = clf_smote.predict(X_train, ntree_limit=best_ntree_limit)\n",
    "probs_train = clf_smote.predict_proba(X_train, ntree_limit=best_ntree_limit)[:, 1]\n",
    "preds_val = clf_smote.predict(X_val, ntree_limit=best_ntree_limit)\n",
    "probs_val = clf_smote.predict_proba(X_val, ntree_limit=best_ntree_limit)[:, 1]"
   ]
  },
  {
   "cell_type": "code",
   "execution_count": 18,
   "metadata": {},
   "outputs": [
    {
     "name": "stdout",
     "output_type": "stream",
     "text": [
      " class 1 :  1337\n",
      " class 0 :  263\n",
      "Confusion Matrix: \n",
      " [[  13  250]\n",
      " [  19 1318]]\n",
      "Accuracy:  0.831875\n",
      "AUC:  0.6868379067829629\n",
      "              precision    recall  f1-score   support\n",
      "\n",
      "           0       0.41      0.05      0.09       263\n",
      "           1       0.84      0.99      0.91      1337\n",
      "\n",
      "    accuracy                           0.83      1600\n",
      "   macro avg       0.62      0.52      0.50      1600\n",
      "weighted avg       0.77      0.83      0.77      1600\n",
      "\n"
     ]
    },
    {
     "data": {
      "image/png": "[encoded data removed]",
      "text/plain": [
       "<Figure size 432x288 with 1 Axes>"
      ]
     },
     "metadata": {
      "needs_background": "light"
     },
     "output_type": "display_data"
    }
   ],
   "source": [
    "classification_reports_2(y_val, preds_val, probs_val)"
   ]
  },
  {
   "cell_type": "markdown",
   "metadata": {},
   "source": [
    "### Baseline AUC\n",
    "\n",
    "The AUC of the validation set is 0.687."
   ]
  },
  {
   "cell_type": "markdown",
   "metadata": {},
   "source": [
    "# SMOTE"
   ]
  },
  {
   "cell_type": "code",
   "execution_count": 19,
   "metadata": {},
   "outputs": [],
   "source": [
    "smote = SMOTE()\n",
    "X_train_smote, y_train_smote = smote.fit_resample(X_train, y_train)"
   ]
  },
  {
   "cell_type": "code",
   "execution_count": 20,
   "metadata": {},
   "outputs": [
    {
     "data": {
      "image/png": "[encoded data removed]",
      "text/plain": [
       "<Figure size 432x288 with 1 Axes>"
      ]
     },
     "metadata": {},
     "output_type": "display_data"
    }
   ],
   "source": [
    "plot_pie(y_train_smote)"
   ]
  },
  {
   "cell_type": "code",
   "execution_count": 21,
   "metadata": {},
   "outputs": [
    {
     "data": {
      "text/plain": [
       "1    5332\n",
       "0    1068\n",
       "dtype: int64"
      ]
     },
     "execution_count": 21,
     "metadata": {},
     "output_type": "execute_result"
    }
   ],
   "source": [
    "pd.Series(y_train).value_counts()"
   ]
  },
  {
   "cell_type": "code",
   "execution_count": 22,
   "metadata": {},
   "outputs": [
    {
     "data": {
      "text/plain": [
       "0    5332\n",
       "1    5332\n",
       "dtype: int64"
      ]
     },
     "execution_count": 22,
     "metadata": {},
     "output_type": "execute_result"
    }
   ],
   "source": [
    "pd.Series(y_train_smote).value_counts()"
   ]
  },
  {
   "cell_type": "code",
   "execution_count": 23,
   "metadata": {},
   "outputs": [
    {
     "name": "stdout",
     "output_type": "stream",
     "text": [
      "[0]\tvalidation_0-auc:0.64500\n",
      "[1]\tvalidation_0-auc:0.65377\n",
      "[2]\tvalidation_0-auc:0.66300\n",
      "[3]\tvalidation_0-auc:0.65724\n",
      "[4]\tvalidation_0-auc:0.66537\n",
      "[5]\tvalidation_0-auc:0.67538\n",
      "[6]\tvalidation_0-auc:0.66787\n",
      "[7]\tvalidation_0-auc:0.66934\n",
      "[8]\tvalidation_0-auc:0.67375\n",
      "[9]\tvalidation_0-auc:0.67775\n",
      "[10]\tvalidation_0-auc:0.67471\n",
      "[11]\tvalidation_0-auc:0.67486\n"
     ]
    },
    {
     "name": "stderr",
     "output_type": "stream",
     "text": [
      "c:\\users\\mactuary\\.virtualenvs\\assignment_1-rwa_wvyq\\lib\\site-packages\\xgboost\\sklearn.py:888: UserWarning: The use of label encoder in XGBClassifier is deprecated and will be removed in a future release. To remove this warning, do the following: 1) Pass option use_label_encoder=False when constructing XGBClassifier object; and 2) Encode your labels (y) as integers starting with 0, i.e. 0, 1, 2, ..., [num_class - 1].\n",
      "  warnings.warn(label_encoder_deprecation_msg, UserWarning)\n"
     ]
    },
    {
     "name": "stdout",
     "output_type": "stream",
     "text": [
      "[12]\tvalidation_0-auc:0.67555\n",
      "[13]\tvalidation_0-auc:0.67533\n",
      "[14]\tvalidation_0-auc:0.67197\n",
      "[15]\tvalidation_0-auc:0.66700\n",
      "[16]\tvalidation_0-auc:0.66672\n",
      "[17]\tvalidation_0-auc:0.67003\n",
      "[18]\tvalidation_0-auc:0.66634\n",
      "best_ntree_limit: 10\n",
      " class 1 :  5332\n",
      " class 0 :  5332\n",
      "Confusion Matrix: \n",
      " [[4358  974]\n",
      " [ 457 4875]]\n",
      "Accuracy:  0.8658102025506377\n",
      "AUC:  0.9427441021920895\n",
      "              precision    recall  f1-score   support\n",
      "\n",
      "           0       0.91      0.82      0.86      5332\n",
      "           1       0.83      0.91      0.87      5332\n",
      "\n",
      "    accuracy                           0.87     10664\n",
      "   macro avg       0.87      0.87      0.87     10664\n",
      "weighted avg       0.87      0.87      0.87     10664\n",
      "\n"
     ]
    },
    {
     "data": {
      "image/png": "[encoded data removed]",
      "text/plain": [
       "<Figure size 432x288 with 1 Axes>"
      ]
     },
     "metadata": {
      "needs_background": "light"
     },
     "output_type": "display_data"
    },
    {
     "name": "stdout",
     "output_type": "stream",
     "text": [
      " class 1 :  1337\n",
      " class 0 :  263\n",
      "Confusion Matrix: \n",
      " [[  65  198]\n",
      " [ 144 1193]]\n",
      "Accuracy:  0.78625\n",
      "AUC:  0.6777459894036646\n",
      "              precision    recall  f1-score   support\n",
      "\n",
      "           0       0.31      0.25      0.28       263\n",
      "           1       0.86      0.89      0.87      1337\n",
      "\n",
      "    accuracy                           0.79      1600\n",
      "   macro avg       0.58      0.57      0.58      1600\n",
      "weighted avg       0.77      0.79      0.78      1600\n",
      "\n"
     ]
    },
    {
     "data": {
      "image/png": "[encoded data removed]",
      "text/plain": [
       "<Figure size 432x288 with 1 Axes>"
      ]
     },
     "metadata": {
      "needs_background": "light"
     },
     "output_type": "display_data"
    }
   ],
   "source": [
    "clf_smote = xgb.XGBClassifier(\n",
    "    eval_metric='logloss')\n",
    "clf_smote.fit(X_train_smote, \n",
    "              y_train_smote,\n",
    "              eval_metric='auc',\n",
    "              eval_set=[(X_val, y_val)],\n",
    "              early_stopping_rounds=10,\n",
    "              verbose=True)\n",
    "\n",
    "best_ntree_limit = clf_smote.get_booster().best_ntree_limit\n",
    "print(f'best_ntree_limit: {best_ntree_limit}')\n",
    "\n",
    "preds_train = clf_smote.predict(X_train_smote, ntree_limit=best_ntree_limit)\n",
    "probs_train = clf_smote.predict_proba(X_train_smote, ntree_limit=best_ntree_limit)[:, 1]\n",
    "preds_val = clf_smote.predict(X_val, ntree_limit=best_ntree_limit)\n",
    "probs_val = clf_smote.predict_proba(X_val, ntree_limit=best_ntree_limit)[:, 1]\n",
    "\n",
    "\n",
    "classification_reports(clf_smote, X_train_smote, y_train_smote)\n",
    "classification_reports(clf_smote, X_val, y_val)"
   ]
  },
  {
   "cell_type": "markdown",
   "metadata": {},
   "source": [
    "### SMOTE AUC\n",
    "\n",
    "The SMOTE AUC is 0.682."
   ]
  },
  {
   "cell_type": "markdown",
   "metadata": {},
   "source": [
    "## Conclusion\n",
    "\n",
    "The validation AUC score did not improve; from 0.687 to 0.682."
   ]
  },
  {
   "cell_type": "markdown",
   "metadata": {},
   "source": [
    "# SMOTE with undersampling"
   ]
  },
  {
   "cell_type": "code",
   "execution_count": 24,
   "metadata": {},
   "outputs": [
    {
     "data": {
      "text/plain": [
       "1    5332\n",
       "0    1068\n",
       "dtype: int64"
      ]
     },
     "execution_count": 24,
     "metadata": {},
     "output_type": "execute_result"
    }
   ],
   "source": [
    "pd.Series(y_train).value_counts()"
   ]
  },
  {
   "cell_type": "code",
   "execution_count": 25,
   "metadata": {},
   "outputs": [
    {
     "data": {
      "text/plain": [
       "1    0.833125\n",
       "0    0.166875\n",
       "dtype: float64"
      ]
     },
     "execution_count": 25,
     "metadata": {},
     "output_type": "execute_result"
    }
   ],
   "source": [
    "pd.Series(y_train).value_counts(normalize=True)"
   ]
  },
  {
   "cell_type": "code",
   "execution_count": 26,
   "metadata": {},
   "outputs": [
    {
     "data": {
      "text/plain": [
       "0.2003000750187547"
      ]
     },
     "execution_count": 26,
     "metadata": {},
     "output_type": "execute_result"
    }
   ],
   "source": [
    "(pd.Series(y_train) == 0).sum() / (pd.Series(y_train) == 1).sum()"
   ]
  },
  {
   "cell_type": "code",
   "execution_count": 27,
   "metadata": {},
   "outputs": [
    {
     "name": "stdout",
     "output_type": "stream",
     "text": [
      "0.4\n",
      "0.46\n",
      "0.52\n",
      "0.5800000000000001\n",
      "0.64\n",
      "0.7\n",
      "0.76\n",
      "0.8200000000000001\n",
      "0.88\n",
      "0.9400000000000001\n",
      "1.0\n"
     ]
    }
   ],
   "source": [
    "for over_perc in np.linspace(0.4, 1, 11):\n",
    "    print(over_perc)"
   ]
  },
  {
   "cell_type": "code",
   "execution_count": 28,
   "metadata": {},
   "outputs": [
    {
     "data": {
      "text/plain": [
       "0    5332\n",
       "1    5332\n",
       "dtype: int64"
      ]
     },
     "execution_count": 28,
     "metadata": {},
     "output_type": "execute_result"
    }
   ],
   "source": [
    "X_smote, y_smote = SMOTE(sampling_strategy=1).fit_resample(X_train, y_train)\n",
    "pd.Series(y_smote).value_counts()"
   ]
  },
  {
   "cell_type": "code",
   "execution_count": 29,
   "metadata": {},
   "outputs": [
    {
     "data": {
      "text/plain": [
       "array([0.5 , 0.55, 0.6 , 0.65, 0.7 , 0.75, 0.8 , 0.85, 0.9 , 0.95, 1.  ])"
      ]
     },
     "execution_count": 29,
     "metadata": {},
     "output_type": "execute_result"
    }
   ],
   "source": [
    "np.arange(0.5, 1.05, 0.05)"
   ]
  },
  {
   "cell_type": "code",
   "execution_count": 47,
   "metadata": {},
   "outputs": [
    {
     "name": "stdout",
     "output_type": "stream",
     "text": [
      "1    0.832628\n",
      "0    0.167372\n",
      "dtype: float64\n"
     ]
    }
   ],
   "source": [
    "X_train_under, y_train_under = RandomUnderSampler(sampling_strategy=0.201).fit_resample(X_train, y_train)\n",
    "print(pd.Series(y_train_under).value_counts(normalize=True))"
   ]
  },
  {
   "cell_type": "code",
   "execution_count": 50,
   "metadata": {},
   "outputs": [
    {
     "data": {
      "text/plain": [
       "0.2030032313248432"
      ]
     },
     "execution_count": 50,
     "metadata": {},
     "output_type": "execute_result"
    }
   ],
   "source": [
    "(pd.Series(y_train_under) == 0).sum() / (pd.Series(y_train_under) == 1).sum()"
   ]
  },
  {
   "cell_type": "code",
   "execution_count": 49,
   "metadata": {},
   "outputs": [
    {
     "data": {
      "text/plain": [
       "0.203"
      ]
     },
     "execution_count": 49,
     "metadata": {},
     "output_type": "execute_result"
    }
   ],
   "source": [
    "over_perc"
   ]
  },
  {
   "cell_type": "code",
   "execution_count": 60,
   "metadata": {},
   "outputs": [
    {
     "data": {
      "text/plain": [
       "5"
      ]
     },
     "execution_count": 60,
     "metadata": {},
     "output_type": "execute_result"
    }
   ],
   "source": [
    "len(np.arange(0.203, 0.45, 0.05))"
   ]
  },
  {
   "cell_type": "code",
   "execution_count": 61,
   "metadata": {},
   "outputs": [
    {
     "name": "stdout",
     "output_type": "stream",
     "text": [
      "under_perc: 0.203\n",
      "over_perc: 0.253\n",
      "best_ntree_limit: 3\n",
      "over_perc: 0.303\n",
      "best_ntree_limit: 13\n",
      "over_perc: 0.353\n",
      "best_ntree_limit: 15\n",
      "over_perc: 0.40299999999999997\n",
      "best_ntree_limit: 6\n",
      "over_perc: 0.45299999999999996\n",
      "best_ntree_limit: 14\n",
      "over_perc: 0.5029999999999999\n",
      "best_ntree_limit: 10\n",
      "over_perc: 0.5529999999999999\n",
      "best_ntree_limit: 5\n",
      "over_perc: 0.603\n",
      "best_ntree_limit: 12\n",
      "over_perc: 0.6529999999999999\n",
      "best_ntree_limit: 10\n",
      "over_perc: 0.7029999999999998\n",
      "best_ntree_limit: 4\n",
      "over_perc: 0.7529999999999999\n",
      "best_ntree_limit: 11\n",
      "over_perc: 0.8029999999999998\n",
      "best_ntree_limit: 12\n",
      "over_perc: 0.8529999999999999\n",
      "best_ntree_limit: 5\n",
      "over_perc: 0.9029999999999999\n",
      "best_ntree_limit: 4\n",
      "over_perc: 0.9529999999999998\n",
      "best_ntree_limit: 5\n",
      "under_perc: 0.253\n",
      "over_perc: 0.303\n",
      "best_ntree_limit: 6\n",
      "over_perc: 0.353\n",
      "best_ntree_limit: 14\n",
      "over_perc: 0.40299999999999997\n",
      "best_ntree_limit: 8\n",
      "over_perc: 0.45299999999999996\n",
      "best_ntree_limit: 7\n",
      "over_perc: 0.5029999999999999\n",
      "best_ntree_limit: 12\n",
      "over_perc: 0.5529999999999999\n",
      "best_ntree_limit: 5\n",
      "over_perc: 0.603\n",
      "best_ntree_limit: 6\n",
      "over_perc: 0.6529999999999999\n",
      "best_ntree_limit: 1\n",
      "over_perc: 0.7029999999999998\n",
      "best_ntree_limit: 5\n",
      "over_perc: 0.7529999999999999\n",
      "best_ntree_limit: 8\n",
      "over_perc: 0.8029999999999999\n",
      "best_ntree_limit: 8\n",
      "over_perc: 0.8529999999999998\n",
      "best_ntree_limit: 6\n",
      "over_perc: 0.9029999999999998\n",
      "best_ntree_limit: 6\n",
      "over_perc: 0.9529999999999998\n",
      "best_ntree_limit: 4\n",
      "under_perc: 0.303\n",
      "over_perc: 0.353\n",
      "best_ntree_limit: 7\n",
      "over_perc: 0.40299999999999997\n",
      "best_ntree_limit: 4\n",
      "over_perc: 0.45299999999999996\n",
      "best_ntree_limit: 3\n",
      "over_perc: 0.5029999999999999\n",
      "best_ntree_limit: 13\n",
      "over_perc: 0.5529999999999999\n",
      "best_ntree_limit: 13\n",
      "over_perc: 0.603\n",
      "best_ntree_limit: 10\n",
      "over_perc: 0.6529999999999999\n",
      "best_ntree_limit: 3\n",
      "over_perc: 0.7029999999999998\n",
      "best_ntree_limit: 8\n",
      "over_perc: 0.7529999999999999\n",
      "best_ntree_limit: 5\n",
      "over_perc: 0.8029999999999999\n",
      "best_ntree_limit: 5\n",
      "over_perc: 0.8529999999999999\n",
      "best_ntree_limit: 17\n",
      "over_perc: 0.9029999999999998\n",
      "best_ntree_limit: 8\n",
      "over_perc: 0.9529999999999998\n",
      "best_ntree_limit: 8\n",
      "under_perc: 0.353\n",
      "over_perc: 0.40299999999999997\n",
      "best_ntree_limit: 10\n",
      "over_perc: 0.45299999999999996\n",
      "best_ntree_limit: 13\n",
      "over_perc: 0.5029999999999999\n",
      "best_ntree_limit: 8\n",
      "over_perc: 0.5529999999999999\n",
      "best_ntree_limit: 13\n",
      "over_perc: 0.603\n",
      "best_ntree_limit: 13\n",
      "over_perc: 0.6529999999999999\n",
      "best_ntree_limit: 7\n",
      "over_perc: 0.7029999999999998\n",
      "best_ntree_limit: 5\n",
      "over_perc: 0.7529999999999999\n",
      "best_ntree_limit: 5\n",
      "over_perc: 0.8029999999999999\n",
      "best_ntree_limit: 6\n",
      "over_perc: 0.8529999999999999\n",
      "best_ntree_limit: 17\n",
      "over_perc: 0.9029999999999998\n",
      "best_ntree_limit: 6\n",
      "over_perc: 0.9529999999999998\n",
      "best_ntree_limit: 5\n",
      "under_perc: 0.40299999999999997\n",
      "over_perc: 0.45299999999999996\n",
      "best_ntree_limit: 15\n",
      "over_perc: 0.503\n",
      "best_ntree_limit: 8\n",
      "over_perc: 0.553\n",
      "best_ntree_limit: 4\n",
      "over_perc: 0.6030000000000001\n",
      "best_ntree_limit: 3\n",
      "over_perc: 0.6530000000000001\n",
      "best_ntree_limit: 8\n",
      "over_perc: 0.7030000000000002\n",
      "best_ntree_limit: 17\n",
      "over_perc: 0.7530000000000002\n",
      "best_ntree_limit: 18\n",
      "over_perc: 0.8030000000000003\n",
      "best_ntree_limit: 11\n",
      "over_perc: 0.8530000000000003\n",
      "best_ntree_limit: 17\n",
      "over_perc: 0.9030000000000004\n",
      "best_ntree_limit: 10\n",
      "over_perc: 0.9530000000000004\n",
      "best_ntree_limit: 5\n"
     ]
    }
   ],
   "source": [
    "train_auc_list = []\n",
    "val_auc_list = []\n",
    "best_ntree_list = []\n",
    "n_positive_list = []\n",
    "n_negative_list = []\n",
    "\n",
    "for under_perc in np.arange(0.203, 0.45, 0.05):\n",
    "    print(f'under_perc: {under_perc}')\n",
    "    X_train_under, y_train_under = RandomUnderSampler(sampling_strategy=under_perc).fit_resample(X_train, y_train)\n",
    "    for over_perc in np.arange(under_perc + 0.05, 1, 0.05):\n",
    "        print(f'over_perc: {over_perc}')\n",
    "        X_train_smote, y_train_smote = SMOTE(sampling_strategy=over_perc).fit_resample(X_train_under, y_train_under)\n",
    "        \n",
    "        clf_smote = xgb.XGBClassifier(use_label_encoder=False, eval_metric='logloss')\n",
    "        clf_smote.fit(X_train_smote, \n",
    "                      y_train_smote,\n",
    "                      eval_metric='auc',\n",
    "                      eval_set=[(X_val, y_val)],\n",
    "                      early_stopping_rounds=10,\n",
    "                      verbose=False)\n",
    "\n",
    "        best_ntree_limit = clf_smote.get_booster().best_ntree_limit\n",
    "        print(f'best_ntree_limit: {best_ntree_limit}')\n",
    "\n",
    "        preds_train = clf_smote.predict(X_train_smote, ntree_limit=best_ntree_limit)\n",
    "        probs_train = clf_smote.predict_proba(X_train_smote, ntree_limit=best_ntree_limit)[:, 1]\n",
    "        preds_val = clf_smote.predict(X_val, ntree_limit=best_ntree_limit)\n",
    "        probs_val = clf_smote.predict_proba(X_val, ntree_limit=best_ntree_limit)[:, 1]\n",
    "        \n",
    "        n_positive_list.append((y_train_smote == 1).sum())\n",
    "        n_negative_list.append((y_train_smote == 0).sum())\n",
    "        best_ntree_list.append(best_ntree_limit)\n",
    "        train_auc_list.append(roc_auc_score(y_train_smote, preds_train))\n",
    "        val_auc_list.append(roc_auc_score(y_val, preds_val))\n",
    "\n",
    "result_df = pd.DataFrame({'n_positive': n_positive_list,\n",
    "                          'n_negative': n_negative_list,\n",
    "                          'best_ntree': best_ntree_list,\n",
    "                          'train_auc': train_auc_list,\n",
    "                          'val_auc': val_auc_list})\n",
    "# smote = SMOTE(sampling_strategy=0.3)\n",
    "# under = RandomUnderSampler(sampling_strategy=0.5)\n",
    "\n",
    "# X_train_smote, y_train_smote = under.fit_resample(X_train, y_train)\n",
    "# X_train_under, y_train_under = under.fit_resample(X_train_smote, y_train_smote)"
   ]
  },
  {
   "cell_type": "code",
   "execution_count": 63,
   "metadata": {},
   "outputs": [
    {
     "data": {
      "text/html": [
       "<div>\n",
       "<style scoped>\n",
       "    .dataframe tbody tr th:only-of-type {\n",
       "        vertical-align: middle;\n",
       "    }\n",
       "\n",
       "    .dataframe tbody tr th {\n",
       "        vertical-align: top;\n",
       "    }\n",
       "\n",
       "    .dataframe thead th {\n",
       "        text-align: right;\n",
       "    }\n",
       "</style>\n",
       "<table border=\"1\" class=\"dataframe\">\n",
       "  <thead>\n",
       "    <tr style=\"text-align: right;\">\n",
       "      <th></th>\n",
       "      <th>n_positive</th>\n",
       "      <th>n_negative</th>\n",
       "      <th>best_ntree</th>\n",
       "      <th>train_auc</th>\n",
       "      <th>val_auc</th>\n",
       "    </tr>\n",
       "  </thead>\n",
       "  <tbody>\n",
       "    <tr>\n",
       "      <th>64</th>\n",
       "      <td>2650</td>\n",
       "      <td>2525</td>\n",
       "      <td>5</td>\n",
       "      <td>0.776968</td>\n",
       "      <td>0.633741</td>\n",
       "    </tr>\n",
       "    <tr>\n",
       "      <th>53</th>\n",
       "      <td>3025</td>\n",
       "      <td>2882</td>\n",
       "      <td>5</td>\n",
       "      <td>0.789681</td>\n",
       "      <td>0.632650</td>\n",
       "    </tr>\n",
       "    <tr>\n",
       "      <th>49</th>\n",
       "      <td>3025</td>\n",
       "      <td>2277</td>\n",
       "      <td>5</td>\n",
       "      <td>0.775853</td>\n",
       "      <td>0.625792</td>\n",
       "    </tr>\n",
       "    <tr>\n",
       "      <th>38</th>\n",
       "      <td>3524</td>\n",
       "      <td>2829</td>\n",
       "      <td>5</td>\n",
       "      <td>0.783247</td>\n",
       "      <td>0.625418</td>\n",
       "    </tr>\n",
       "    <tr>\n",
       "      <th>63</th>\n",
       "      <td>2650</td>\n",
       "      <td>2392</td>\n",
       "      <td>10</td>\n",
       "      <td>0.819528</td>\n",
       "      <td>0.625356</td>\n",
       "    </tr>\n",
       "    <tr>\n",
       "      <th>...</th>\n",
       "      <td>...</td>\n",
       "      <td>...</td>\n",
       "      <td>...</td>\n",
       "      <td>...</td>\n",
       "      <td>...</td>\n",
       "    </tr>\n",
       "    <tr>\n",
       "      <th>29</th>\n",
       "      <td>3524</td>\n",
       "      <td>1243</td>\n",
       "      <td>7</td>\n",
       "      <td>0.634333</td>\n",
       "      <td>0.527428</td>\n",
       "    </tr>\n",
       "    <tr>\n",
       "      <th>15</th>\n",
       "      <td>4221</td>\n",
       "      <td>1278</td>\n",
       "      <td>6</td>\n",
       "      <td>0.610048</td>\n",
       "      <td>0.523906</td>\n",
       "    </tr>\n",
       "    <tr>\n",
       "      <th>22</th>\n",
       "      <td>4221</td>\n",
       "      <td>2756</td>\n",
       "      <td>1</td>\n",
       "      <td>0.642140</td>\n",
       "      <td>0.523812</td>\n",
       "    </tr>\n",
       "    <tr>\n",
       "      <th>0</th>\n",
       "      <td>5261</td>\n",
       "      <td>1331</td>\n",
       "      <td>3</td>\n",
       "      <td>0.592172</td>\n",
       "      <td>0.523375</td>\n",
       "    </tr>\n",
       "    <tr>\n",
       "      <th>1</th>\n",
       "      <td>5261</td>\n",
       "      <td>1594</td>\n",
       "      <td>13</td>\n",
       "      <td>0.656953</td>\n",
       "      <td>0.518108</td>\n",
       "    </tr>\n",
       "  </tbody>\n",
       "</table>\n",
       "<p>65 rows × 5 columns</p>\n",
       "</div>"
      ],
      "text/plain": [
       "    n_positive  n_negative  best_ntree  train_auc   val_auc\n",
       "64        2650        2525           5   0.776968  0.633741\n",
       "53        3025        2882           5   0.789681  0.632650\n",
       "49        3025        2277           5   0.775853  0.625792\n",
       "38        3524        2829           5   0.783247  0.625418\n",
       "63        2650        2392          10   0.819528  0.625356\n",
       "..         ...         ...         ...        ...       ...\n",
       "29        3524        1243           7   0.634333  0.527428\n",
       "15        4221        1278           6   0.610048  0.523906\n",
       "22        4221        2756           1   0.642140  0.523812\n",
       "0         5261        1331           3   0.592172  0.523375\n",
       "1         5261        1594          13   0.656953  0.518108\n",
       "\n",
       "[65 rows x 5 columns]"
      ]
     },
     "execution_count": 63,
     "metadata": {},
     "output_type": "execute_result"
    }
   ],
   "source": [
    "result_df.sort_values(by=['val_auc'], ascending=False)"
   ]
  },
  {
   "cell_type": "markdown",
   "metadata": {},
   "source": [
    "## SMOTE and undersampling UAC"
   ]
  },
  {
   "cell_type": "markdown",
   "metadata": {},
   "source": [
    "Even with different combinations of oversampling and undersampling, the highest validation AUC is 0.633, which is not an improvement."
   ]
  }
 ],
 "metadata": {
  "kernelspec": {
   "display_name": "Python 3",
   "language": "python",
   "name": "python3"
  },
  "language_info": {
   "codemirror_mode": {
    "name": "ipython",
    "version": 3
   },
   "file_extension": ".py",
   "mimetype": "text/x-python",
   "name": "python",
   "nbconvert_exporter": "python",
   "pygments_lexer": "ipython3",
   "version": "3.8.7"
  },
  "toc-autonumbering": true
 },
 "nbformat": 4,
 "nbformat_minor": 4
}
