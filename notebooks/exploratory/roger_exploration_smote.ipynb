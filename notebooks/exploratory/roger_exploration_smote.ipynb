{
 "cells": [
  {
   "cell_type": "markdown",
   "metadata": {},
   "source": [
    "# Introduction\n",
    "\n",
    "This notebook is based on roger_exploration_early_stopping.ipynb, which achieved 0.687 AUC on the **validation** set.\n",
    "\n",
    "## SMOTE\n",
    "The purpose of this notebook is to investigate the improvement in the model when the model is trained on data that has been augmented by [SMOTE](https://machinelearningmastery.com/smote-oversampling-for-imbalanced-classification/), which is a technique to handle imbalanced data sets.\n",
    "\n",
    "## Summary\n",
    "SMOTE doesn't improve the AUC on the validation set\n",
    "* [Baseline AUC](#Baseline-AUC): 0.687\n",
    "* [SMOTE AUC](#SMOTE-AUC): 0.682\n",
    "* [SMOTE and undersampling UAC](#SMOTE-and-undersampling-UAC): 0.633"
   ]
  },
  {
   "cell_type": "code",
   "execution_count": 1,
   "metadata": {},
   "outputs": [],
   "source": [
    "import pandas as pd\n",
    "import numpy as np\n",
    "from pathlib import Path\n",
    "import os\n",
    "from datetime import datetime\n",
    "from sklearn.preprocessing import StandardScaler\n",
    "from sklearn.model_selection import train_test_split\n",
    "from sklearn.model_selection import RandomizedSearchCV\n",
    "from sklearn.model_selection import GridSearchCV\n",
    "from sklearn.decomposition import PCA\n",
    "from sklearn.metrics import roc_auc_score\n",
    "from sklearn.metrics import roc_curve\n",
    "from sklearn.metrics import precision_recall_curve\n",
    "from sklearn.metrics import confusion_matrix\n",
    "from sklearn.metrics import plot_confusion_matrix\n",
    "from sklearn.metrics import plot_roc_curve\n",
    "from sklearn.metrics import classification_report\n",
    "from sklearn.pipeline import Pipeline\n",
    "from scipy import stats\n",
    "from joblib import dump\n",
    "from joblib import load\n",
    "import xgboost as xgb\n",
    "import matplotlib.pyplot as plt\n",
    "from typing import Dict\n",
    "from kaggle.api.kaggle_api_extended import KaggleApi\n",
    "from dotenv import find_dotenv, load_dotenv\n",
    "from collections import Counter\n",
    "from imblearn.over_sampling import SMOTE\n",
    "from imblearn.under_sampling import RandomUnderSampler\n",
    "\n",
    "from src.data import make_dataset\n",
    "from src.models.null import NullModel\n",
    "from src.visualization.visualize import classification_reports, classification_reports_2\n",
    "from src.visualization.visualize import plot_pie"
   ]
  },
  {
   "cell_type": "code",
   "execution_count": 2,
   "metadata": {},
   "outputs": [],
   "source": [
    "%load_ext autoreload\n",
    "%autoreload 2"
   ]
  },
  {
   "cell_type": "code",
   "execution_count": 3,
   "metadata": {},
   "outputs": [],
   "source": [
    "load_dotenv(find_dotenv())\n",
    "api = KaggleApi()\n",
    "api.authenticate()"
   ]
  },
  {
   "cell_type": "code",
   "execution_count": 4,
   "metadata": {},
   "outputs": [],
   "source": [
    "competition = os.environ['COMPETITION']"
   ]
  },
  {
   "cell_type": "markdown",
   "metadata": {},
   "source": [
    "# Set up directories"
   ]
  },
  {
   "cell_type": "code",
   "execution_count": 5,
   "metadata": {
    "collapsed": false,
    "jupyter": {
     "outputs_hidden": false
    },
    "pycharm": {
     "name": "#%%\n"
    }
   },
   "outputs": [],
   "source": [
    "project_dir = Path.cwd().parent.parent\n",
    "data_dir = project_dir / 'data'\n",
    "raw_data_dir = data_dir / 'raw'\n",
    "interim_data_dir = data_dir / 'interim'\n",
    "processed_data_dir = data_dir / 'processed'\n",
    "models_dir = project_dir / 'models'"
   ]
  },
  {
   "cell_type": "markdown",
   "metadata": {},
   "source": [
    "# Load data"
   ]
  },
  {
   "cell_type": "code",
   "execution_count": 16,
   "metadata": {},
   "outputs": [],
   "source": [
    "X_train, X_val, y_train, y_val, X_test = make_dataset.load_sets(interim_data_dir)\n",
    "test_id = pd.read_csv(interim_data_dir / 'test_id.csv')"
   ]
  },
  {
   "cell_type": "markdown",
   "metadata": {},
   "source": [
    "# Baseline\n",
    "\n",
    "The base line prediction is simply to make them all negative."
   ]
  },
  {
   "cell_type": "code",
   "execution_count": 17,
   "metadata": {},
   "outputs": [
    {
     "data": {
      "image/png": "[encoded data removed]",
      "text/plain": [
       "<Figure size 432x288 with 1 Axes>"
      ]
     },
     "metadata": {},
     "output_type": "display_data"
    }
   ],
   "source": [
    "labels = 'Positive', 'Negative'\n",
    "pos_count = (y_train == 1).sum()\n",
    "neg_count = (y_train == 0).sum()\n",
    "sizes = [pos_count, neg_count]\n",
    "explode = (0, 0.1)  # only \"explode\" the 2nd slice (i.e. 'Hogs')\n",
    "\n",
    "fig1, ax1 = plt.subplots()\n",
    "ax1.pie(sizes, explode=explode, labels=labels, autopct='%1.1f%%',\n",
    "        shadow=True, startangle=90)\n",
    "ax1.axis('equal')  # Equal aspect ratio ensures that pie is drawn as a circle.\n",
    "\n",
    "plt.show()"
   ]
  },
  {
   "cell_type": "code",
   "execution_count": 18,
   "metadata": {},
   "outputs": [
    {
     "data": {
      "text/plain": [
       "1    0.833125\n",
       "0    0.166875\n",
       "Name: TARGET_5Yrs, dtype: float64"
      ]
     },
     "execution_count": 18,
     "metadata": {},
     "output_type": "execute_result"
    }
   ],
   "source": [
    "pd.Series(y_train).value_counts(normalize=True)"
   ]
  },
  {
   "cell_type": "code",
   "execution_count": 19,
   "metadata": {},
   "outputs": [
    {
     "data": {
      "image/png": "[encoded data removed]",
      "text/plain": [
       "<Figure size 432x288 with 1 Axes>"
      ]
     },
     "metadata": {},
     "output_type": "display_data"
    }
   ],
   "source": [
    "labels = 'Positive', 'Negative'\n",
    "pos_count = (y_val == 1).sum()\n",
    "neg_count = (y_val == 0).sum()\n",
    "sizes = [pos_count, neg_count]\n",
    "explode = (0, 0.1)  # only \"explode\" the 2nd slice (i.e. 'Hogs')\n",
    "\n",
    "fig1, ax1 = plt.subplots()\n",
    "ax1.pie(sizes, explode=explode, labels=labels, autopct='%1.1f%%',\n",
    "        shadow=True, startangle=90)\n",
    "ax1.axis('equal')  # Equal aspect ratio ensures that pie is drawn as a circle.\n",
    "\n",
    "plt.show()"
   ]
  },
  {
   "cell_type": "markdown",
   "metadata": {},
   "source": [
    "## Baseline Score\n",
    "\n",
    "The baseline score from the previous exploration iteration."
   ]
  },
  {
   "cell_type": "code",
   "execution_count": 20,
   "metadata": {},
   "outputs": [],
   "source": [
    "clf_smote = load(models_dir / 'exploratory_xgb.joblib')"
   ]
  },
  {
   "cell_type": "code",
   "execution_count": 21,
   "metadata": {},
   "outputs": [
    {
     "data": {
      "text/plain": [
       "12"
      ]
     },
     "execution_count": 21,
     "metadata": {},
     "output_type": "execute_result"
    }
   ],
   "source": [
    "best_ntree_limit = clf_smote.get_booster().best_ntree_limit\n",
    "best_ntree_limit"
   ]
  },
  {
   "cell_type": "code",
   "execution_count": 23,
   "metadata": {},
   "outputs": [],
   "source": [
    "preds_train = clf_smote.predict(X_train, ntree_limit=best_ntree_limit)\n",
    "probs_train = clf_smote.predict_proba(X_train, ntree_limit=best_ntree_limit)[:, 1]\n",
    "preds_val = clf_smote.predict(X_val, ntree_limit=best_ntree_limit)\n",
    "probs_val = clf_smote.predict_proba(X_val, ntree_limit=best_ntree_limit)[:, 1]"
   ]
  },
  {
   "cell_type": "code",
   "execution_count": 24,
   "metadata": {},
   "outputs": [
    {
     "name": "stdout",
     "output_type": "stream",
     "text": [
      " class 1 :  1337\n",
      " class 0 :  263\n",
      "Confusion Matrix: \n",
      " [[  13  250]\n",
      " [  19 1318]]\n",
      "Accuracy:  0.831875\n",
      "AUC:  0.6868379067829629\n",
      "              precision    recall  f1-score   support\n",
      "\n",
      "           0       0.41      0.05      0.09       263\n",
      "           1       0.84      0.99      0.91      1337\n",
      "\n",
      "    accuracy                           0.83      1600\n",
      "   macro avg       0.62      0.52      0.50      1600\n",
      "weighted avg       0.77      0.83      0.77      1600\n",
      "\n"
     ]
    },
    {
     "data": {
      "image/png": "[encoded data removed]",
      "text/plain": [
       "<Figure size 432x288 with 1 Axes>"
      ]
     },
     "metadata": {
      "needs_background": "light"
     },
     "output_type": "display_data"
    }
   ],
   "source": [
    "classification_reports_2(y_val, preds_val, probs_val)"
   ]
  },
  {
   "cell_type": "markdown",
   "metadata": {},
   "source": [
    "### Baseline AUC\n",
    "\n",
    "The AUC of the validation set is 0.687."
   ]
  },
  {
   "cell_type": "markdown",
   "metadata": {},
   "source": [
    "# SMOTE"
   ]
  },
  {
   "cell_type": "code",
   "execution_count": 25,
   "metadata": {},
   "outputs": [],
   "source": [
    "smote = SMOTE()\n",
    "X_train_smote, y_train_smote = smote.fit_resample(X_train, y_train)"
   ]
  },
  {
   "cell_type": "code",
   "execution_count": 26,
   "metadata": {},
   "outputs": [
    {
     "data": {
      "image/png": "[encoded data removed]",
      "text/plain": [
       "<Figure size 432x288 with 1 Axes>"
      ]
     },
     "metadata": {},
     "output_type": "display_data"
    }
   ],
   "source": [
    "plot_pie(y_train_smote)"
   ]
  },
  {
   "cell_type": "code",
   "execution_count": 27,
   "metadata": {},
   "outputs": [
    {
     "data": {
      "text/plain": [
       "1    5332\n",
       "0    1068\n",
       "Name: TARGET_5Yrs, dtype: int64"
      ]
     },
     "execution_count": 27,
     "metadata": {},
     "output_type": "execute_result"
    }
   ],
   "source": [
    "pd.Series(y_train).value_counts()"
   ]
  },
  {
   "cell_type": "code",
   "execution_count": 28,
   "metadata": {},
   "outputs": [
    {
     "data": {
      "text/plain": [
       "0    5332\n",
       "1    5332\n",
       "Name: TARGET_5Yrs, dtype: int64"
      ]
     },
     "execution_count": 28,
     "metadata": {},
     "output_type": "execute_result"
    }
   ],
   "source": [
    "pd.Series(y_train_smote).value_counts()"
   ]
  },
  {
   "cell_type": "code",
   "execution_count": 29,
   "metadata": {},
   "outputs": [
    {
     "name": "stdout",
     "output_type": "stream",
     "text": [
      "[0]\tvalidation_0-auc:0.66015\n",
      "[1]\tvalidation_0-auc:0.65881\n",
      "[2]\tvalidation_0-auc:0.67220\n",
      "[3]\tvalidation_0-auc:0.67619\n",
      "[4]\tvalidation_0-auc:0.68163\n",
      "[5]\tvalidation_0-auc:0.67658\n",
      "[6]\tvalidation_0-auc:0.68618\n",
      "[7]\tvalidation_0-auc:0.68246\n",
      "[8]\tvalidation_0-auc:0.67712\n",
      "[9]\tvalidation_0-auc:0.67538\n"
     ]
    },
    {
     "name": "stderr",
     "output_type": "stream",
     "text": [
      "c:\\users\\mactuary\\.virtualenvs\\assignment_1-rwa_wvyq\\lib\\site-packages\\xgboost\\sklearn.py:888: UserWarning: The use of label encoder in XGBClassifier is deprecated and will be removed in a future release. To remove this warning, do the following: 1) Pass option use_label_encoder=False when constructing XGBClassifier object; and 2) Encode your labels (y) as integers starting with 0, i.e. 0, 1, 2, ..., [num_class - 1].\n",
      "  warnings.warn(label_encoder_deprecation_msg, UserWarning)\n"
     ]
    },
    {
     "name": "stdout",
     "output_type": "stream",
     "text": [
      "[10]\tvalidation_0-auc:0.67707\n",
      "[11]\tvalidation_0-auc:0.67594\n",
      "[12]\tvalidation_0-auc:0.67515\n",
      "[13]\tvalidation_0-auc:0.67256\n",
      "[14]\tvalidation_0-auc:0.67462\n",
      "[15]\tvalidation_0-auc:0.67064\n",
      "[16]\tvalidation_0-auc:0.67414\n",
      "best_ntree_limit: 7\n",
      " class 1 :  5332\n",
      " class 0 :  5332\n",
      "Confusion Matrix: \n",
      " [[4305 1027]\n",
      " [ 640 4692]]\n",
      "Accuracy:  0.8436796699174793\n",
      "AUC:  0.9265794036656201\n",
      "              precision    recall  f1-score   support\n",
      "\n",
      "           0       0.87      0.81      0.84      5332\n",
      "           1       0.82      0.88      0.85      5332\n",
      "\n",
      "    accuracy                           0.84     10664\n",
      "   macro avg       0.85      0.84      0.84     10664\n",
      "weighted avg       0.85      0.84      0.84     10664\n",
      "\n"
     ]
    },
    {
     "data": {
      "image/png": "[encoded data removed]",
      "text/plain": [
       "<Figure size 432x288 with 1 Axes>"
      ]
     },
     "metadata": {
      "needs_background": "light"
     },
     "output_type": "display_data"
    },
    {
     "name": "stdout",
     "output_type": "stream",
     "text": [
      " class 1 :  1337\n",
      " class 0 :  263\n",
      "Confusion Matrix: \n",
      " [[  83  180]\n",
      " [ 196 1141]]\n",
      "Accuracy:  0.765\n",
      "AUC:  0.6861795461719815\n",
      "              precision    recall  f1-score   support\n",
      "\n",
      "           0       0.30      0.32      0.31       263\n",
      "           1       0.86      0.85      0.86      1337\n",
      "\n",
      "    accuracy                           0.77      1600\n",
      "   macro avg       0.58      0.58      0.58      1600\n",
      "weighted avg       0.77      0.77      0.77      1600\n",
      "\n"
     ]
    },
    {
     "data": {
      "image/png": "[encoded data removed]",
      "text/plain": [
       "<Figure size 432x288 with 1 Axes>"
      ]
     },
     "metadata": {
      "needs_background": "light"
     },
     "output_type": "display_data"
    }
   ],
   "source": [
    "clf_smote = xgb.XGBClassifier(\n",
    "    eval_metric='logloss')\n",
    "clf_smote.fit(X_train_smote, \n",
    "              y_train_smote,\n",
    "              eval_metric='auc',\n",
    "              eval_set=[(X_val, y_val)],\n",
    "              early_stopping_rounds=10,\n",
    "              verbose=True)\n",
    "\n",
    "best_ntree_limit = clf_smote.get_booster().best_ntree_limit\n",
    "print(f'best_ntree_limit: {best_ntree_limit}')\n",
    "\n",
    "preds_train = clf_smote.predict(X_train_smote, ntree_limit=best_ntree_limit)\n",
    "probs_train = clf_smote.predict_proba(X_train_smote, ntree_limit=best_ntree_limit)[:, 1]\n",
    "preds_val = clf_smote.predict(X_val, ntree_limit=best_ntree_limit)\n",
    "probs_val = clf_smote.predict_proba(X_val, ntree_limit=best_ntree_limit)[:, 1]\n",
    "\n",
    "\n",
    "classification_reports(clf_smote, X_train_smote, y_train_smote)\n",
    "classification_reports(clf_smote, X_val, y_val)"
   ]
  },
  {
   "cell_type": "markdown",
   "metadata": {},
   "source": [
    "### SMOTE AUC\n",
    "\n",
    "The SMOTE AUC is 0.682."
   ]
  },
  {
   "cell_type": "markdown",
   "metadata": {},
   "source": [
    "## Conclusion\n",
    "\n",
    "The validation AUC score did not improve; from 0.687 to 0.682."
   ]
  },
  {
   "cell_type": "markdown",
   "metadata": {},
   "source": [
    "# SMOTE with undersampling"
   ]
  },
  {
   "cell_type": "code",
   "execution_count": 30,
   "metadata": {},
   "outputs": [
    {
     "data": {
      "text/plain": [
       "1    5332\n",
       "0    1068\n",
       "Name: TARGET_5Yrs, dtype: int64"
      ]
     },
     "execution_count": 30,
     "metadata": {},
     "output_type": "execute_result"
    }
   ],
   "source": [
    "pd.Series(y_train).value_counts()"
   ]
  },
  {
   "cell_type": "code",
   "execution_count": 31,
   "metadata": {},
   "outputs": [
    {
     "data": {
      "text/plain": [
       "1    0.833125\n",
       "0    0.166875\n",
       "Name: TARGET_5Yrs, dtype: float64"
      ]
     },
     "execution_count": 31,
     "metadata": {},
     "output_type": "execute_result"
    }
   ],
   "source": [
    "pd.Series(y_train).value_counts(normalize=True)"
   ]
  },
  {
   "cell_type": "code",
   "execution_count": 32,
   "metadata": {},
   "outputs": [
    {
     "data": {
      "text/plain": [
       "0.2003000750187547"
      ]
     },
     "execution_count": 32,
     "metadata": {},
     "output_type": "execute_result"
    }
   ],
   "source": [
    "(pd.Series(y_train) == 0).sum() / (pd.Series(y_train) == 1).sum()"
   ]
  },
  {
   "cell_type": "code",
   "execution_count": 33,
   "metadata": {},
   "outputs": [
    {
     "name": "stdout",
     "output_type": "stream",
     "text": [
      "0.4\n",
      "0.46\n",
      "0.52\n",
      "0.5800000000000001\n",
      "0.64\n",
      "0.7\n",
      "0.76\n",
      "0.8200000000000001\n",
      "0.88\n",
      "0.9400000000000001\n",
      "1.0\n"
     ]
    }
   ],
   "source": [
    "for over_perc in np.linspace(0.4, 1, 11):\n",
    "    print(over_perc)"
   ]
  },
  {
   "cell_type": "code",
   "execution_count": 34,
   "metadata": {},
   "outputs": [
    {
     "data": {
      "text/plain": [
       "0    5332\n",
       "1    5332\n",
       "Name: TARGET_5Yrs, dtype: int64"
      ]
     },
     "execution_count": 34,
     "metadata": {},
     "output_type": "execute_result"
    }
   ],
   "source": [
    "X_smote, y_smote = SMOTE(sampling_strategy=1).fit_resample(X_train, y_train)\n",
    "pd.Series(y_smote).value_counts()"
   ]
  },
  {
   "cell_type": "code",
   "execution_count": 35,
   "metadata": {},
   "outputs": [
    {
     "data": {
      "text/plain": [
       "array([0.5 , 0.55, 0.6 , 0.65, 0.7 , 0.75, 0.8 , 0.85, 0.9 , 0.95, 1.  ])"
      ]
     },
     "execution_count": 35,
     "metadata": {},
     "output_type": "execute_result"
    }
   ],
   "source": [
    "np.arange(0.5, 1.05, 0.05)"
   ]
  },
  {
   "cell_type": "code",
   "execution_count": 36,
   "metadata": {},
   "outputs": [
    {
     "name": "stdout",
     "output_type": "stream",
     "text": [
      "1    0.832628\n",
      "0    0.167372\n",
      "Name: TARGET_5Yrs, dtype: float64\n"
     ]
    }
   ],
   "source": [
    "X_train_under, y_train_under = RandomUnderSampler(sampling_strategy=0.201).fit_resample(X_train, y_train)\n",
    "print(pd.Series(y_train_under).value_counts(normalize=True))"
   ]
  },
  {
   "cell_type": "code",
   "execution_count": 37,
   "metadata": {},
   "outputs": [
    {
     "data": {
      "text/plain": [
       "0.2010163749294184"
      ]
     },
     "execution_count": 37,
     "metadata": {},
     "output_type": "execute_result"
    }
   ],
   "source": [
    "(pd.Series(y_train_under) == 0).sum() / (pd.Series(y_train_under) == 1).sum()"
   ]
  },
  {
   "cell_type": "code",
   "execution_count": 38,
   "metadata": {},
   "outputs": [
    {
     "data": {
      "text/plain": [
       "1.0"
      ]
     },
     "execution_count": 38,
     "metadata": {},
     "output_type": "execute_result"
    }
   ],
   "source": [
    "over_perc"
   ]
  },
  {
   "cell_type": "code",
   "execution_count": 39,
   "metadata": {},
   "outputs": [
    {
     "data": {
      "text/plain": [
       "5"
      ]
     },
     "execution_count": 39,
     "metadata": {},
     "output_type": "execute_result"
    }
   ],
   "source": [
    "len(np.arange(0.203, 0.45, 0.05))"
   ]
  },
  {
   "cell_type": "code",
   "execution_count": 40,
   "metadata": {},
   "outputs": [
    {
     "name": "stdout",
     "output_type": "stream",
     "text": [
      "under_perc: 0.203\n",
      "over_perc: 0.253\n",
      "best_ntree_limit: 21\n",
      "over_perc: 0.303\n",
      "best_ntree_limit: 7\n",
      "over_perc: 0.353\n",
      "best_ntree_limit: 6\n",
      "over_perc: 0.40299999999999997\n",
      "best_ntree_limit: 9\n",
      "over_perc: 0.45299999999999996\n",
      "best_ntree_limit: 6\n",
      "over_perc: 0.5029999999999999\n",
      "best_ntree_limit: 16\n",
      "over_perc: 0.5529999999999999\n",
      "best_ntree_limit: 20\n",
      "over_perc: 0.603\n",
      "best_ntree_limit: 11\n",
      "over_perc: 0.6529999999999999\n",
      "best_ntree_limit: 3\n",
      "over_perc: 0.7029999999999998\n",
      "best_ntree_limit: 8\n",
      "over_perc: 0.7529999999999999\n",
      "best_ntree_limit: 2\n",
      "over_perc: 0.8029999999999998\n",
      "best_ntree_limit: 9\n",
      "over_perc: 0.8529999999999999\n",
      "best_ntree_limit: 7\n",
      "over_perc: 0.9029999999999999\n",
      "best_ntree_limit: 13\n",
      "over_perc: 0.9529999999999998\n",
      "best_ntree_limit: 6\n",
      "under_perc: 0.253\n",
      "over_perc: 0.303\n",
      "best_ntree_limit: 6\n",
      "over_perc: 0.353\n",
      "best_ntree_limit: 20\n",
      "over_perc: 0.40299999999999997\n",
      "best_ntree_limit: 17\n",
      "over_perc: 0.45299999999999996\n",
      "best_ntree_limit: 9\n",
      "over_perc: 0.5029999999999999\n",
      "best_ntree_limit: 11\n",
      "over_perc: 0.5529999999999999\n",
      "best_ntree_limit: 12\n",
      "over_perc: 0.603\n",
      "best_ntree_limit: 11\n",
      "over_perc: 0.6529999999999999\n",
      "best_ntree_limit: 13\n",
      "over_perc: 0.7029999999999998\n",
      "best_ntree_limit: 10\n",
      "over_perc: 0.7529999999999999\n",
      "best_ntree_limit: 10\n",
      "over_perc: 0.8029999999999999\n",
      "best_ntree_limit: 7\n",
      "over_perc: 0.8529999999999998\n",
      "best_ntree_limit: 6\n",
      "over_perc: 0.9029999999999998\n",
      "best_ntree_limit: 7\n",
      "over_perc: 0.9529999999999998\n",
      "best_ntree_limit: 8\n",
      "under_perc: 0.303\n",
      "over_perc: 0.353\n",
      "best_ntree_limit: 21\n",
      "over_perc: 0.40299999999999997\n",
      "best_ntree_limit: 9\n",
      "over_perc: 0.45299999999999996\n",
      "best_ntree_limit: 11\n",
      "over_perc: 0.5029999999999999\n",
      "best_ntree_limit: 10\n",
      "over_perc: 0.5529999999999999\n",
      "best_ntree_limit: 12\n",
      "over_perc: 0.603\n",
      "best_ntree_limit: 3\n",
      "over_perc: 0.6529999999999999\n",
      "best_ntree_limit: 12\n",
      "over_perc: 0.7029999999999998\n",
      "best_ntree_limit: 8\n",
      "over_perc: 0.7529999999999999\n",
      "best_ntree_limit: 6\n",
      "over_perc: 0.8029999999999999\n",
      "best_ntree_limit: 8\n",
      "over_perc: 0.8529999999999999\n",
      "best_ntree_limit: 9\n",
      "over_perc: 0.9029999999999998\n",
      "best_ntree_limit: 4\n",
      "over_perc: 0.9529999999999998\n",
      "best_ntree_limit: 8\n",
      "under_perc: 0.353\n",
      "over_perc: 0.40299999999999997\n",
      "best_ntree_limit: 9\n",
      "over_perc: 0.45299999999999996\n",
      "best_ntree_limit: 3\n",
      "over_perc: 0.5029999999999999\n",
      "best_ntree_limit: 4\n",
      "over_perc: 0.5529999999999999\n",
      "best_ntree_limit: 8\n",
      "over_perc: 0.603\n",
      "best_ntree_limit: 8\n",
      "over_perc: 0.6529999999999999\n",
      "best_ntree_limit: 3\n",
      "over_perc: 0.7029999999999998\n",
      "best_ntree_limit: 13\n",
      "over_perc: 0.7529999999999999\n",
      "best_ntree_limit: 11\n",
      "over_perc: 0.8029999999999999\n",
      "best_ntree_limit: 3\n",
      "over_perc: 0.8529999999999999\n",
      "best_ntree_limit: 8\n",
      "over_perc: 0.9029999999999998\n",
      "best_ntree_limit: 5\n",
      "over_perc: 0.9529999999999998\n",
      "best_ntree_limit: 7\n",
      "under_perc: 0.40299999999999997\n",
      "over_perc: 0.45299999999999996\n",
      "best_ntree_limit: 14\n",
      "over_perc: 0.503\n",
      "best_ntree_limit: 20\n",
      "over_perc: 0.553\n",
      "best_ntree_limit: 4\n",
      "over_perc: 0.6030000000000001\n",
      "best_ntree_limit: 6\n",
      "over_perc: 0.6530000000000001\n",
      "best_ntree_limit: 12\n",
      "over_perc: 0.7030000000000002\n",
      "best_ntree_limit: 3\n",
      "over_perc: 0.7530000000000002\n",
      "best_ntree_limit: 9\n",
      "over_perc: 0.8030000000000003\n",
      "best_ntree_limit: 3\n",
      "over_perc: 0.8530000000000003\n",
      "best_ntree_limit: 9\n",
      "over_perc: 0.9030000000000004\n",
      "best_ntree_limit: 26\n",
      "over_perc: 0.9530000000000004\n",
      "best_ntree_limit: 7\n"
     ]
    }
   ],
   "source": [
    "train_auc_list = []\n",
    "val_auc_list = []\n",
    "best_ntree_list = []\n",
    "n_positive_list = []\n",
    "n_negative_list = []\n",
    "\n",
    "for under_perc in np.arange(0.203, 0.45, 0.05):\n",
    "    print(f'under_perc: {under_perc}')\n",
    "    X_train_under, y_train_under = RandomUnderSampler(sampling_strategy=under_perc).fit_resample(X_train, y_train)\n",
    "    for over_perc in np.arange(under_perc + 0.05, 1, 0.05):\n",
    "        print(f'over_perc: {over_perc}')\n",
    "        X_train_smote, y_train_smote = SMOTE(sampling_strategy=over_perc).fit_resample(X_train_under, y_train_under)\n",
    "        \n",
    "        clf_smote = xgb.XGBClassifier(use_label_encoder=False, eval_metric='logloss')\n",
    "        clf_smote.fit(X_train_smote, \n",
    "                      y_train_smote,\n",
    "                      eval_metric='auc',\n",
    "                      eval_set=[(X_val, y_val)],\n",
    "                      early_stopping_rounds=10,\n",
    "                      verbose=False)\n",
    "\n",
    "        best_ntree_limit = clf_smote.get_booster().best_ntree_limit\n",
    "        print(f'best_ntree_limit: {best_ntree_limit}')\n",
    "\n",
    "        preds_train = clf_smote.predict(X_train_smote, ntree_limit=best_ntree_limit)\n",
    "        probs_train = clf_smote.predict_proba(X_train_smote, ntree_limit=best_ntree_limit)[:, 1]\n",
    "        preds_val = clf_smote.predict(X_val, ntree_limit=best_ntree_limit)\n",
    "        probs_val = clf_smote.predict_proba(X_val, ntree_limit=best_ntree_limit)[:, 1]\n",
    "        \n",
    "        n_positive_list.append((y_train_smote == 1).sum())\n",
    "        n_negative_list.append((y_train_smote == 0).sum())\n",
    "        best_ntree_list.append(best_ntree_limit)\n",
    "        train_auc_list.append(roc_auc_score(y_train_smote, preds_train))\n",
    "        val_auc_list.append(roc_auc_score(y_val, preds_val))\n",
    "\n",
    "result_df = pd.DataFrame({'n_positive': n_positive_list,\n",
    "                          'n_negative': n_negative_list,\n",
    "                          'best_ntree': best_ntree_list,\n",
    "                          'train_auc': train_auc_list,\n",
    "                          'val_auc': val_auc_list})\n",
    "# smote = SMOTE(sampling_strategy=0.3)\n",
    "# under = RandomUnderSampler(sampling_strategy=0.5)\n",
    "\n",
    "# X_train_smote, y_train_smote = under.fit_resample(X_train, y_train)\n",
    "# X_train_under, y_train_under = under.fit_resample(X_train_smote, y_train_smote)"
   ]
  },
  {
   "cell_type": "code",
   "execution_count": 41,
   "metadata": {},
   "outputs": [
    {
     "data": {
      "text/html": [
       "<div>\n",
       "<style scoped>\n",
       "    .dataframe tbody tr th:only-of-type {\n",
       "        vertical-align: middle;\n",
       "    }\n",
       "\n",
       "    .dataframe tbody tr th {\n",
       "        vertical-align: top;\n",
       "    }\n",
       "\n",
       "    .dataframe thead th {\n",
       "        text-align: right;\n",
       "    }\n",
       "</style>\n",
       "<table border=\"1\" class=\"dataframe\">\n",
       "  <thead>\n",
       "    <tr style=\"text-align: right;\">\n",
       "      <th></th>\n",
       "      <th>n_positive</th>\n",
       "      <th>n_negative</th>\n",
       "      <th>best_ntree</th>\n",
       "      <th>train_auc</th>\n",
       "      <th>val_auc</th>\n",
       "    </tr>\n",
       "  </thead>\n",
       "  <tbody>\n",
       "    <tr>\n",
       "      <th>60</th>\n",
       "      <td>2650</td>\n",
       "      <td>1995</td>\n",
       "      <td>9</td>\n",
       "      <td>0.797647</td>\n",
       "      <td>0.630779</td>\n",
       "    </tr>\n",
       "    <tr>\n",
       "      <th>64</th>\n",
       "      <td>2650</td>\n",
       "      <td>2525</td>\n",
       "      <td>7</td>\n",
       "      <td>0.801125</td>\n",
       "      <td>0.623395</td>\n",
       "    </tr>\n",
       "    <tr>\n",
       "      <th>61</th>\n",
       "      <td>2650</td>\n",
       "      <td>2127</td>\n",
       "      <td>3</td>\n",
       "      <td>0.760877</td>\n",
       "      <td>0.621992</td>\n",
       "    </tr>\n",
       "    <tr>\n",
       "      <th>57</th>\n",
       "      <td>2650</td>\n",
       "      <td>1597</td>\n",
       "      <td>6</td>\n",
       "      <td>0.738511</td>\n",
       "      <td>0.619839</td>\n",
       "    </tr>\n",
       "    <tr>\n",
       "      <th>10</th>\n",
       "      <td>5261</td>\n",
       "      <td>3961</td>\n",
       "      <td>2</td>\n",
       "      <td>0.781783</td>\n",
       "      <td>0.619496</td>\n",
       "    </tr>\n",
       "    <tr>\n",
       "      <th>...</th>\n",
       "      <td>...</td>\n",
       "      <td>...</td>\n",
       "      <td>...</td>\n",
       "      <td>...</td>\n",
       "      <td>...</td>\n",
       "    </tr>\n",
       "    <tr>\n",
       "      <th>15</th>\n",
       "      <td>4221</td>\n",
       "      <td>1278</td>\n",
       "      <td>6</td>\n",
       "      <td>0.629208</td>\n",
       "      <td>0.531978</td>\n",
       "    </tr>\n",
       "    <tr>\n",
       "      <th>2</th>\n",
       "      <td>5261</td>\n",
       "      <td>1857</td>\n",
       "      <td>6</td>\n",
       "      <td>0.678085</td>\n",
       "      <td>0.531448</td>\n",
       "    </tr>\n",
       "    <tr>\n",
       "      <th>3</th>\n",
       "      <td>5261</td>\n",
       "      <td>2120</td>\n",
       "      <td>9</td>\n",
       "      <td>0.731872</td>\n",
       "      <td>0.530669</td>\n",
       "    </tr>\n",
       "    <tr>\n",
       "      <th>1</th>\n",
       "      <td>5261</td>\n",
       "      <td>1594</td>\n",
       "      <td>7</td>\n",
       "      <td>0.630566</td>\n",
       "      <td>0.527552</td>\n",
       "    </tr>\n",
       "    <tr>\n",
       "      <th>0</th>\n",
       "      <td>5261</td>\n",
       "      <td>1331</td>\n",
       "      <td>21</td>\n",
       "      <td>0.650240</td>\n",
       "      <td>0.516519</td>\n",
       "    </tr>\n",
       "  </tbody>\n",
       "</table>\n",
       "<p>65 rows × 5 columns</p>\n",
       "</div>"
      ],
      "text/plain": [
       "    n_positive  n_negative  best_ntree  train_auc   val_auc\n",
       "60        2650        1995           9   0.797647  0.630779\n",
       "64        2650        2525           7   0.801125  0.623395\n",
       "61        2650        2127           3   0.760877  0.621992\n",
       "57        2650        1597           6   0.738511  0.619839\n",
       "10        5261        3961           2   0.781783  0.619496\n",
       "..         ...         ...         ...        ...       ...\n",
       "15        4221        1278           6   0.629208  0.531978\n",
       "2         5261        1857           6   0.678085  0.531448\n",
       "3         5261        2120           9   0.731872  0.530669\n",
       "1         5261        1594           7   0.630566  0.527552\n",
       "0         5261        1331          21   0.650240  0.516519\n",
       "\n",
       "[65 rows x 5 columns]"
      ]
     },
     "execution_count": 41,
     "metadata": {},
     "output_type": "execute_result"
    }
   ],
   "source": [
    "result_df.sort_values(by=['val_auc'], ascending=False)"
   ]
  },
  {
   "cell_type": "markdown",
   "metadata": {},
   "source": [
    "## SMOTE and undersampling UAC"
   ]
  },
  {
   "cell_type": "markdown",
   "metadata": {},
   "source": [
    "Even with different combinations of oversampling and undersampling, the highest validation AUC is 0.633, which is not an improvement."
   ]
  },
  {
   "cell_type": "code",
   "execution_count": 42,
   "metadata": {},
   "outputs": [
    {
     "data": {
      "text/plain": [
       "1    5332\n",
       "0    1068\n",
       "Name: TARGET_5Yrs, dtype: int64"
      ]
     },
     "execution_count": 42,
     "metadata": {},
     "output_type": "execute_result"
    }
   ],
   "source": [
    "#\n",
    "y_train.value_counts()"
   ]
  }
 ],
 "metadata": {
  "kernelspec": {
   "display_name": "Python 3",
   "language": "python",
   "name": "python3"
  },
  "language_info": {
   "codemirror_mode": {
    "name": "ipython",
    "version": 3
   },
   "file_extension": ".py",
   "mimetype": "text/x-python",
   "name": "python",
   "nbconvert_exporter": "python",
   "pygments_lexer": "ipython3",
   "version": "3.8.7"
  },
  "toc-autonumbering": true
 },
 "nbformat": 4,
 "nbformat_minor": 4
}
