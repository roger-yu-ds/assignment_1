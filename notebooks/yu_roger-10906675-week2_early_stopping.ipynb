{
 "cells": [
  {
   "cell_type": "markdown",
   "metadata": {},
   "source": [
    "# Introduction\n",
    "\n",
    "This notebook is based on [yu_roger-10906675-week1_randcv_xgb_69051.ipynb](https://github.com/roger-yu-ds/assignment_1/blob/roger/notebooks/yu_roger-10906675-week1_randcv_xgb_69051.ipynb), which achieved 0.69051 AUC on the test set in Kaggle.\n",
    "\n",
    "## Early Stopping\n",
    "The purpose of this notebook is to investigate the improvement in the model when the model uses [early stopping](https://machinelearningmastery.com/avoid-overfitting-by-early-stopping-with-xgboost-in-python/), i.e. stops the training when the metric on the validation set stops to improve.\n",
    "\n",
    "## Limited Features\n",
    "Another goal of this notebook is to limit the features and calculate the validation AUC.\n",
    "\n",
    "## Summary\n",
    "* [Early stopping](#Conclusion:-early-stopping) has reduced overfitting and increased the validation AUC from 0.660 to 0.687.\n",
    "* [Feature selection](#Conclusion:-feature-importance) according to the top 8 feature importance (by gain) has also reduced overfitting as can be seen by the more similar train AUC and validation AUC of 0.743 and 0.685, respectively.\n",
    "* The predictions are heavily weighted to the positive class, with almost no predictions in the negative class."
   ]
  },
  {
   "cell_type": "code",
   "execution_count": 2,
   "metadata": {},
   "outputs": [],
   "source": [
    "import pandas as pd\n",
    "import numpy as np\n",
    "from pathlib import Path\n",
    "import os\n",
    "from sklearn.preprocessing import StandardScaler\n",
    "from sklearn.model_selection import train_test_split\n",
    "from sklearn.model_selection import RandomizedSearchCV\n",
    "from sklearn.model_selection import GridSearchCV\n",
    "from sklearn.decomposition import PCA\n",
    "from sklearn.metrics import roc_auc_score\n",
    "from sklearn.metrics import roc_curve\n",
    "from sklearn.metrics import precision_recall_curve\n",
    "from sklearn.metrics import confusion_matrix\n",
    "from sklearn.metrics import plot_confusion_matrix\n",
    "from sklearn.metrics import plot_roc_curve\n",
    "from sklearn.metrics import classification_report\n",
    "from sklearn.pipeline import Pipeline\n",
    "from scipy import stats\n",
    "from joblib import dump\n",
    "from joblib import load\n",
    "import xgboost as xgb\n",
    "import matplotlib.pyplot as plt\n",
    "from typing import Dict\n",
    "from kaggle.api.kaggle_api_extended import KaggleApi\n",
    "from dotenv import find_dotenv, load_dotenv\n",
    "from collections import Counter\n",
    "from imblearn.over_sampling import SMOTE\n",
    "import matplotlib.pyplot as plt\n",
    "import seaborn as sns\n",
    "\n",
    "from src.data import make_dataset\n",
    "from src.models.null import NullModel\n",
    "from src.visualization.visualize import classification_reports, classification_reports_2\n",
    "from src.visualization.visualize import plot_pie, create_feature_importance_df, plot_feature_importances\n"
   ]
  },
  {
   "cell_type": "code",
   "execution_count": 3,
   "metadata": {},
   "outputs": [],
   "source": [
    "%load_ext autoreload\n",
    "%autoreload 2"
   ]
  },
  {
   "cell_type": "code",
   "execution_count": 4,
   "metadata": {},
   "outputs": [],
   "source": [
    "load_dotenv(find_dotenv())\n",
    "api = KaggleApi()\n",
    "api.authenticate()"
   ]
  },
  {
   "cell_type": "code",
   "execution_count": 5,
   "metadata": {},
   "outputs": [],
   "source": [
    "competition = os.environ['COMPETITION']"
   ]
  },
  {
   "cell_type": "markdown",
   "metadata": {},
   "source": [
    "# Set up directories"
   ]
  },
  {
   "cell_type": "code",
   "execution_count": 9,
   "metadata": {
    "collapsed": false,
    "jupyter": {
     "outputs_hidden": false
    },
    "pycharm": {
     "name": "#%%\n"
    }
   },
   "outputs": [],
   "source": [
    "project_dir = Path.cwd().parent\n",
    "data_dir = project_dir / 'data'\n",
    "raw_data_dir = data_dir / 'raw'\n",
    "interim_data_dir = data_dir / 'interim'\n",
    "processed_data_dir = data_dir / 'processed'\n",
    "models_dir = project_dir / 'models'"
   ]
  },
  {
   "cell_type": "markdown",
   "metadata": {},
   "source": [
    "# Load data"
   ]
  },
  {
   "cell_type": "code",
   "execution_count": 11,
   "metadata": {},
   "outputs": [],
   "source": [
    "X_train, X_val, y_train, y_val, X_test = make_dataset.load_sets(interim_data_dir)\n",
    "test_id = pd.read_csv(interim_data_dir / 'test_id.csv')"
   ]
  },
  {
   "cell_type": "markdown",
   "metadata": {},
   "source": [
    "# Baseline\n",
    "\n",
    "The base line prediction is simply to make them all negative."
   ]
  },
  {
   "cell_type": "code",
   "execution_count": 12,
   "metadata": {},
   "outputs": [
    {
     "data": {
      "text/plain": [
       "5332"
      ]
     },
     "execution_count": 12,
     "metadata": {},
     "output_type": "execute_result"
    }
   ],
   "source": [
    "(y_train.values == 1).sum()"
   ]
  },
  {
   "cell_type": "code",
   "execution_count": 13,
   "metadata": {},
   "outputs": [
    {
     "data": {
      "image/png": "[encoded data removed]",
      "text/plain": [
       "<Figure size 432x288 with 1 Axes>"
      ]
     },
     "metadata": {},
     "output_type": "display_data"
    }
   ],
   "source": [
    "labels = 'Positive', 'Negative'\n",
    "pos_count = (y_train == 1).sum()\n",
    "neg_count = (y_train == 0).sum()\n",
    "sizes = [pos_count, neg_count]\n",
    "explode = (0, 0.1)  # only \"explode\" the 2nd slice (i.e. 'Hogs')\n",
    "\n",
    "fig1, ax1 = plt.subplots()\n",
    "ax1.pie(sizes, explode=explode, labels=labels, autopct='%1.1f%%',\n",
    "        shadow=True, startangle=90)\n",
    "ax1.axis('equal')  # Equal aspect ratio ensures that pie is drawn as a circle.\n",
    "\n",
    "plt.show()"
   ]
  },
  {
   "cell_type": "code",
   "execution_count": 14,
   "metadata": {},
   "outputs": [
    {
     "data": {
      "text/plain": [
       "1    0.833125\n",
       "0    0.166875\n",
       "Name: TARGET_5Yrs, dtype: float64"
      ]
     },
     "execution_count": 14,
     "metadata": {},
     "output_type": "execute_result"
    }
   ],
   "source": [
    "pd.Series(y_train).value_counts(normalize=True)"
   ]
  },
  {
   "cell_type": "code",
   "execution_count": 15,
   "metadata": {},
   "outputs": [
    {
     "data": {
      "image/png": "[encoded data removed]",
      "text/plain": [
       "<Figure size 432x288 with 1 Axes>"
      ]
     },
     "metadata": {},
     "output_type": "display_data"
    }
   ],
   "source": [
    "labels = 'Positive', 'Negative'\n",
    "pos_count = (y_val.values == 1).sum()\n",
    "neg_count = (y_val.values == 0).sum()\n",
    "sizes = [pos_count, neg_count]\n",
    "explode = (0, 0.1)  # only \"explode\" the 2nd slice (i.e. 'Hogs')\n",
    "\n",
    "fig1, ax1 = plt.subplots()\n",
    "ax1.pie(sizes, explode=explode, labels=labels, autopct='%1.1f%%',\n",
    "        shadow=True, startangle=90)\n",
    "ax1.axis('equal')  # Equal aspect ratio ensures that pie is drawn as a circle.\n",
    "\n",
    "plt.show()"
   ]
  },
  {
   "cell_type": "markdown",
   "metadata": {},
   "source": [
    "## Baseline Score\n",
    "\n",
    "The baseline score is to merely predict the larger class for all instances of the training set."
   ]
  },
  {
   "cell_type": "code",
   "execution_count": 16,
   "metadata": {},
   "outputs": [
    {
     "data": {
      "text/plain": [
       "0.5"
      ]
     },
     "execution_count": 16,
     "metadata": {},
     "output_type": "execute_result"
    }
   ],
   "source": [
    "null_model = NullModel(target_type='classification')\n",
    "roc_auc_score(y_val, null_model.fit_predict(y_val))"
   ]
  },
  {
   "cell_type": "markdown",
   "metadata": {},
   "source": [
    "# Naive XGB"
   ]
  },
  {
   "cell_type": "code",
   "execution_count": 17,
   "metadata": {},
   "outputs": [],
   "source": [
    "clf = xgb.XGBClassifier(use_label_encoder=False, eval_metric='logloss')"
   ]
  },
  {
   "cell_type": "code",
   "execution_count": 18,
   "metadata": {},
   "outputs": [
    {
     "data": {
      "text/plain": [
       "XGBClassifier(base_score=0.5, booster='gbtree', colsample_bylevel=1,\n",
       "              colsample_bynode=1, colsample_bytree=1, eval_metric='logloss',\n",
       "              gamma=0, gpu_id=-1, importance_type='gain',\n",
       "              interaction_constraints='', learning_rate=0.300000012,\n",
       "              max_delta_step=0, max_depth=6, min_child_weight=1, missing=nan,\n",
       "              monotone_constraints='()', n_estimators=100, n_jobs=8,\n",
       "              num_parallel_tree=1, random_state=0, reg_alpha=0, reg_lambda=1,\n",
       "              scale_pos_weight=1, subsample=1, tree_method='exact',\n",
       "              use_label_encoder=False, validate_parameters=1, verbosity=None)"
      ]
     },
     "execution_count": 18,
     "metadata": {},
     "output_type": "execute_result"
    }
   ],
   "source": [
    "clf.fit(X_train, y_train)"
   ]
  },
  {
   "cell_type": "code",
   "execution_count": 19,
   "metadata": {},
   "outputs": [
    {
     "name": "stdout",
     "output_type": "stream",
     "text": [
      " class 1 :  5332\n",
      " class 0 :  1068\n",
      "Confusion Matrix: \n",
      " [[ 886  182]\n",
      " [   0 5332]]\n",
      "Accuracy:  0.9715625\n",
      "AUC:  0.9991016012430074\n",
      "              precision    recall  f1-score   support\n",
      "\n",
      "           0       1.00      0.83      0.91      1068\n",
      "           1       0.97      1.00      0.98      5332\n",
      "\n",
      "    accuracy                           0.97      6400\n",
      "   macro avg       0.98      0.91      0.95      6400\n",
      "weighted avg       0.97      0.97      0.97      6400\n",
      "\n"
     ]
    },
    {
     "data": {
      "image/png": "[encoded data removed]",
      "text/plain": [
       "<Figure size 432x288 with 1 Axes>"
      ]
     },
     "metadata": {
      "needs_background": "light"
     },
     "output_type": "display_data"
    }
   ],
   "source": [
    "classification_reports(clf, X_train, y_train)"
   ]
  },
  {
   "cell_type": "code",
   "execution_count": 20,
   "metadata": {},
   "outputs": [
    {
     "name": "stdout",
     "output_type": "stream",
     "text": [
      " class 1 :  1337\n",
      " class 0 :  263\n",
      "Confusion Matrix: \n",
      " [[  25  238]\n",
      " [  56 1281]]\n",
      "Accuracy:  0.81625\n",
      "AUC:  0.6601664813398136\n",
      "              precision    recall  f1-score   support\n",
      "\n",
      "           0       0.31      0.10      0.15       263\n",
      "           1       0.84      0.96      0.90      1337\n",
      "\n",
      "    accuracy                           0.82      1600\n",
      "   macro avg       0.58      0.53      0.52      1600\n",
      "weighted avg       0.76      0.82      0.77      1600\n",
      "\n"
     ]
    },
    {
     "data": {
      "image/png": "[encoded data removed]",
      "text/plain": [
       "<Figure size 432x288 with 1 Axes>"
      ]
     },
     "metadata": {
      "needs_background": "light"
     },
     "output_type": "display_data"
    }
   ],
   "source": [
    "classification_reports(clf, X_val, y_val)"
   ]
  },
  {
   "cell_type": "markdown",
   "metadata": {},
   "source": [
    "# Early Stopping"
   ]
  },
  {
   "cell_type": "markdown",
   "metadata": {},
   "source": [
    "## Visualise AUC per iteration"
   ]
  },
  {
   "cell_type": "code",
   "execution_count": 21,
   "metadata": {},
   "outputs": [
    {
     "data": {
      "text/plain": [
       "XGBClassifier(base_score=0.5, booster='gbtree', colsample_bylevel=1,\n",
       "              colsample_bynode=1, colsample_bytree=1, eval_metric='logloss',\n",
       "              gamma=0, gpu_id=-1, importance_type='gain',\n",
       "              interaction_constraints='', learning_rate=0.300000012,\n",
       "              max_delta_step=0, max_depth=6, min_child_weight=1, missing=nan,\n",
       "              monotone_constraints='()', n_estimators=100, n_jobs=8,\n",
       "              num_parallel_tree=1, random_state=0, reg_alpha=0, reg_lambda=1,\n",
       "              scale_pos_weight=1, subsample=1, tree_method='exact',\n",
       "              use_label_encoder=False, validate_parameters=1, verbosity=None)"
      ]
     },
     "execution_count": 21,
     "metadata": {},
     "output_type": "execute_result"
    }
   ],
   "source": [
    "clf_es = xgb.XGBClassifier(use_label_encoder=False, \n",
    "                        eval_metric='logloss')\n",
    "clf_es.fit(X_train,\n",
    "           y_train,\n",
    "           eval_metric='auc',\n",
    "           eval_set=[(X_val, y_val), (X_train, y_train)],\n",
    "#            early_stopping_rounds=5,\n",
    "           verbose=False)"
   ]
  },
  {
   "cell_type": "code",
   "execution_count": 22,
   "metadata": {},
   "outputs": [
    {
     "data": {
      "text/plain": [
       "<seaborn.axisgrid.FacetGrid at 0x201136d9d30>"
      ]
     },
     "execution_count": 22,
     "metadata": {},
     "output_type": "execute_result"
    },
    {
     "data": {
      "text/plain": [
       "<Figure size 2160x720 with 0 Axes>"
      ]
     },
     "metadata": {},
     "output_type": "display_data"
    },
    {
     "data": {
      "image/png": "[encoded data removed]",
      "text/plain": [
       "<Figure size 445.375x360 with 1 Axes>"
      ]
     },
     "metadata": {
      "needs_background": "light"
     },
     "output_type": "display_data"
    }
   ],
   "source": [
    "eval_scores = clf_es.evals_result_['validation_0']['auc']\n",
    "\n",
    "scores_df = pd.DataFrame({'iteration': range(1, len(eval_scores) + 1),\n",
    "                          'validation': clf_es.evals_result_['validation_0']['auc'],\n",
    "                          'training': clf_es.evals_result_['validation_1']['auc']}) \n",
    "\n",
    "plot_df = scores_df.melt(id_vars='iteration',\n",
    "                         var_name='dataset',\n",
    "                         value_name='auc')\n",
    "\n",
    "plt.figure(figsize=(30, 10))\n",
    "sns.catplot(x='iteration',\n",
    "            y='auc',\n",
    "            hue='dataset',\n",
    "            data=plot_df,\n",
    "            kind='point')\n",
    "\n"
   ]
  },
  {
   "cell_type": "markdown",
   "metadata": {},
   "source": [
    "The AUC on the validation set decreases after the first few iterations, while the training auc continues to increase."
   ]
  },
  {
   "cell_type": "code",
   "execution_count": 23,
   "metadata": {},
   "outputs": [
    {
     "data": {
      "text/plain": [
       "XGBClassifier(base_score=0.5, booster='gbtree', colsample_bylevel=1,\n",
       "              colsample_bynode=1, colsample_bytree=1, eval_metric='logloss',\n",
       "              gamma=0, gpu_id=-1, importance_type='gain',\n",
       "              interaction_constraints='', learning_rate=0.300000012,\n",
       "              max_delta_step=0, max_depth=6, min_child_weight=1, missing=nan,\n",
       "              monotone_constraints='()', n_estimators=100, n_jobs=8,\n",
       "              num_parallel_tree=1, random_state=0, reg_alpha=0, reg_lambda=1,\n",
       "              scale_pos_weight=1, subsample=1, tree_method='exact',\n",
       "              use_label_encoder=False, validate_parameters=1, verbosity=None)"
      ]
     },
     "execution_count": 23,
     "metadata": {},
     "output_type": "execute_result"
    }
   ],
   "source": [
    "# Redo the fitting without the training set, otherwise the algorithm will take the best of the two scores.\n",
    "clf_es.fit(X_train,\n",
    "           y_train,\n",
    "           eval_metric='auc',\n",
    "           eval_set=[(X_val, y_val)],\n",
    "           early_stopping_rounds=10,\n",
    "           verbose=False)"
   ]
  },
  {
   "cell_type": "code",
   "execution_count": 24,
   "metadata": {},
   "outputs": [
    {
     "data": {
      "text/plain": [
       "11"
      ]
     },
     "execution_count": 24,
     "metadata": {},
     "output_type": "execute_result"
    }
   ],
   "source": [
    "best_iteration = clf_es.get_booster().best_iteration\n",
    "best_iteration"
   ]
  },
  {
   "cell_type": "code",
   "execution_count": 25,
   "metadata": {},
   "outputs": [
    {
     "data": {
      "text/plain": [
       "12"
      ]
     },
     "execution_count": 25,
     "metadata": {},
     "output_type": "execute_result"
    }
   ],
   "source": [
    "best_ntree_limit = clf_es.get_booster().best_ntree_limit\n",
    "best_ntree_limit"
   ]
  },
  {
   "cell_type": "code",
   "execution_count": 26,
   "metadata": {},
   "outputs": [],
   "source": [
    "preds_train = clf_es.predict(X_train, ntree_limit=best_ntree_limit)\n",
    "probs_train = clf_es.predict_proba(X_train, ntree_limit=best_ntree_limit)[:, 1]\n",
    "preds_val = clf_es.predict(X_val, ntree_limit=best_ntree_limit)\n",
    "probs_val = clf_es.predict_proba(X_val, ntree_limit=best_ntree_limit)[:, 1]"
   ]
  },
  {
   "cell_type": "markdown",
   "metadata": {},
   "source": [
    "## Training results"
   ]
  },
  {
   "cell_type": "code",
   "execution_count": 27,
   "metadata": {},
   "outputs": [
    {
     "name": "stdout",
     "output_type": "stream",
     "text": [
      " class 1 :  5332\n",
      " class 0 :  1068\n",
      "Confusion Matrix: \n",
      " [[ 160  908]\n",
      " [  14 5318]]\n",
      "Accuracy:  0.8559375\n",
      "AUC:  0.8623901937563043\n",
      "              precision    recall  f1-score   support\n",
      "\n",
      "           0       0.92      0.15      0.26      1068\n",
      "           1       0.85      1.00      0.92      5332\n",
      "\n",
      "    accuracy                           0.86      6400\n",
      "   macro avg       0.89      0.57      0.59      6400\n",
      "weighted avg       0.87      0.86      0.81      6400\n",
      "\n"
     ]
    },
    {
     "data": {
      "image/png": "[encoded data removed]",
      "text/plain": [
       "<Figure size 432x288 with 1 Axes>"
      ]
     },
     "metadata": {
      "needs_background": "light"
     },
     "output_type": "display_data"
    }
   ],
   "source": [
    "classification_reports_2(y_train, preds_train, probs_train, verbose=False)\n"
   ]
  },
  {
   "cell_type": "markdown",
   "metadata": {},
   "source": [
    "## Validation results"
   ]
  },
  {
   "cell_type": "code",
   "execution_count": 28,
   "metadata": {},
   "outputs": [
    {
     "name": "stdout",
     "output_type": "stream",
     "text": [
      " class 1 :  1337\n",
      " class 0 :  263\n",
      "Confusion Matrix: \n",
      " [[  13  250]\n",
      " [  19 1318]]\n",
      "Accuracy:  0.831875\n",
      "AUC:  0.6868379067829629\n",
      "              precision    recall  f1-score   support\n",
      "\n",
      "           0       0.41      0.05      0.09       263\n",
      "           1       0.84      0.99      0.91      1337\n",
      "\n",
      "    accuracy                           0.83      1600\n",
      "   macro avg       0.62      0.52      0.50      1600\n",
      "weighted avg       0.77      0.83      0.77      1600\n",
      "\n"
     ]
    },
    {
     "data": {
      "image/png": "[encoded data removed]",
      "text/plain": [
       "<Figure size 432x288 with 1 Axes>"
      ]
     },
     "metadata": {
      "needs_background": "light"
     },
     "output_type": "display_data"
    }
   ],
   "source": [
    "classification_reports_2(y_val, preds_val, probs_val, verbose=False)"
   ]
  },
  {
   "cell_type": "markdown",
   "metadata": {},
   "source": [
    "## Conclusion: early stopping\n",
    "\n",
    "Early stopping improves the results slightly; from 0.660 to 0.687."
   ]
  },
  {
   "cell_type": "markdown",
   "metadata": {},
   "source": [
    "# Feature importance\n",
    "\n",
    "The training AUC is much higher than the validation AUC, which indicates that the model is overfit. One way to reduce overfitting is to reduce the number of features. In this section, the feature importances will be investigated and another model will be trained using just the top features."
   ]
  },
  {
   "cell_type": "code",
   "execution_count": 29,
   "metadata": {},
   "outputs": [
    {
     "data": {
      "text/html": [
       "<div>\n",
       "<style scoped>\n",
       "    .dataframe tbody tr th:only-of-type {\n",
       "        vertical-align: middle;\n",
       "    }\n",
       "\n",
       "    .dataframe tbody tr th {\n",
       "        vertical-align: top;\n",
       "    }\n",
       "\n",
       "    .dataframe thead th {\n",
       "        text-align: right;\n",
       "    }\n",
       "</style>\n",
       "<table border=\"1\" class=\"dataframe\">\n",
       "  <thead>\n",
       "    <tr style=\"text-align: right;\">\n",
       "      <th></th>\n",
       "      <th>feature</th>\n",
       "      <th>score</th>\n",
       "      <th>importance_type</th>\n",
       "    </tr>\n",
       "  </thead>\n",
       "  <tbody>\n",
       "    <tr>\n",
       "      <th>0</th>\n",
       "      <td>GP</td>\n",
       "      <td>11.643813</td>\n",
       "      <td>gain</td>\n",
       "    </tr>\n",
       "    <tr>\n",
       "      <th>1</th>\n",
       "      <td>FG%</td>\n",
       "      <td>4.515233</td>\n",
       "      <td>gain</td>\n",
       "    </tr>\n",
       "    <tr>\n",
       "      <th>2</th>\n",
       "      <td>OREB</td>\n",
       "      <td>4.341428</td>\n",
       "      <td>gain</td>\n",
       "    </tr>\n",
       "    <tr>\n",
       "      <th>3</th>\n",
       "      <td>3P Made</td>\n",
       "      <td>3.033622</td>\n",
       "      <td>gain</td>\n",
       "    </tr>\n",
       "    <tr>\n",
       "      <th>4</th>\n",
       "      <td>FT%</td>\n",
       "      <td>3.451736</td>\n",
       "      <td>gain</td>\n",
       "    </tr>\n",
       "  </tbody>\n",
       "</table>\n",
       "</div>"
      ],
      "text/plain": [
       "   feature      score importance_type\n",
       "0       GP  11.643813            gain\n",
       "1      FG%   4.515233            gain\n",
       "2     OREB   4.341428            gain\n",
       "3  3P Made   3.033622            gain\n",
       "4      FT%   3.451736            gain"
      ]
     },
     "execution_count": 29,
     "metadata": {},
     "output_type": "execute_result"
    }
   ],
   "source": [
    "importance_df = create_feature_importance_df(clf_es,\n",
    "                                             X_train.columns)\n",
    "importance_df.head()"
   ]
  },
  {
   "cell_type": "code",
   "execution_count": 30,
   "metadata": {},
   "outputs": [
    {
     "data": {
      "image/png": "[encoded data removed]",
      "text/plain": [
       "<Figure size 1080x360 with 3 Axes>"
      ]
     },
     "metadata": {
      "needs_background": "light"
     },
     "output_type": "display_data"
    }
   ],
   "source": [
    "plot_feature_importances(importance_df)"
   ]
  },
  {
   "cell_type": "markdown",
   "metadata": {},
   "source": [
    "# Early stopping and limited features\n",
    "\n",
    "Take the top 8 features by the **gain** score and fit another XGB Classifier model."
   ]
  },
  {
   "cell_type": "code",
   "execution_count": 31,
   "metadata": {},
   "outputs": [
    {
     "name": "stdout",
     "output_type": "stream",
     "text": [
      "best_ntree_limit: 4\n"
     ]
    }
   ],
   "source": [
    "features = (\n",
    "    importance_df\n",
    "    .query('importance_type == \"gain\"')\n",
    "    .sort_values(by=['score'])\n",
    "    .loc[:8, 'feature']\n",
    "    .to_list()\n",
    ")\n",
    "\n",
    "X_train_lim = X_train[features]\n",
    "X_val_lim = X_val[features]\n",
    "\n",
    "clf_limited = xgb.XGBClassifier(use_label_encoder=False, eval_metric='logloss')\n",
    "\n",
    "clf_limited.fit(X_train_lim,\n",
    "                y_train,\n",
    "                eval_metric='auc',\n",
    "                eval_set=[(X_val_lim, y_val)],\n",
    "                early_stopping_rounds=10,\n",
    "                verbose=False)\n",
    "\n",
    "best_ntree_limit = clf_limited.get_booster().best_ntree_limit\n",
    "best_iteration = clf_limited.get_booster().best_iteration\n",
    "\n",
    "print(f'best_ntree_limit: {best_ntree_limit}')"
   ]
  },
  {
   "cell_type": "code",
   "execution_count": 32,
   "metadata": {},
   "outputs": [
    {
     "name": "stdout",
     "output_type": "stream",
     "text": [
      " class 1 :  5332\n",
      " class 0 :  1068\n",
      "Confusion Matrix: \n",
      " [[  66 1002]\n",
      " [  13 5319]]\n",
      "Accuracy:  0.84140625\n",
      "AUC:  0.7433892356516094\n",
      "              precision    recall  f1-score   support\n",
      "\n",
      "           0       0.84      0.06      0.12      1068\n",
      "           1       0.84      1.00      0.91      5332\n",
      "\n",
      "    accuracy                           0.84      6400\n",
      "   macro avg       0.84      0.53      0.51      6400\n",
      "weighted avg       0.84      0.84      0.78      6400\n",
      "\n"
     ]
    },
    {
     "data": {
      "image/png": "[encoded data removed]",
      "text/plain": [
       "<Figure size 432x288 with 1 Axes>"
      ]
     },
     "metadata": {
      "needs_background": "light"
     },
     "output_type": "display_data"
    },
    {
     "name": "stdout",
     "output_type": "stream",
     "text": [
      " class 1 :  1337\n",
      " class 0 :  263\n",
      "Confusion Matrix: \n",
      " [[   8  255]\n",
      " [   8 1329]]\n",
      "Accuracy:  0.835625\n",
      "AUC:  0.6846865037496694\n",
      "              precision    recall  f1-score   support\n",
      "\n",
      "           0       0.50      0.03      0.06       263\n",
      "           1       0.84      0.99      0.91      1337\n",
      "\n",
      "    accuracy                           0.84      1600\n",
      "   macro avg       0.67      0.51      0.48      1600\n",
      "weighted avg       0.78      0.84      0.77      1600\n",
      "\n"
     ]
    },
    {
     "data": {
      "image/png": "[encoded data removed]",
      "text/plain": [
       "<Figure size 432x288 with 1 Axes>"
      ]
     },
     "metadata": {
      "needs_background": "light"
     },
     "output_type": "display_data"
    }
   ],
   "source": [
    "preds_train = clf_limited.predict(X_train_lim, ntree_limit=best_ntree_limit)\n",
    "probs_train = clf_limited.predict_proba(X_train_lim, ntree_limit=best_ntree_limit)[:, 1]\n",
    "preds_val = clf_limited.predict(X_val_lim, ntree_limit=best_ntree_limit)\n",
    "probs_val = clf_limited.predict_proba(X_val_lim, ntree_limit=best_ntree_limit)[:, 1]\n",
    "\n",
    "classification_reports_2(y_train, preds_train, probs_train)\n",
    "classification_reports_2(y_val, preds_val, probs_val)"
   ]
  },
  {
   "cell_type": "code",
   "execution_count": 35,
   "metadata": {},
   "outputs": [
    {
     "data": {
      "text/plain": [
       "<sklearn.metrics._plot.confusion_matrix.ConfusionMatrixDisplay at 0x201136d72b0>"
      ]
     },
     "execution_count": 35,
     "metadata": {},
     "output_type": "execute_result"
    },
    {
     "data": {
      "image/png": "[encoded data removed]",
      "text/plain": [
       "<Figure size 432x288 with 2 Axes>"
      ]
     },
     "metadata": {
      "needs_background": "light"
     },
     "output_type": "display_data"
    }
   ],
   "source": [
    "plot_confusion_matrix(clf_limited,X_val_lim, y_val)"
   ]
  },
  {
   "cell_type": "markdown",
   "metadata": {},
   "source": [
    "## Conclusion: feature importance\n",
    "\n",
    "Limiting the features to just the top 8 seems to have produced a similarly high validation AUC of 0.685. The predictions are heavily weighted to the positive class, with almost no predictions in the negative class."
   ]
  },
  {
   "cell_type": "markdown",
   "metadata": {},
   "source": [
    "## Save data"
   ]
  },
  {
   "cell_type": "code",
   "execution_count": 70,
   "metadata": {},
   "outputs": [],
   "source": [
    "location = interim_data_dir\n",
    "suffix = 'top_8_features'\n",
    "make_dataset.save_sets(X_train_lim, \n",
    "                       X_val_lim,\n",
    "                       y_train,\n",
    "                       y_val,\n",
    "                       X_test_lim,\n",
    "                       location,\n",
    "                       suffix,\n",
    "                       file_type = 'csv') "
   ]
  },
  {
   "cell_type": "markdown",
   "metadata": {},
   "source": [
    "## Save model"
   ]
  },
  {
   "cell_type": "code",
   "execution_count": 71,
   "metadata": {},
   "outputs": [
    {
     "data": {
      "text/plain": [
       "['D:\\\\Projects\\\\assignment_1\\\\models\\\\xgb_top_8_features_early_stopping.joblib']"
      ]
     },
     "execution_count": 71,
     "metadata": {},
     "output_type": "execute_result"
    }
   ],
   "source": [
    "dump(clf_limited, models_dir / 'xgb_top_8_features_early_stopping.joblib')"
   ]
  },
  {
   "cell_type": "markdown",
   "metadata": {},
   "source": [
    "# Submit predictions"
   ]
  },
  {
   "cell_type": "code",
   "execution_count": 82,
   "metadata": {},
   "outputs": [],
   "source": [
    "X_test_lim = X_test[features]\n",
    "preds = clf_limited.predict(X_test_lim)\n",
    "probs = clf_limited.predict_proba(X_test_lim)[:, 1]"
   ]
  },
  {
   "cell_type": "code",
   "execution_count": 87,
   "metadata": {},
   "outputs": [],
   "source": [
    "pred_path = processed_data_dir / 'preds_xgb_early_stop_8_features.csv'\n",
    "pred_name = 'TARGET_5Yrs'\n",
    "make_dataset.save_predictions(probs, pred_name, test_id, pred_path)"
   ]
  },
  {
   "cell_type": "raw",
   "metadata": {},
   "source": [
    "api.competition_submit(file_name=pred_path,\n",
    "                       message=pred_path.stem,\n",
    "                       competition=competition,\n",
    "                       quiet=False)"
   ]
  }
 ],
 "metadata": {
  "kernelspec": {
   "display_name": "Python 3",
   "language": "python",
   "name": "python3"
  },
  "language_info": {
   "codemirror_mode": {
    "name": "ipython",
    "version": 3
   },
   "file_extension": ".py",
   "mimetype": "text/x-python",
   "name": "python",
   "nbconvert_exporter": "python",
   "pygments_lexer": "ipython3",
   "version": "3.8.7"
  },
  "toc-autonumbering": true
 },
 "nbformat": 4,
 "nbformat_minor": 4
}
