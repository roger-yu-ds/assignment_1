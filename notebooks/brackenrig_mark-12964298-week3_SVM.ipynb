{
 "cells": [
  {
   "cell_type": "markdown",
   "id": "informed-acceptance",
   "metadata": {},
   "source": [
    "## Set up\n",
    "\n",
    "Install required packages and load relevant data. Ensure you adjust to add relevant classifiers."
   ]
  },
  {
   "cell_type": "code",
   "execution_count": 1,
   "id": "temporal-reproduction",
   "metadata": {},
   "outputs": [],
   "source": [
    "import pandas as pd\n",
    "import numpy as np\n",
    "from pathlib import Path\n",
    "from scipy import stats\n",
    "from joblib import dump\n",
    "import pickle as pkl\n",
    "import os\n",
    "from imblearn.over_sampling import SMOTE \n",
    "## import required classifiers, preprocessing, etc.\n",
    "from sklearn.preprocessing import StandardScaler\n",
    "from sklearn.preprocessing import normalize\n",
    "from sklearn.model_selection import train_test_split\n",
    "from sklearn.model_selection import RandomizedSearchCV\n",
    "from sklearn.pipeline import Pipeline\n",
    "from sklearn.ensemble import RandomForestClassifier, VotingClassifier\n",
    "from sklearn.decomposition import PCA\n",
    "from sklearn.calibration import CalibratedClassifierCV\n",
    "from sklearn.linear_model import LogisticRegression\n",
    "from sklearn.svm import SVC\n",
    "\n",
    "# Add additional as required\n",
    "\n",
    "os.chdir(Path.cwd().parent)\n",
    "# import custom files\n",
    "from src.data import make_dataset\n",
    "from src.data import submit_predictions\n",
    "from src.visualization import visualize\n",
    "#import misc visualisation and EDA packages\n",
    "from pandas_profiling import ProfileReport\n",
    "import matplotlib.pyplot as plt\n",
    "from  matplotlib.ticker import FuncFormatter\n",
    "import seaborn as sns\n"
   ]
  },
  {
   "cell_type": "code",
   "execution_count": 2,
   "id": "shared-bathroom",
   "metadata": {},
   "outputs": [],
   "source": [
    "os.chdir('notebooks')"
   ]
  },
  {
   "cell_type": "markdown",
   "id": "neither-upset",
   "metadata": {},
   "source": [
    "### Set Directory paths"
   ]
  },
  {
   "cell_type": "code",
   "execution_count": 3,
   "id": "prescribed-board",
   "metadata": {},
   "outputs": [],
   "source": [
    "project_dir = Path.cwd().parent\n",
    "report_dir = project_dir / 'reports'\n",
    "data_dir = project_dir / 'data'\n",
    "raw_data_dir = data_dir / 'raw'\n",
    "interim_data_dir = data_dir / 'interim'\n",
    "processed_data_dir = data_dir / 'processed'\n",
    "models_dir = project_dir / 'models'"
   ]
  },
  {
   "cell_type": "markdown",
   "id": "configured-emission",
   "metadata": {},
   "source": [
    "## Download and Prepare Data"
   ]
  },
  {
   "cell_type": "code",
   "execution_count": 4,
   "id": "photographic-procurement",
   "metadata": {},
   "outputs": [],
   "source": [
    "competition = 'uts-advdsi-nba-career-prediction'\n",
    "make_dataset.download_data(competition=competition,\n",
    "                           path=raw_data_dir,\n",
    "                           unzip=True)"
   ]
  },
  {
   "cell_type": "code",
   "execution_count": 5,
   "id": "regular-education",
   "metadata": {},
   "outputs": [],
   "source": [
    "df_train = pd.read_csv(raw_data_dir / 'train.csv')\n"
   ]
  },
  {
   "cell_type": "code",
   "execution_count": 6,
   "id": "informed-registrar",
   "metadata": {},
   "outputs": [],
   "source": [
    "X_test = pd.read_csv(raw_data_dir / 'test.csv')"
   ]
  },
  {
   "cell_type": "code",
   "execution_count": 7,
   "id": "retained-rating",
   "metadata": {},
   "outputs": [],
   "source": [
    "df_train.drop(columns=['Id_old', 'Id'], inplace=True)\n",
    "X_test.drop(columns=['Id_old'], inplace=True)\n",
    "test_id = X_test.pop('Id')"
   ]
  },
  {
   "cell_type": "markdown",
   "id": "acknowledged-sarah",
   "metadata": {},
   "source": [
    "## Split out target variable"
   ]
  },
  {
   "cell_type": "code",
   "execution_count": 8,
   "id": "cardiovascular-burke",
   "metadata": {},
   "outputs": [],
   "source": [
    "target = 'TARGET_5Yrs'\n",
    "X, y = make_dataset.separate_target(df_train, target=target)"
   ]
  },
  {
   "cell_type": "markdown",
   "id": "through-plasma",
   "metadata": {},
   "source": [
    "## Modelling\n",
    "\n",
    "## Base Model\n",
    "The base model is the model from assignment 1B"
   ]
  },
  {
   "cell_type": "code",
   "execution_count": 9,
   "id": "identical-territory",
   "metadata": {},
   "outputs": [],
   "source": [
    "file_name = models_dir /'brackenrig_mark_12964298_week2_SMOTE.sav'\n",
    "baseline_model = pkl.load(open(file_name,'rb'))"
   ]
  },
  {
   "cell_type": "code",
   "execution_count": 10,
   "id": "atomic-collapse",
   "metadata": {},
   "outputs": [
    {
     "name": "stdout",
     "output_type": "stream",
     "text": [
      " class 1 :  6669\n",
      " class 0 :  1331\n",
      "Confusion Matrix: \n",
      " [[ 790  541]\n",
      " [1876 4793]]\n",
      "Accuracy:  0.697875\n",
      "AUC:  0.7226625451940806\n",
      "              precision    recall  f1-score   support\n",
      "\n",
      "           0       0.30      0.59      0.40      1331\n",
      "           1       0.90      0.72      0.80      6669\n",
      "\n",
      "    accuracy                           0.70      8000\n",
      "   macro avg       0.60      0.66      0.60      8000\n",
      "weighted avg       0.80      0.70      0.73      8000\n",
      "\n"
     ]
    },
    {
     "data": {
      "image/png": "[encoded data removed]",
      "text/plain": [
       "<Figure size 432x288 with 1 Axes>"
      ]
     },
     "metadata": {
      "needs_background": "light"
     },
     "output_type": "display_data"
    }
   ],
   "source": [
    "visualize.classification_reports(baseline_model,X,y)"
   ]
  },
  {
   "cell_type": "markdown",
   "id": "contemporary-investigation",
   "metadata": {},
   "source": [
    "### Data Cleaning\n",
    "\n",
    "In contrast to previous experiments, I have used the standard scaler on all the data, not just based on specific base models. In addition, I have also used the SMOTE oversampling method on all training data."
   ]
  },
  {
   "cell_type": "code",
   "execution_count": 11,
   "id": "broken-cornwall",
   "metadata": {},
   "outputs": [],
   "source": [
    "sm = SMOTE(random_state=42)\n",
    "scaler =  StandardScaler()\n",
    "\n",
    "X = scaler.fit_transform(X)\n",
    "X_test = scaler.transform(X_test)\n",
    "\n",
    "X_sm, y_sm = sm.fit_resample(X, y)\n",
    "X_train, X_val, y_train, y_val = train_test_split(X_sm, y_sm,\n",
    "                                                  test_size=0.2,\n",
    "                                                  random_state=42)"
   ]
  },
  {
   "cell_type": "markdown",
   "id": "palestinian-equilibrium",
   "metadata": {},
   "source": [
    "# Train an SVM Classifier\n",
    "Train a base model to see the general performance of the base classifier."
   ]
  },
  {
   "cell_type": "code",
   "execution_count": 12,
   "id": "afraid-folks",
   "metadata": {},
   "outputs": [
    {
     "name": "stdout",
     "output_type": "stream",
     "text": [
      "Fitting 7 folds for each of 12 candidates, totalling 84 fits\n",
      "[LibSVM]"
     ]
    },
    {
     "data": {
      "text/plain": [
       "RandomizedSearchCV(cv=7, estimator=SVC(probability=True, verbose=True),\n",
       "                   n_iter=12, n_jobs=-1,\n",
       "                   param_distributions={'C': [0.1, 0.5, 1],\n",
       "                                        'class_weight': ['balanced'],\n",
       "                                        'gamma': ['scale', 'auto'],\n",
       "                                        'kernel': ['linear', 'poly', 'rbf',\n",
       "                                                   'sigmoid'],\n",
       "                                        'shrinking': [True, False]},\n",
       "                   random_state=1, verbose=10)"
      ]
     },
     "execution_count": 12,
     "metadata": {},
     "output_type": "execute_result"
    }
   ],
   "source": [
    "svm_model = SVC(probability = True, verbose = True)\n",
    "\n",
    "params_dist = {\n",
    "    'C': [0.1,0.5,1],\n",
    "    'kernel': ['linear','poly','rbf','sigmoid'],\n",
    "    'shrinking': [True,False],\n",
    "    'gamma': ['scale', 'auto'],\n",
    "    'class_weight': ['balanced']\n",
    "}\n",
    "\n",
    "cv = RandomizedSearchCV(estimator = svm_model,\n",
    "                        param_distributions=params_dist,\n",
    "        random_state=1,\n",
    "    n_iter=12,\n",
    "    cv=7,\n",
    "    n_jobs=-1,\n",
    "    verbose=10\n",
    ")\n",
    "                   \n",
    "cv.fit(X_train,y_train)"
   ]
  },
  {
   "cell_type": "code",
   "execution_count": 13,
   "id": "abroad-disposition",
   "metadata": {},
   "outputs": [
    {
     "data": {
      "text/plain": [
       "{'shrinking': True,\n",
       " 'kernel': 'rbf',\n",
       " 'gamma': 'scale',\n",
       " 'class_weight': 'balanced',\n",
       " 'C': 1}"
      ]
     },
     "execution_count": 13,
     "metadata": {},
     "output_type": "execute_result"
    }
   ],
   "source": [
    "cv.best_params_"
   ]
  },
  {
   "cell_type": "markdown",
   "id": "signal-helping",
   "metadata": {},
   "source": [
    "### Inspect Results"
   ]
  },
  {
   "cell_type": "code",
   "execution_count": 14,
   "id": "nasty-riverside",
   "metadata": {},
   "outputs": [
    {
     "name": "stdout",
     "output_type": "stream",
     "text": [
      " class 1 :  1353\n",
      " class 0 :  1315\n",
      "Confusion Matrix: \n",
      " [[1039  276]\n",
      " [ 491  862]]\n",
      "Accuracy:  0.7125187406296851\n",
      "AUC:  0.7947456574462046\n",
      "              precision    recall  f1-score   support\n",
      "\n",
      "           0       0.68      0.79      0.73      1315\n",
      "           1       0.76      0.64      0.69      1353\n",
      "\n",
      "    accuracy                           0.71      2668\n",
      "   macro avg       0.72      0.71      0.71      2668\n",
      "weighted avg       0.72      0.71      0.71      2668\n",
      "\n"
     ]
    },
    {
     "data": {
      "image/png": "[encoded data removed]",
      "text/plain": [
       "<Figure size 432x288 with 1 Axes>"
      ]
     },
     "metadata": {
      "needs_background": "light"
     },
     "output_type": "display_data"
    }
   ],
   "source": [
    "visualize.classification_reports(cv,X_val,y_val)"
   ]
  },
  {
   "cell_type": "markdown",
   "id": "mental-briefing",
   "metadata": {},
   "source": [
    "Based on the validation set, the model is clearly fitting the data on par with our baseline model. Therefore it should be included in our voting classifier to see if it improves results."
   ]
  },
  {
   "cell_type": "markdown",
   "id": "finished-respondent",
   "metadata": {},
   "source": [
    "## Include in Voting Classifier"
   ]
  },
  {
   "cell_type": "code",
   "execution_count": 15,
   "id": "rising-purple",
   "metadata": {},
   "outputs": [],
   "source": [
    "rf_pipe = Pipeline([\n",
    "        ('classifier', RandomForestClassifier(oob_score = True))\n",
    "])\n",
    "\n",
    "\n",
    "lr_pipe = Pipeline([\n",
    "                 ('pca', PCA()),\n",
    "        ('classifier',   LogisticRegression(max_iter = 10000))\n",
    "])\n",
    "\n",
    "svm_model = SVC(probability = True, verbose = True)\n",
    "\n",
    "voter = VotingClassifier(estimators = [('rf',rf_pipe),('lr',lr_pipe),('svm',svm_model)], voting = 'soft')\n",
    "\n",
    "param_dist = {\n",
    "    'weights': [[1,1,1],[1,1,2],[1,2,1],[2,1,1],[3,2,1],[2,3,1],[2,1,3],[1,2,3]],\n",
    "    'lr__classifier__penalty': ['l2'],\n",
    "    'rf__classifier__n_estimators': [1000],\n",
    "    'rf__classifier__max_depth': [3,4,5],\n",
    "    'rf__classifier__max_features': ['log2', None],\n",
    "    'rf__classifier__class_weight': ['balanced'],\n",
    "    'svm__C': [1],\n",
    "    'svm__kernel': ['linear','poly','rbf','sigmoid'],\n",
    "    'svm__shrinking': [True,False],\n",
    "    'svm__gamma': ['scale', 'auto'],\n",
    "    'svm__class_weight': ['balanced']\n",
    "}\n",
    "\n",
    "cv = RandomizedSearchCV(\n",
    "    estimator=voter,\n",
    "    param_distributions=param_dist,\n",
    "    random_state=1,\n",
    "    n_iter=20,\n",
    "    cv=10,\n",
    "    n_jobs=-1,\n",
    "    verbose=10\n",
    ")\n"
   ]
  },
  {
   "cell_type": "code",
   "execution_count": null,
   "id": "southern-construction",
   "metadata": {},
   "outputs": [
    {
     "name": "stdout",
     "output_type": "stream",
     "text": [
      "Fitting 10 folds for each of 20 candidates, totalling 200 fits\n"
     ]
    }
   ],
   "source": [
    "cv.fit(X_train,y_train)"
   ]
  },
  {
   "cell_type": "code",
   "execution_count": null,
   "id": "associate-pride",
   "metadata": {},
   "outputs": [],
   "source": [
    "visualize.classification_reports(cv,X_train,y_train)"
   ]
  },
  {
   "cell_type": "code",
   "execution_count": null,
   "id": "rapid-arrival",
   "metadata": {},
   "outputs": [],
   "source": [
    "visualize.classification_reports(cv,X_val,y_val)"
   ]
  },
  {
   "cell_type": "code",
   "execution_count": null,
   "id": "occupied-elite",
   "metadata": {},
   "outputs": [],
   "source": [
    "visualize.classification_reports(cv,X,y)"
   ]
  },
  {
   "cell_type": "markdown",
   "id": "charitable-usage",
   "metadata": {},
   "source": [
    "## Submit Predictions"
   ]
  },
  {
   "cell_type": "code",
   "execution_count": null,
   "id": "enormous-korea",
   "metadata": {},
   "outputs": [],
   "source": [
    "submit_predictions.submit_predictions(cv, X_test, test_id,\"SVM_voting model\", pred_path=processed_data_dir/'12964298_week3_SVM_voting.csv')"
   ]
  },
  {
   "cell_type": "markdown",
   "id": "motivated-pioneer",
   "metadata": {},
   "source": [
    "## Save Model"
   ]
  },
  {
   "cell_type": "code",
   "execution_count": null,
   "id": "successful-prague",
   "metadata": {},
   "outputs": [],
   "source": [
    "file_name = models_dir /'brackenrig_mark_12964298_week3_SVM_voting.sav'\n",
    "pkl.dump(calibrated_model, open(file_name, 'wb'))"
   ]
  }
 ],
 "metadata": {
  "kernelspec": {
   "display_name": "Python 3",
   "language": "python",
   "name": "python3"
  },
  "language_info": {
   "codemirror_mode": {
    "name": "ipython",
    "version": 3
   },
   "file_extension": ".py",
   "mimetype": "text/x-python",
   "name": "python",
   "nbconvert_exporter": "python",
   "pygments_lexer": "ipython3",
   "version": "3.8.5"
  }
 },
 "nbformat": 4,
 "nbformat_minor": 5
}
