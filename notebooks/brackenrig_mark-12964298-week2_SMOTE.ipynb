{
 "cells": [
  {
   "cell_type": "markdown",
   "id": "about-dealer",
   "metadata": {},
   "source": [
    "## Set up\n",
    "\n",
    "Install required packages and load relevant data. Ensure you adjust to add relevant classifiers."
   ]
  },
  {
   "cell_type": "code",
   "execution_count": 1,
   "id": "advanced-sword",
   "metadata": {},
   "outputs": [
    {
     "name": "stdout",
     "output_type": "stream",
     "text": [
      "Warning: Your Kaggle API key is readable by other users on this system! To fix this, you can run 'chmod 600 /Users/markbrackenrig/.kaggle/kaggle.json'\n"
     ]
    }
   ],
   "source": [
    "import pandas as pd\n",
    "import numpy as np\n",
    "from pathlib import Path\n",
    "from scipy import stats\n",
    "from joblib import dump\n",
    "import pickle as pkl\n",
    "import os\n",
    "from imblearn.over_sampling import SMOTE \n",
    "## import required classifiers, preprocessing, etc.\n",
    "from sklearn.preprocessing import StandardScaler\n",
    "from sklearn.preprocessing import normalize\n",
    "from sklearn.model_selection import train_test_split\n",
    "from sklearn.model_selection import RandomizedSearchCV\n",
    "from sklearn.pipeline import Pipeline\n",
    "from sklearn.ensemble import RandomForestClassifier, VotingClassifier\n",
    "from sklearn.decomposition import PCA\n",
    "from sklearn.calibration import CalibratedClassifierCV\n",
    "from sklearn.linear_model import LogisticRegression\n",
    "# Add additional as required\n",
    "\n",
    "os.chdir(Path.cwd().parent)\n",
    "# import custom files\n",
    "from src.data import make_dataset\n",
    "from src.data import submit_predictions\n",
    "from src.visualization import visualize\n",
    "#import misc visualisation and EDA packages\n",
    "from pandas_profiling import ProfileReport\n",
    "import matplotlib.pyplot as plt\n",
    "from  matplotlib.ticker import FuncFormatter\n",
    "import seaborn as sns\n"
   ]
  },
  {
   "cell_type": "code",
   "execution_count": 2,
   "id": "senior-parent",
   "metadata": {},
   "outputs": [],
   "source": [
    "os.chdir('notebooks')"
   ]
  },
  {
   "cell_type": "markdown",
   "id": "enclosed-raise",
   "metadata": {},
   "source": [
    "### Set Directory paths"
   ]
  },
  {
   "cell_type": "code",
   "execution_count": 3,
   "id": "missing-azerbaijan",
   "metadata": {},
   "outputs": [],
   "source": [
    "project_dir = Path.cwd().parent\n",
    "report_dir = project_dir / 'reports'\n",
    "data_dir = project_dir / 'data'\n",
    "raw_data_dir = data_dir / 'raw'\n",
    "interim_data_dir = data_dir / 'interim'\n",
    "processed_data_dir = data_dir / 'processed'\n",
    "models_dir = project_dir / 'models'"
   ]
  },
  {
   "cell_type": "markdown",
   "id": "coated-change",
   "metadata": {},
   "source": [
    "## Download and Prepare Data"
   ]
  },
  {
   "cell_type": "code",
   "execution_count": 4,
   "id": "medium-bobby",
   "metadata": {},
   "outputs": [
    {
     "name": "stdout",
     "output_type": "stream",
     "text": [
      "Warning: Your Kaggle API key is readable by other users on this system! To fix this, you can run 'chmod 600 /Users/markbrackenrig/.kaggle/kaggle.json'\n"
     ]
    }
   ],
   "source": [
    "competition = 'uts-advdsi-nba-career-prediction'\n",
    "make_dataset.download_data(competition=competition,\n",
    "                           path=raw_data_dir,\n",
    "                           unzip=True)"
   ]
  },
  {
   "cell_type": "code",
   "execution_count": 5,
   "id": "included-behalf",
   "metadata": {},
   "outputs": [],
   "source": [
    "df_train = pd.read_csv(raw_data_dir / 'train.csv')\n"
   ]
  },
  {
   "cell_type": "code",
   "execution_count": 6,
   "id": "affecting-peninsula",
   "metadata": {},
   "outputs": [],
   "source": [
    "X_test = pd.read_csv(raw_data_dir / 'test.csv')"
   ]
  },
  {
   "cell_type": "code",
   "execution_count": 7,
   "id": "coupled-memorial",
   "metadata": {},
   "outputs": [],
   "source": [
    "df_train.drop(columns=['Id_old', 'Id'], inplace=True)\n",
    "X_test.drop(columns=['Id_old'], inplace=True)\n",
    "test_id = X_test.pop('Id')"
   ]
  },
  {
   "cell_type": "markdown",
   "id": "weird-bunch",
   "metadata": {},
   "source": [
    "## Split into Training and ValidationSet"
   ]
  },
  {
   "cell_type": "code",
   "execution_count": 8,
   "id": "fiscal-bristol",
   "metadata": {},
   "outputs": [],
   "source": [
    "target = 'TARGET_5Yrs'\n",
    "X, y = make_dataset.separate_target(df_train, target=target)"
   ]
  },
  {
   "cell_type": "markdown",
   "id": "passive-adams",
   "metadata": {},
   "source": [
    "## Modelling\n",
    "\n",
    "## Base Model\n",
    "The base model is the model from week 1"
   ]
  },
  {
   "cell_type": "code",
   "execution_count": 9,
   "id": "received-dancing",
   "metadata": {},
   "outputs": [],
   "source": [
    "file_name = models_dir /'brackenrig_mark_12964298_week1_votingclassifier.sav'\n",
    "baseline_model = pkl.load(open(file_name,'rb'))"
   ]
  },
  {
   "cell_type": "code",
   "execution_count": 10,
   "id": "unsigned-tract",
   "metadata": {},
   "outputs": [
    {
     "data": {
      "text/plain": [
       "{'weights': [1, 3],\n",
       " 'rf__classifier__n_estimators': 1000,\n",
       " 'rf__classifier__max_features': 'log2',\n",
       " 'rf__classifier__max_depth': 3,\n",
       " 'rf__classifier__class_weight': 'balanced',\n",
       " 'lr__classifier__penalty': 'l2'}"
      ]
     },
     "execution_count": 10,
     "metadata": {},
     "output_type": "execute_result"
    }
   ],
   "source": [
    "baseline_model.best_params_"
   ]
  },
  {
   "cell_type": "code",
   "execution_count": 11,
   "id": "juvenile-liberal",
   "metadata": {},
   "outputs": [
    {
     "name": "stdout",
     "output_type": "stream",
     "text": [
      " class 1 :  6669\n",
      " class 0 :  1331\n",
      "Confusion Matrix: \n",
      " [[  99 1232]\n",
      " [  85 6584]]\n",
      "Accuracy:  0.835375\n",
      "AUC:  0.7125074593539142\n",
      "              precision    recall  f1-score   support\n",
      "\n",
      "           0       0.54      0.07      0.13      1331\n",
      "           1       0.84      0.99      0.91      6669\n",
      "\n",
      "    accuracy                           0.84      8000\n",
      "   macro avg       0.69      0.53      0.52      8000\n",
      "weighted avg       0.79      0.84      0.78      8000\n",
      "\n"
     ]
    },
    {
     "data": {
      "image/png": "[encoded data removed]",
      "text/plain": [
       "<Figure size 432x288 with 1 Axes>"
      ]
     },
     "metadata": {
      "needs_background": "light"
     },
     "output_type": "display_data"
    }
   ],
   "source": [
    "visualize.classification_reports(baseline_model,X,y)"
   ]
  },
  {
   "cell_type": "markdown",
   "id": "innovative-interaction",
   "metadata": {},
   "source": [
    "# Include Synthetic Oversampling\n",
    "Including SMOTE with no calibration may improve results by synthetically oversampling the minority class"
   ]
  },
  {
   "cell_type": "code",
   "execution_count": 12,
   "id": "fossil-leeds",
   "metadata": {},
   "outputs": [],
   "source": [
    "sm = SMOTE(random_state=42)\n",
    "\n",
    "X_sm, y_sm = sm.fit_resample(X, y)\n"
   ]
  },
  {
   "cell_type": "code",
   "execution_count": 13,
   "id": "voluntary-baseball",
   "metadata": {},
   "outputs": [
    {
     "name": "stdout",
     "output_type": "stream",
     "text": [
      "Fitting 7 folds for each of 12 candidates, totalling 84 fits\n"
     ]
    },
    {
     "data": {
      "text/plain": [
       "RandomizedSearchCV(cv=7,\n",
       "                   estimator=VotingClassifier(estimators=[('rf',\n",
       "                                                           Pipeline(steps=[('classifier',\n",
       "                                                                            RandomForestClassifier(oob_score=True))])),\n",
       "                                                          ('lr',\n",
       "                                                           Pipeline(steps=[('scaler',\n",
       "                                                                            StandardScaler()),\n",
       "                                                                           ('pca',\n",
       "                                                                            PCA()),\n",
       "                                                                           ('classifier',\n",
       "                                                                            LogisticRegression(max_iter=10000))]))],\n",
       "                                              voting='soft'),\n",
       "                   n_iter=12, n_jobs=-1,\n",
       "                   param_distributions={'lr__classifier__penalty': ['l2'],\n",
       "                                        'rf__classifier__class_weight': ['balanced'],\n",
       "                                        'rf__classifier__max_depth': [3, 4, 5],\n",
       "                                        'rf__classifier__max_features': ['log2',\n",
       "                                                                         None],\n",
       "                                        'rf__classifier__n_estimators': [1000],\n",
       "                                        'weights': [[2, 1], [1, 1], [1, 2],\n",
       "                                                    [1, 3], [1, 4]]},\n",
       "                   random_state=1, verbose=10)"
      ]
     },
     "execution_count": 13,
     "metadata": {},
     "output_type": "execute_result"
    }
   ],
   "source": [
    "model = baseline_model\n",
    "\n",
    "model.fit(X_sm, y_sm)"
   ]
  },
  {
   "cell_type": "markdown",
   "id": "relevant-training",
   "metadata": {},
   "source": [
    "### Inspect Results"
   ]
  },
  {
   "cell_type": "code",
   "execution_count": 14,
   "id": "indirect-surveillance",
   "metadata": {},
   "outputs": [
    {
     "name": "stdout",
     "output_type": "stream",
     "text": [
      " class 1 :  6669\n",
      " class 0 :  1331\n",
      "Confusion Matrix: \n",
      " [[ 791  540]\n",
      " [1887 4782]]\n",
      "Accuracy:  0.696625\n",
      "AUC:  0.7202794949641405\n",
      "              precision    recall  f1-score   support\n",
      "\n",
      "           0       0.30      0.59      0.39      1331\n",
      "           1       0.90      0.72      0.80      6669\n",
      "\n",
      "    accuracy                           0.70      8000\n",
      "   macro avg       0.60      0.66      0.60      8000\n",
      "weighted avg       0.80      0.70      0.73      8000\n",
      "\n"
     ]
    },
    {
     "data": {
      "image/png": "[encoded data removed]",
      "text/plain": [
       "<Figure size 432x288 with 1 Axes>"
      ]
     },
     "metadata": {
      "needs_background": "light"
     },
     "output_type": "display_data"
    }
   ],
   "source": [
    "visualize.classification_reports(model,X,y)"
   ]
  },
  {
   "cell_type": "code",
   "execution_count": 15,
   "id": "mounted-yemen",
   "metadata": {},
   "outputs": [
    {
     "name": "stdout",
     "output_type": "stream",
     "text": [
      "Warning: Your Kaggle API key is readable by other users on this system! To fix this, you can run 'chmod 600 /Users/markbrackenrig/.kaggle/kaggle.json'\n",
      "Success! User is Authenticated\n"
     ]
    },
    {
     "name": "stderr",
     "output_type": "stream",
     "text": [
      "100%|██████████| 88.1k/88.1k [00:06<00:00, 13.6kB/s]\n"
     ]
    },
    {
     "data": {
      "text/html": [
       "<div>\n",
       "<style scoped>\n",
       "    .dataframe tbody tr th:only-of-type {\n",
       "        vertical-align: middle;\n",
       "    }\n",
       "\n",
       "    .dataframe tbody tr th {\n",
       "        vertical-align: top;\n",
       "    }\n",
       "\n",
       "    .dataframe thead th {\n",
       "        text-align: right;\n",
       "    }\n",
       "</style>\n",
       "<table border=\"1\" class=\"dataframe\">\n",
       "  <thead>\n",
       "    <tr style=\"text-align: right;\">\n",
       "      <th></th>\n",
       "      <th>id</th>\n",
       "      <th>TARGET_5Yrs</th>\n",
       "    </tr>\n",
       "  </thead>\n",
       "  <tbody>\n",
       "    <tr>\n",
       "      <th>0</th>\n",
       "      <td>0</td>\n",
       "      <td>0.580874</td>\n",
       "    </tr>\n",
       "    <tr>\n",
       "      <th>1</th>\n",
       "      <td>1</td>\n",
       "      <td>0.432689</td>\n",
       "    </tr>\n",
       "    <tr>\n",
       "      <th>2</th>\n",
       "      <td>2</td>\n",
       "      <td>0.739632</td>\n",
       "    </tr>\n",
       "    <tr>\n",
       "      <th>3</th>\n",
       "      <td>3</td>\n",
       "      <td>0.812192</td>\n",
       "    </tr>\n",
       "    <tr>\n",
       "      <th>4</th>\n",
       "      <td>4</td>\n",
       "      <td>0.369429</td>\n",
       "    </tr>\n",
       "    <tr>\n",
       "      <th>...</th>\n",
       "      <td>...</td>\n",
       "      <td>...</td>\n",
       "    </tr>\n",
       "    <tr>\n",
       "      <th>3794</th>\n",
       "      <td>3794</td>\n",
       "      <td>0.861170</td>\n",
       "    </tr>\n",
       "    <tr>\n",
       "      <th>3795</th>\n",
       "      <td>3795</td>\n",
       "      <td>0.556160</td>\n",
       "    </tr>\n",
       "    <tr>\n",
       "      <th>3796</th>\n",
       "      <td>3796</td>\n",
       "      <td>0.411123</td>\n",
       "    </tr>\n",
       "    <tr>\n",
       "      <th>3797</th>\n",
       "      <td>3797</td>\n",
       "      <td>0.825889</td>\n",
       "    </tr>\n",
       "    <tr>\n",
       "      <th>3798</th>\n",
       "      <td>3798</td>\n",
       "      <td>0.526832</td>\n",
       "    </tr>\n",
       "  </tbody>\n",
       "</table>\n",
       "<p>3799 rows × 2 columns</p>\n",
       "</div>"
      ],
      "text/plain": [
       "        id  TARGET_5Yrs\n",
       "0        0     0.580874\n",
       "1        1     0.432689\n",
       "2        2     0.739632\n",
       "3        3     0.812192\n",
       "4        4     0.369429\n",
       "...    ...          ...\n",
       "3794  3794     0.861170\n",
       "3795  3795     0.556160\n",
       "3796  3796     0.411123\n",
       "3797  3797     0.825889\n",
       "3798  3798     0.526832\n",
       "\n",
       "[3799 rows x 2 columns]"
      ]
     },
     "execution_count": 15,
     "metadata": {},
     "output_type": "execute_result"
    }
   ],
   "source": [
    "submit_predictions.submit_predictions(model, X_test, test_id,\"SMOTE model experiment- No calibration\", pred_path=processed_data_dir/'12964298_week2_SMOTE_no_cal.csv')"
   ]
  },
  {
   "cell_type": "markdown",
   "id": "filled-aviation",
   "metadata": {},
   "source": [
    "## Calibration\n",
    "As we can see, there is a minor improvement on the baseline model. Unfortunately the model is not calibrated, it expects that the minority class is more likely in the wild then it actually is. To get around this, using the `CalibratedClassifierCV` will retrain the model with calibration. Initially we will use the setting `cv='prefit'`, which does not retrain the model, but adjusts the probabilities to reflect the true data. "
   ]
  },
  {
   "cell_type": "code",
   "execution_count": 16,
   "id": "active-series",
   "metadata": {},
   "outputs": [
    {
     "data": {
      "text/plain": [
       "CalibratedClassifierCV(base_estimator=RandomizedSearchCV(cv=7,\n",
       "                                                         estimator=VotingClassifier(estimators=[('rf',\n",
       "                                                                                                 Pipeline(steps=[('classifier',\n",
       "                                                                                                                  RandomForestClassifier(oob_score=True))])),\n",
       "                                                                                                ('lr',\n",
       "                                                                                                 Pipeline(steps=[('scaler',\n",
       "                                                                                                                  StandardScaler()),\n",
       "                                                                                                                 ('pca',\n",
       "                                                                                                                  PCA()),\n",
       "                                                                                                                 ('classifier',\n",
       "                                                                                                                  LogisticRegression(max_iter=10000))]))],\n",
       "                                                                                    voting='soft'),\n",
       "                                                         n_iter=12, n_jobs=-1,\n",
       "                                                         param_distributions={'lr__classifier__penalty': ['l2'],\n",
       "                                                                              'rf__classifier__class_weight': ['balanced'],\n",
       "                                                                              'rf__classifier__max_depth': [3,\n",
       "                                                                                                            4,\n",
       "                                                                                                            5],\n",
       "                                                                              'rf__classifier__max_features': ['log2',\n",
       "                                                                                                               None],\n",
       "                                                                              'rf__classifier__n_estimators': [1000],\n",
       "                                                                              'weights': [[2,\n",
       "                                                                                           1],\n",
       "                                                                                          [1,\n",
       "                                                                                           1],\n",
       "                                                                                          [1,\n",
       "                                                                                           2],\n",
       "                                                                                          [1,\n",
       "                                                                                           3],\n",
       "                                                                                          [1,\n",
       "                                                                                           4]]},\n",
       "                                                         random_state=1,\n",
       "                                                         verbose=10),\n",
       "                       cv='prefit')"
      ]
     },
     "execution_count": 16,
     "metadata": {},
     "output_type": "execute_result"
    }
   ],
   "source": [
    "calibration_no_refit = CalibratedClassifierCV(model, cv = 'prefit')\n",
    "calibration_no_refit.fit(X,y)"
   ]
  },
  {
   "cell_type": "code",
   "execution_count": 17,
   "id": "skilled-ordering",
   "metadata": {},
   "outputs": [
    {
     "name": "stdout",
     "output_type": "stream",
     "text": [
      " class 1 :  6669\n",
      " class 0 :  1331\n",
      "Confusion Matrix: \n",
      " [[  11 1320]\n",
      " [   6 6663]]\n",
      "Accuracy:  0.83425\n",
      "AUC:  0.7202794949641405\n",
      "              precision    recall  f1-score   support\n",
      "\n",
      "           0       0.65      0.01      0.02      1331\n",
      "           1       0.83      1.00      0.91      6669\n",
      "\n",
      "    accuracy                           0.83      8000\n",
      "   macro avg       0.74      0.50      0.46      8000\n",
      "weighted avg       0.80      0.83      0.76      8000\n",
      "\n"
     ]
    },
    {
     "data": {
      "image/png": "[encoded data removed]",
      "text/plain": [
       "<Figure size 432x288 with 1 Axes>"
      ]
     },
     "metadata": {
      "needs_background": "light"
     },
     "output_type": "display_data"
    }
   ],
   "source": [
    "visualize.classification_reports(calibration_no_refit,X,y)"
   ]
  },
  {
   "cell_type": "markdown",
   "id": "placed-psychiatry",
   "metadata": {},
   "source": [
    "Using calibration improves accuracy of the final prediction but does not change AUC, but improves the accuracy. This may not be desired as the model consistently under-predicts the minority class. Retraining the calibrated model, using cross validation will refit the model. Unfortunately this has the undesired affect of applying cross validation twice. "
   ]
  },
  {
   "cell_type": "code",
   "execution_count": 18,
   "id": "latin-tuning",
   "metadata": {},
   "outputs": [],
   "source": [
    "calibrated_model = CalibratedClassifierCV(model)"
   ]
  },
  {
   "cell_type": "code",
   "execution_count": 19,
   "id": "sitting-eagle",
   "metadata": {},
   "outputs": [
    {
     "name": "stdout",
     "output_type": "stream",
     "text": [
      "Fitting 7 folds for each of 12 candidates, totalling 84 fits\n",
      "Fitting 7 folds for each of 12 candidates, totalling 84 fits\n",
      "Fitting 7 folds for each of 12 candidates, totalling 84 fits\n",
      "Fitting 7 folds for each of 12 candidates, totalling 84 fits\n",
      "Fitting 7 folds for each of 12 candidates, totalling 84 fits\n"
     ]
    },
    {
     "data": {
      "text/plain": [
       "CalibratedClassifierCV(base_estimator=RandomizedSearchCV(cv=7,\n",
       "                                                         estimator=VotingClassifier(estimators=[('rf',\n",
       "                                                                                                 Pipeline(steps=[('classifier',\n",
       "                                                                                                                  RandomForestClassifier(oob_score=True))])),\n",
       "                                                                                                ('lr',\n",
       "                                                                                                 Pipeline(steps=[('scaler',\n",
       "                                                                                                                  StandardScaler()),\n",
       "                                                                                                                 ('pca',\n",
       "                                                                                                                  PCA()),\n",
       "                                                                                                                 ('classifier',\n",
       "                                                                                                                  LogisticRegression(max_iter=10000))]))],\n",
       "                                                                                    voting='soft'),\n",
       "                                                         n_iter=12, n_jobs=-1,\n",
       "                                                         param_distributions={'lr__classifier__penalty': ['l2'],\n",
       "                                                                              'rf__classifier__class_weight': ['balanced'],\n",
       "                                                                              'rf__classifier__max_depth': [3,\n",
       "                                                                                                            4,\n",
       "                                                                                                            5],\n",
       "                                                                              'rf__classifier__max_features': ['log2',\n",
       "                                                                                                               None],\n",
       "                                                                              'rf__classifier__n_estimators': [1000],\n",
       "                                                                              'weights': [[2,\n",
       "                                                                                           1],\n",
       "                                                                                          [1,\n",
       "                                                                                           1],\n",
       "                                                                                          [1,\n",
       "                                                                                           2],\n",
       "                                                                                          [1,\n",
       "                                                                                           3],\n",
       "                                                                                          [1,\n",
       "                                                                                           4]]},\n",
       "                                                         random_state=1,\n",
       "                                                         verbose=10))"
      ]
     },
     "execution_count": 19,
     "metadata": {},
     "output_type": "execute_result"
    }
   ],
   "source": [
    "calibrated_model.fit(X_sm,y_sm)"
   ]
  },
  {
   "cell_type": "code",
   "execution_count": 20,
   "id": "appointed-satisfaction",
   "metadata": {},
   "outputs": [
    {
     "name": "stdout",
     "output_type": "stream",
     "text": [
      " class 1 :  6669\n",
      " class 0 :  1331\n",
      "Confusion Matrix: \n",
      " [[ 790  541]\n",
      " [1876 4793]]\n",
      "Accuracy:  0.697875\n",
      "AUC:  0.7226625451940806\n",
      "              precision    recall  f1-score   support\n",
      "\n",
      "           0       0.30      0.59      0.40      1331\n",
      "           1       0.90      0.72      0.80      6669\n",
      "\n",
      "    accuracy                           0.70      8000\n",
      "   macro avg       0.60      0.66      0.60      8000\n",
      "weighted avg       0.80      0.70      0.73      8000\n",
      "\n"
     ]
    },
    {
     "data": {
      "image/png": "[encoded data removed]",
      "text/plain": [
       "<Figure size 432x288 with 1 Axes>"
      ]
     },
     "metadata": {
      "needs_background": "light"
     },
     "output_type": "display_data"
    }
   ],
   "source": [
    "visualize.classification_reports(calibrated_model,X,y)"
   ]
  },
  {
   "cell_type": "code",
   "execution_count": 21,
   "id": "clinical-poster",
   "metadata": {},
   "outputs": [
    {
     "name": "stdout",
     "output_type": "stream",
     "text": [
      " class 1 :  6669\n",
      " class 0 :  6669\n",
      "Confusion Matrix: \n",
      " [[4867 1802]\n",
      " [1876 4793]]\n",
      "Accuracy:  0.7242465137201979\n",
      "AUC:  0.8108702664818551\n",
      "              precision    recall  f1-score   support\n",
      "\n",
      "           0       0.72      0.73      0.73      6669\n",
      "           1       0.73      0.72      0.72      6669\n",
      "\n",
      "    accuracy                           0.72     13338\n",
      "   macro avg       0.72      0.72      0.72     13338\n",
      "weighted avg       0.72      0.72      0.72     13338\n",
      "\n"
     ]
    },
    {
     "data": {
      "image/png": "[encoded data removed]",
      "text/plain": [
       "<Figure size 432x288 with 1 Axes>"
      ]
     },
     "metadata": {
      "needs_background": "light"
     },
     "output_type": "display_data"
    }
   ],
   "source": [
    "visualize.classification_reports(calibrated_model,X_sm,y_sm)"
   ]
  },
  {
   "cell_type": "markdown",
   "id": "cooked-garden",
   "metadata": {},
   "source": [
    "## Submit Predictions"
   ]
  },
  {
   "cell_type": "code",
   "execution_count": 22,
   "id": "secure-angle",
   "metadata": {},
   "outputs": [
    {
     "name": "stdout",
     "output_type": "stream",
     "text": [
      "Warning: Your Kaggle API key is readable by other users on this system! To fix this, you can run 'chmod 600 /Users/markbrackenrig/.kaggle/kaggle.json'\n",
      "Success! User is Authenticated\n"
     ]
    },
    {
     "name": "stderr",
     "output_type": "stream",
     "text": [
      "100%|██████████| 88.2k/88.2k [00:05<00:00, 15.5kB/s]\n"
     ]
    },
    {
     "data": {
      "text/html": [
       "<div>\n",
       "<style scoped>\n",
       "    .dataframe tbody tr th:only-of-type {\n",
       "        vertical-align: middle;\n",
       "    }\n",
       "\n",
       "    .dataframe tbody tr th {\n",
       "        vertical-align: top;\n",
       "    }\n",
       "\n",
       "    .dataframe thead th {\n",
       "        text-align: right;\n",
       "    }\n",
       "</style>\n",
       "<table border=\"1\" class=\"dataframe\">\n",
       "  <thead>\n",
       "    <tr style=\"text-align: right;\">\n",
       "      <th></th>\n",
       "      <th>id</th>\n",
       "      <th>TARGET_5Yrs</th>\n",
       "    </tr>\n",
       "  </thead>\n",
       "  <tbody>\n",
       "    <tr>\n",
       "      <th>0</th>\n",
       "      <td>0</td>\n",
       "      <td>0.611151</td>\n",
       "    </tr>\n",
       "    <tr>\n",
       "      <th>1</th>\n",
       "      <td>1</td>\n",
       "      <td>0.401979</td>\n",
       "    </tr>\n",
       "    <tr>\n",
       "      <th>2</th>\n",
       "      <td>2</td>\n",
       "      <td>0.839710</td>\n",
       "    </tr>\n",
       "    <tr>\n",
       "      <th>3</th>\n",
       "      <td>3</td>\n",
       "      <td>0.888121</td>\n",
       "    </tr>\n",
       "    <tr>\n",
       "      <th>4</th>\n",
       "      <td>4</td>\n",
       "      <td>0.302727</td>\n",
       "    </tr>\n",
       "    <tr>\n",
       "      <th>...</th>\n",
       "      <td>...</td>\n",
       "      <td>...</td>\n",
       "    </tr>\n",
       "    <tr>\n",
       "      <th>3794</th>\n",
       "      <td>3794</td>\n",
       "      <td>0.916108</td>\n",
       "    </tr>\n",
       "    <tr>\n",
       "      <th>3795</th>\n",
       "      <td>3795</td>\n",
       "      <td>0.592790</td>\n",
       "    </tr>\n",
       "    <tr>\n",
       "      <th>3796</th>\n",
       "      <td>3796</td>\n",
       "      <td>0.348514</td>\n",
       "    </tr>\n",
       "    <tr>\n",
       "      <th>3797</th>\n",
       "      <td>3797</td>\n",
       "      <td>0.896604</td>\n",
       "    </tr>\n",
       "    <tr>\n",
       "      <th>3798</th>\n",
       "      <td>3798</td>\n",
       "      <td>0.515794</td>\n",
       "    </tr>\n",
       "  </tbody>\n",
       "</table>\n",
       "<p>3799 rows × 2 columns</p>\n",
       "</div>"
      ],
      "text/plain": [
       "        id  TARGET_5Yrs\n",
       "0        0     0.611151\n",
       "1        1     0.401979\n",
       "2        2     0.839710\n",
       "3        3     0.888121\n",
       "4        4     0.302727\n",
       "...    ...          ...\n",
       "3794  3794     0.916108\n",
       "3795  3795     0.592790\n",
       "3796  3796     0.348514\n",
       "3797  3797     0.896604\n",
       "3798  3798     0.515794\n",
       "\n",
       "[3799 rows x 2 columns]"
      ]
     },
     "execution_count": 22,
     "metadata": {},
     "output_type": "execute_result"
    }
   ],
   "source": [
    "submit_predictions.submit_predictions(calibrated_model, X_test, test_id,\"SMOTE model experiment\", pred_path=processed_data_dir/'12964298_week2_SMOTE.csv')"
   ]
  },
  {
   "cell_type": "markdown",
   "id": "ancient-daniel",
   "metadata": {},
   "source": [
    "## Save Model"
   ]
  },
  {
   "cell_type": "code",
   "execution_count": 24,
   "id": "australian-sending",
   "metadata": {},
   "outputs": [],
   "source": [
    "file_name = models_dir /'brackenrig_mark_12964298_week2_SMOTE.sav'\n",
    "pkl.dump(calibrated_model, open(file_name, 'wb'))"
   ]
  }
 ],
 "metadata": {
  "kernelspec": {
   "display_name": "Python 3",
   "language": "python",
   "name": "python3"
  },
  "language_info": {
   "codemirror_mode": {
    "name": "ipython",
    "version": 3
   },
   "file_extension": ".py",
   "mimetype": "text/x-python",
   "name": "python",
   "nbconvert_exporter": "python",
   "pygments_lexer": "ipython3",
   "version": "3.8.5"
  }
 },
 "nbformat": 4,
 "nbformat_minor": 5
}
