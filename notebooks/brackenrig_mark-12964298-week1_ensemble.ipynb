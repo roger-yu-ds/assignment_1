{
 "cells": [
  {
   "cell_type": "markdown",
   "id": "green-wiring",
   "metadata": {},
   "source": [
    "## Set up\n",
    "\n",
    "Install required packages and load relevant data. Ensure you adjust to add relevant classifiers."
   ]
  },
  {
   "cell_type": "code",
   "execution_count": 1,
   "id": "changing-error",
   "metadata": {},
   "outputs": [],
   "source": [
    "import pandas as pd\n",
    "import numpy as np\n",
    "from pathlib import Path\n",
    "from scipy import stats\n",
    "from joblib import dump\n",
    "import pickle as pkl\n",
    "## import required classifiers, preprocessing, etc.\n",
    "from sklearn.preprocessing import StandardScaler, Normalizer, MinMaxScaler\n",
    "from sklearn.model_selection import train_test_split\n",
    "from sklearn.model_selection import RandomizedSearchCV\n",
    "from sklearn.pipeline import Pipeline\n",
    "from sklearn.ensemble import RandomForestClassifier, GradientBoostingClassifier, VotingClassifier, StackingClassifier\n",
    "from sklearn.neighbors import KNeighborsClassifier\n",
    "from sklearn.decomposition import PCA\n",
    "from sklearn.calibration import CalibratedClassifierCV\n",
    "from sklearn.linear_model import LogisticRegression\n",
    "# Add additional as required\n",
    "\n",
    "\n",
    "# import custom files\n",
    "from src.data import make_dataset\n",
    "from src.data import submit_predictions\n",
    "from src.visualization import visualize\n",
    "#import misc visualisation and EDA packages\n",
    "from pandas_profiling import ProfileReport\n",
    "import matplotlib.pyplot as plt\n",
    "from  matplotlib.ticker import FuncFormatter\n",
    "import seaborn as sns"
   ]
  },
  {
   "cell_type": "markdown",
   "id": "approved-jones",
   "metadata": {},
   "source": [
    "### Set Directory paths"
   ]
  },
  {
   "cell_type": "code",
   "execution_count": 2,
   "id": "paperback-escape",
   "metadata": {},
   "outputs": [],
   "source": [
    "project_dir = Path.cwd().parent\n",
    "report_dir = project_dir / 'reports'\n",
    "data_dir = project_dir / 'data'\n",
    "raw_data_dir = data_dir / 'raw'\n",
    "interim_data_dir = data_dir / 'interim'\n",
    "processed_data_dir = data_dir / 'processed'\n",
    "models_dir = project_dir / 'models'"
   ]
  },
  {
   "cell_type": "markdown",
   "id": "middle-mining",
   "metadata": {},
   "source": [
    "## Download and Prepare Data"
   ]
  },
  {
   "cell_type": "markdown",
   "id": "occasional-logistics",
   "metadata": {},
   "source": [
    "The `make_dataset.download_data` function retrieves the data directly from the kaggle API, unzips the files and saves them into the raw data directory."
   ]
  },
  {
   "cell_type": "code",
   "execution_count": 3,
   "id": "perceived-recognition",
   "metadata": {},
   "outputs": [],
   "source": [
    "competition = 'uts-advdsi-nba-career-prediction'\n",
    "make_dataset.download_data(competition=competition,\n",
    "                           path=raw_data_dir,\n",
    "                           unzip=True)"
   ]
  },
  {
   "cell_type": "code",
   "execution_count": 4,
   "id": "recreational-shuttle",
   "metadata": {},
   "outputs": [],
   "source": [
    "df_train = pd.read_csv(raw_data_dir / 'train.csv')\n"
   ]
  },
  {
   "cell_type": "code",
   "execution_count": 5,
   "id": "developed-tract",
   "metadata": {},
   "outputs": [],
   "source": [
    "X_test = pd.read_csv(raw_data_dir / 'test.csv')"
   ]
  },
  {
   "cell_type": "code",
   "execution_count": 6,
   "id": "hispanic-payment",
   "metadata": {},
   "outputs": [],
   "source": [
    "df_train.drop(columns=['Id_old', 'Id'], inplace=True)\n",
    "X_test.drop(columns=['Id_old'], inplace=True)\n",
    "test_id = X_test.pop('Id')"
   ]
  },
  {
   "cell_type": "markdown",
   "id": "boolean-spoke",
   "metadata": {},
   "source": [
    "## Split into Training and Validation Set"
   ]
  },
  {
   "cell_type": "code",
   "execution_count": 7,
   "id": "educational-narrow",
   "metadata": {},
   "outputs": [],
   "source": [
    "target = 'TARGET_5Yrs'\n",
    "X, y = make_dataset.separate_target(df_train, target=target)\n",
    "X_train, X_val, y_train, y_val = train_test_split(X, y,\n",
    "                                                  test_size=0.2,\n",
    "                                                  random_state=42)"
   ]
  },
  {
   "cell_type": "markdown",
   "id": "duplicate-nothing",
   "metadata": {},
   "source": [
    "## Modelling\n",
    "\n",
    "For this experiment, I will be ensembling a linear model and a random forest classifier using the `VotingClassifier` method. I have trained two examples of models to show the difference between using these models individually and the voting classifier."
   ]
  },
  {
   "cell_type": "markdown",
   "id": "demonstrated-cologne",
   "metadata": {},
   "source": [
    "## Linear Regression"
   ]
  },
  {
   "cell_type": "code",
   "execution_count": 8,
   "id": "southwest-triangle",
   "metadata": {},
   "outputs": [
    {
     "data": {
      "text/plain": [
       "Pipeline(steps=[('scaler', StandardScaler()), ('pca', PCA()),\n",
       "                ('classifier', LogisticRegression(max_iter=10000))])"
      ]
     },
     "execution_count": 8,
     "metadata": {},
     "output_type": "execute_result"
    }
   ],
   "source": [
    "lr_pipe = Pipeline([ ('scaler', StandardScaler()),\n",
    "                 ('pca', PCA()),\n",
    "        ('classifier',   LogisticRegression(max_iter = 10000))])\n",
    "                    \n",
    "lr_pipe.fit(X_train,y_train)\n"
   ]
  },
  {
   "cell_type": "code",
   "execution_count": 9,
   "id": "deadly-growth",
   "metadata": {},
   "outputs": [
    {
     "name": "stdout",
     "output_type": "stream",
     "text": [
      " class 1 :  5332\n",
      " class 0 :  1068\n",
      "Confusion Matrix: \n",
      " [[  44 1024]\n",
      " [  28 5304]]\n",
      "Accuracy:  0.835625\n",
      "AUC:  0.7049704841940823\n",
      "              precision    recall  f1-score   support\n",
      "\n",
      "           0       0.61      0.04      0.08      1068\n",
      "           1       0.84      0.99      0.91      5332\n",
      "\n",
      "    accuracy                           0.84      6400\n",
      "   macro avg       0.72      0.52      0.49      6400\n",
      "weighted avg       0.80      0.84      0.77      6400\n",
      "\n"
     ]
    },
    {
     "data": {
      "image/png": "[encoded data removed]",
      "text/plain": [
       "<Figure size 432x288 with 1 Axes>"
      ]
     },
     "metadata": {
      "needs_background": "light"
     },
     "output_type": "display_data"
    }
   ],
   "source": [
    "visualize.classification_reports(lr_pipe,X_train,y_train)"
   ]
  },
  {
   "cell_type": "code",
   "execution_count": 10,
   "id": "exterior-subscriber",
   "metadata": {},
   "outputs": [
    {
     "name": "stdout",
     "output_type": "stream",
     "text": [
      " class 1 :  1337\n",
      " class 0 :  263\n",
      "Confusion Matrix: \n",
      " [[   6  257]\n",
      " [   6 1331]]\n",
      "Accuracy:  0.835625\n",
      "AUC:  0.7172319846657433\n",
      "              precision    recall  f1-score   support\n",
      "\n",
      "           0       0.50      0.02      0.04       263\n",
      "           1       0.84      1.00      0.91      1337\n",
      "\n",
      "    accuracy                           0.84      1600\n",
      "   macro avg       0.67      0.51      0.48      1600\n",
      "weighted avg       0.78      0.84      0.77      1600\n",
      "\n"
     ]
    },
    {
     "data": {
      "image/png": "[encoded data removed]",
      "text/plain": [
       "<Figure size 432x288 with 1 Axes>"
      ]
     },
     "metadata": {
      "needs_background": "light"
     },
     "output_type": "display_data"
    }
   ],
   "source": [
    "visualize.classification_reports(lr_pipe,X_val,y_val)"
   ]
  },
  {
   "cell_type": "markdown",
   "id": "continent-judges",
   "metadata": {},
   "source": [
    "The linear regression appears to be failing to predict the minority class and biasing the majority class."
   ]
  },
  {
   "cell_type": "markdown",
   "id": "brutal-providence",
   "metadata": {},
   "source": [
    "## Random Forest"
   ]
  },
  {
   "cell_type": "code",
   "execution_count": 11,
   "id": "local-adams",
   "metadata": {},
   "outputs": [
    {
     "data": {
      "text/plain": [
       "Pipeline(steps=[('classifier',\n",
       "                 RandomForestClassifier(class_weight='balanced', max_depth=3,\n",
       "                                        max_features='log2', n_estimators=1000,\n",
       "                                        oob_score=True))])"
      ]
     },
     "execution_count": 11,
     "metadata": {},
     "output_type": "execute_result"
    }
   ],
   "source": [
    "rf_pipe = Pipeline([\n",
    "        ('classifier', RandomForestClassifier(oob_score = True, n_estimators = 1000, max_depth = 3,max_features = 'log2',class_weight = 'balanced'))\n",
    "\n",
    "])\n",
    "rf_pipe.fit(X_train,y_train)"
   ]
  },
  {
   "cell_type": "code",
   "execution_count": 12,
   "id": "developmental-coral",
   "metadata": {},
   "outputs": [
    {
     "name": "stdout",
     "output_type": "stream",
     "text": [
      " class 1 :  5332\n",
      " class 0 :  1068\n",
      "Confusion Matrix: \n",
      " [[ 730  338]\n",
      " [2004 3328]]\n",
      "Accuracy:  0.6340625\n",
      "AUC:  0.7099524178797507\n",
      "              precision    recall  f1-score   support\n",
      "\n",
      "           0       0.27      0.68      0.38      1068\n",
      "           1       0.91      0.62      0.74      5332\n",
      "\n",
      "    accuracy                           0.63      6400\n",
      "   macro avg       0.59      0.65      0.56      6400\n",
      "weighted avg       0.80      0.63      0.68      6400\n",
      "\n"
     ]
    },
    {
     "data": {
      "image/png": "[encoded data removed]",
      "text/plain": [
       "<Figure size 432x288 with 1 Axes>"
      ]
     },
     "metadata": {
      "needs_background": "light"
     },
     "output_type": "display_data"
    }
   ],
   "source": [
    "visualize.classification_reports(rf_pipe,X_train,y_train)"
   ]
  },
  {
   "cell_type": "code",
   "execution_count": 13,
   "id": "unknown-bundle",
   "metadata": {},
   "outputs": [
    {
     "name": "stdout",
     "output_type": "stream",
     "text": [
      " class 1 :  1337\n",
      " class 0 :  263\n",
      "Confusion Matrix: \n",
      " [[182  81]\n",
      " [502 835]]\n",
      "Accuracy:  0.635625\n",
      "AUC:  0.7116096134868655\n",
      "              precision    recall  f1-score   support\n",
      "\n",
      "           0       0.27      0.69      0.38       263\n",
      "           1       0.91      0.62      0.74      1337\n",
      "\n",
      "    accuracy                           0.64      1600\n",
      "   macro avg       0.59      0.66      0.56      1600\n",
      "weighted avg       0.81      0.64      0.68      1600\n",
      "\n"
     ]
    },
    {
     "data": {
      "image/png": "[encoded data removed]",
      "text/plain": [
       "<Figure size 432x288 with 1 Axes>"
      ]
     },
     "metadata": {
      "needs_background": "light"
     },
     "output_type": "display_data"
    }
   ],
   "source": [
    "visualize.classification_reports(rf_pipe,X_val,y_val)"
   ]
  },
  {
   "cell_type": "markdown",
   "id": "interesting-screen",
   "metadata": {},
   "source": [
    "the random forest has a lower AUC and accuracy but is less biased towards the majority class."
   ]
  },
  {
   "cell_type": "markdown",
   "id": "conceptual-retirement",
   "metadata": {},
   "source": [
    "## Create Voting Classifier\n",
    "\n",
    "The voting classifier has some basic hyper parameter tuning of the voting weights of the two models for ensembling, the max depth, n_estimators, and max_features of the random forest, and the penalty for the linear regression model. "
   ]
  },
  {
   "cell_type": "code",
   "execution_count": 14,
   "id": "tutorial-river",
   "metadata": {},
   "outputs": [],
   "source": [
    "rf_pipe = Pipeline([\n",
    "        ('classifier', RandomForestClassifier(oob_score = True))\n",
    "])\n",
    "\n",
    "\n",
    "lr_pipe = Pipeline([ ('scaler', StandardScaler()),\n",
    "                 ('pca', PCA()),\n",
    "        ('classifier',   LogisticRegression(max_iter = 10000))\n",
    "])\n",
    "\n",
    "\n",
    "voter = VotingClassifier(estimators = [('rf',rf_pipe),('lr',lr_pipe)], voting = 'soft')\n",
    "\n",
    "param_dist = {\n",
    "    'weights': [[2,1],[1,1],[1,2], [1,3],[1,4]],\n",
    "    'lr__classifier__penalty': ['l2'],\n",
    "    'rf__classifier__n_estimators': [1000],\n",
    "    'rf__classifier__max_depth': [3,4,5],\n",
    "    'rf__classifier__max_features': ['log2', None],\n",
    "    'rf__classifier__class_weight': ['balanced']\n",
    "}\n",
    "\n",
    "cv = RandomizedSearchCV(\n",
    "    estimator=voter,\n",
    "    param_distributions=param_dist,\n",
    "    random_state=1,\n",
    "    n_iter=12,\n",
    "    cv=7,\n",
    "    n_jobs=-1,\n",
    "    verbose=10\n",
    ")\n",
    "\n",
    "\n"
   ]
  },
  {
   "cell_type": "code",
   "execution_count": 15,
   "id": "organizational-century",
   "metadata": {},
   "outputs": [
    {
     "name": "stdout",
     "output_type": "stream",
     "text": [
      "Fitting 7 folds for each of 12 candidates, totalling 84 fits\n"
     ]
    },
    {
     "data": {
      "text/plain": [
       "RandomizedSearchCV(cv=7,\n",
       "                   estimator=VotingClassifier(estimators=[('rf',\n",
       "                                                           Pipeline(steps=[('classifier',\n",
       "                                                                            RandomForestClassifier(oob_score=True))])),\n",
       "                                                          ('lr',\n",
       "                                                           Pipeline(steps=[('scaler',\n",
       "                                                                            StandardScaler()),\n",
       "                                                                           ('pca',\n",
       "                                                                            PCA()),\n",
       "                                                                           ('classifier',\n",
       "                                                                            LogisticRegression(max_iter=10000))]))],\n",
       "                                              voting='soft'),\n",
       "                   n_iter=12, n_jobs=-1,\n",
       "                   param_distributions={'lr__classifier__penalty': ['l2'],\n",
       "                                        'rf__classifier__class_weight': ['balanced'],\n",
       "                                        'rf__classifier__max_depth': [3, 4, 5],\n",
       "                                        'rf__classifier__max_features': ['log2',\n",
       "                                                                         None],\n",
       "                                        'rf__classifier__n_estimators': [1000],\n",
       "                                        'weights': [[2, 1], [1, 1], [1, 2],\n",
       "                                                    [1, 3], [1, 4]]},\n",
       "                   random_state=1, verbose=10)"
      ]
     },
     "execution_count": 15,
     "metadata": {},
     "output_type": "execute_result"
    }
   ],
   "source": [
    "cv.fit(X_train,y_train)"
   ]
  },
  {
   "cell_type": "code",
   "execution_count": 16,
   "id": "north-appointment",
   "metadata": {},
   "outputs": [
    {
     "data": {
      "text/plain": [
       "{'weights': [1, 3],\n",
       " 'rf__classifier__n_estimators': 1000,\n",
       " 'rf__classifier__max_features': 'log2',\n",
       " 'rf__classifier__max_depth': 3,\n",
       " 'rf__classifier__class_weight': 'balanced',\n",
       " 'lr__classifier__penalty': 'l2'}"
      ]
     },
     "execution_count": 16,
     "metadata": {},
     "output_type": "execute_result"
    }
   ],
   "source": [
    "cv.best_params_"
   ]
  },
  {
   "cell_type": "markdown",
   "id": "respiratory-mountain",
   "metadata": {},
   "source": [
    "### Inspect Results"
   ]
  },
  {
   "cell_type": "code",
   "execution_count": 17,
   "id": "final-paragraph",
   "metadata": {},
   "outputs": [
    {
     "name": "stdout",
     "output_type": "stream",
     "text": [
      " class 1 :  5332\n",
      " class 0 :  1068\n",
      "Confusion Matrix: \n",
      " [[  81  987]\n",
      " [  67 5265]]\n",
      "Accuracy:  0.8353125\n",
      "AUC:  0.7104792349772837\n",
      "              precision    recall  f1-score   support\n",
      "\n",
      "           0       0.55      0.08      0.13      1068\n",
      "           1       0.84      0.99      0.91      5332\n",
      "\n",
      "    accuracy                           0.84      6400\n",
      "   macro avg       0.69      0.53      0.52      6400\n",
      "weighted avg       0.79      0.84      0.78      6400\n",
      "\n"
     ]
    },
    {
     "data": {
      "image/png": "[encoded data removed]",
      "text/plain": [
       "<Figure size 432x288 with 1 Axes>"
      ]
     },
     "metadata": {
      "needs_background": "light"
     },
     "output_type": "display_data"
    }
   ],
   "source": [
    "visualize.classification_reports(cv,X_train,y_train)"
   ]
  },
  {
   "cell_type": "code",
   "execution_count": 18,
   "id": "driving-purse",
   "metadata": {},
   "outputs": [
    {
     "name": "stdout",
     "output_type": "stream",
     "text": [
      " class 1 :  1337\n",
      " class 0 :  263\n",
      "Confusion Matrix: \n",
      " [[  18  245]\n",
      " [  18 1319]]\n",
      "Accuracy:  0.835625\n",
      "AUC:  0.7198313004257304\n",
      "              precision    recall  f1-score   support\n",
      "\n",
      "           0       0.50      0.07      0.12       263\n",
      "           1       0.84      0.99      0.91      1337\n",
      "\n",
      "    accuracy                           0.84      1600\n",
      "   macro avg       0.67      0.53      0.51      1600\n",
      "weighted avg       0.79      0.84      0.78      1600\n",
      "\n"
     ]
    },
    {
     "data": {
      "image/png": "[encoded data removed]",
      "text/plain": [
       "<Figure size 432x288 with 1 Axes>"
      ]
     },
     "metadata": {
      "needs_background": "light"
     },
     "output_type": "display_data"
    }
   ],
   "source": [
    "visualize.classification_reports(cv,X_val,y_val)"
   ]
  },
  {
   "cell_type": "markdown",
   "id": "civic-castle",
   "metadata": {},
   "source": [
    "## Submit Predictions"
   ]
  },
  {
   "cell_type": "code",
   "execution_count": 19,
   "id": "decreased-bedroom",
   "metadata": {},
   "outputs": [
    {
     "name": "stdout",
     "output_type": "stream",
     "text": [
      "Success! User is Authenticated\n"
     ]
    },
    {
     "name": "stderr",
     "output_type": "stream",
     "text": [
      "100%|██████████| 87.6k/87.6k [00:05<00:00, 15.6kB/s]\n"
     ]
    },
    {
     "data": {
      "text/html": [
       "<div>\n",
       "<style scoped>\n",
       "    .dataframe tbody tr th:only-of-type {\n",
       "        vertical-align: middle;\n",
       "    }\n",
       "\n",
       "    .dataframe tbody tr th {\n",
       "        vertical-align: top;\n",
       "    }\n",
       "\n",
       "    .dataframe thead th {\n",
       "        text-align: right;\n",
       "    }\n",
       "</style>\n",
       "<table border=\"1\" class=\"dataframe\">\n",
       "  <thead>\n",
       "    <tr style=\"text-align: right;\">\n",
       "      <th></th>\n",
       "      <th>id</th>\n",
       "      <th>TARGET_5Yrs</th>\n",
       "    </tr>\n",
       "  </thead>\n",
       "  <tbody>\n",
       "    <tr>\n",
       "      <th>0</th>\n",
       "      <td>0</td>\n",
       "      <td>0.735729</td>\n",
       "    </tr>\n",
       "    <tr>\n",
       "      <th>1</th>\n",
       "      <td>1</td>\n",
       "      <td>0.719266</td>\n",
       "    </tr>\n",
       "    <tr>\n",
       "      <th>2</th>\n",
       "      <td>2</td>\n",
       "      <td>0.876441</td>\n",
       "    </tr>\n",
       "    <tr>\n",
       "      <th>3</th>\n",
       "      <td>3</td>\n",
       "      <td>0.898882</td>\n",
       "    </tr>\n",
       "    <tr>\n",
       "      <th>4</th>\n",
       "      <td>4</td>\n",
       "      <td>0.673962</td>\n",
       "    </tr>\n",
       "    <tr>\n",
       "      <th>...</th>\n",
       "      <td>...</td>\n",
       "      <td>...</td>\n",
       "    </tr>\n",
       "    <tr>\n",
       "      <th>3794</th>\n",
       "      <td>3794</td>\n",
       "      <td>0.890799</td>\n",
       "    </tr>\n",
       "    <tr>\n",
       "      <th>3795</th>\n",
       "      <td>3795</td>\n",
       "      <td>0.760107</td>\n",
       "    </tr>\n",
       "    <tr>\n",
       "      <th>3796</th>\n",
       "      <td>3796</td>\n",
       "      <td>0.651439</td>\n",
       "    </tr>\n",
       "    <tr>\n",
       "      <th>3797</th>\n",
       "      <td>3797</td>\n",
       "      <td>0.898095</td>\n",
       "    </tr>\n",
       "    <tr>\n",
       "      <th>3798</th>\n",
       "      <td>3798</td>\n",
       "      <td>0.685488</td>\n",
       "    </tr>\n",
       "  </tbody>\n",
       "</table>\n",
       "<p>3799 rows × 2 columns</p>\n",
       "</div>"
      ],
      "text/plain": [
       "        id  TARGET_5Yrs\n",
       "0        0     0.735729\n",
       "1        1     0.719266\n",
       "2        2     0.876441\n",
       "3        3     0.898882\n",
       "4        4     0.673962\n",
       "...    ...          ...\n",
       "3794  3794     0.890799\n",
       "3795  3795     0.760107\n",
       "3796  3796     0.651439\n",
       "3797  3797     0.898095\n",
       "3798  3798     0.685488\n",
       "\n",
       "[3799 rows x 2 columns]"
      ]
     },
     "execution_count": 19,
     "metadata": {},
     "output_type": "execute_result"
    }
   ],
   "source": [
    "submit_predictions.submit_predictions(cv, X_test, test_id,\"12964298 week 1 submission - rf/lr voting\",pred_path=processed_data_dir/'12964298_week1_voting_classifier.csv')"
   ]
  },
  {
   "cell_type": "markdown",
   "id": "prescription-block",
   "metadata": {},
   "source": [
    "## Save Model File"
   ]
  },
  {
   "cell_type": "code",
   "execution_count": 20,
   "id": "identified-cleaners",
   "metadata": {},
   "outputs": [],
   "source": [
    "file_name = models_dir /'brackenrig_mark_12964298_week1_votingclassifier.sav'\n",
    "pkl.dump(cv, open(file_name, 'wb'))"
   ]
  }
 ],
 "metadata": {
  "kernelspec": {
   "display_name": "Python 3",
   "language": "python",
   "name": "python3"
  },
  "language_info": {
   "codemirror_mode": {
    "name": "ipython",
    "version": 3
   },
   "file_extension": ".py",
   "mimetype": "text/x-python",
   "name": "python",
   "nbconvert_exporter": "python",
   "pygments_lexer": "ipython3",
   "version": "3.7.3"
  }
 },
 "nbformat": 4,
 "nbformat_minor": 5
}
