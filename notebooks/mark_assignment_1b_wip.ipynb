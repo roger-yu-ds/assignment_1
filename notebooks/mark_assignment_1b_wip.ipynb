{
 "cells": [
  {
   "cell_type": "markdown",
   "id": "separate-incidence",
   "metadata": {},
   "source": [
    "## Set up\n",
    "\n",
    "Install required packages and load relevant data. Ensure you adjust to add relevant classifiers."
   ]
  },
  {
   "cell_type": "code",
   "execution_count": 14,
   "id": "hazardous-writer",
   "metadata": {},
   "outputs": [],
   "source": [
    "import pandas as pd\n",
    "import numpy as np\n",
    "from pathlib import Path\n",
    "from scipy import stats\n",
    "from joblib import dump\n",
    "import pickle as pkl\n",
    "import os\n",
    "from imblearn.over_sampling import SMOTE \n",
    "## import required classifiers, preprocessing, etc.\n",
    "from sklearn.preprocessing import StandardScaler\n",
    "from sklearn.preprocessing import normalize\n",
    "from sklearn.model_selection import train_test_split\n",
    "from sklearn.model_selection import RandomizedSearchCV\n",
    "from sklearn.pipeline import Pipeline\n",
    "from sklearn.ensemble import RandomForestClassifier\n",
    "from sklearn.decomposition import PCA\n",
    "from sklearn.calibration import CalibratedClassifierCV\n",
    "# Add additional as required\n",
    "\n",
    "os.chdir(Path.cwd().parent)\n",
    "# import custom files\n",
    "from src.data import make_dataset\n",
    "from src.data import submit_predictions\n",
    "from src.visualization import visualize\n",
    "#import misc visualisation and EDA packages\n",
    "from pandas_profiling import ProfileReport\n",
    "import matplotlib.pyplot as plt\n",
    "from  matplotlib.ticker import FuncFormatter\n",
    "import seaborn as sns\n"
   ]
  },
  {
   "cell_type": "code",
   "execution_count": 2,
   "id": "connected-falls",
   "metadata": {},
   "outputs": [],
   "source": [
    "os.chdir('notebooks')"
   ]
  },
  {
   "cell_type": "markdown",
   "id": "skilled-surrey",
   "metadata": {},
   "source": [
    "### Set Directory paths"
   ]
  },
  {
   "cell_type": "code",
   "execution_count": 3,
   "id": "sacred-locking",
   "metadata": {},
   "outputs": [],
   "source": [
    "project_dir = Path.cwd().parent\n",
    "report_dir = project_dir / 'reports'\n",
    "data_dir = project_dir / 'data'\n",
    "raw_data_dir = data_dir / 'raw'\n",
    "interim_data_dir = data_dir / 'interim'\n",
    "processed_data_dir = data_dir / 'processed'\n",
    "models_dir = project_dir / 'models'"
   ]
  },
  {
   "cell_type": "markdown",
   "id": "regular-forth",
   "metadata": {},
   "source": [
    "## Download and Prepare Data"
   ]
  },
  {
   "cell_type": "code",
   "execution_count": 4,
   "id": "painful-jesus",
   "metadata": {},
   "outputs": [
    {
     "name": "stdout",
     "output_type": "stream",
     "text": [
      "Warning: Your Kaggle API key is readable by other users on this system! To fix this, you can run 'chmod 600 /Users/markbrackenrig/.kaggle/kaggle.json'\n"
     ]
    }
   ],
   "source": [
    "competition = 'uts-advdsi-nba-career-prediction'\n",
    "make_dataset.download_data(competition=competition,\n",
    "                           path=raw_data_dir,\n",
    "                           unzip=True)"
   ]
  },
  {
   "cell_type": "code",
   "execution_count": 5,
   "id": "annual-filename",
   "metadata": {},
   "outputs": [],
   "source": [
    "df_train = pd.read_csv(raw_data_dir / 'train.csv')\n"
   ]
  },
  {
   "cell_type": "code",
   "execution_count": 6,
   "id": "painful-corporation",
   "metadata": {},
   "outputs": [],
   "source": [
    "X_test = pd.read_csv(raw_data_dir / 'test.csv')"
   ]
  },
  {
   "cell_type": "code",
   "execution_count": 7,
   "id": "answering-liechtenstein",
   "metadata": {},
   "outputs": [],
   "source": [
    "df_train.drop(columns=['Id_old', 'Id'], inplace=True)\n",
    "X_test.drop(columns=['Id_old'], inplace=True)\n",
    "test_id = X_test.pop('Id')"
   ]
  },
  {
   "cell_type": "markdown",
   "id": "engaging-syracuse",
   "metadata": {},
   "source": [
    "## Split into Training and ValidationSet"
   ]
  },
  {
   "cell_type": "code",
   "execution_count": 8,
   "id": "unexpected-columbus",
   "metadata": {},
   "outputs": [],
   "source": [
    "target = 'TARGET_5Yrs'\n",
    "X, y = make_dataset.separate_target(df_train, target=target)\n",
    "X_train, X_val, y_train, y_val = train_test_split(X, y,\n",
    "                                                  test_size=0.2,\n",
    "                                                  random_state=42)"
   ]
  },
  {
   "cell_type": "markdown",
   "id": "gorgeous-issue",
   "metadata": {},
   "source": [
    "## Modelling\n",
    "\n",
    "## Base Model\n",
    "The base model is the model from week 1"
   ]
  },
  {
   "cell_type": "code",
   "execution_count": 9,
   "id": "liquid-endorsement",
   "metadata": {},
   "outputs": [],
   "source": [
    "file_name = models_dir /'brackenrig_mark_12964298_week1_votingclassifier.sav'\n",
    "baseline_model = pkl.load(open(file_name,'rb'))"
   ]
  },
  {
   "cell_type": "code",
   "execution_count": 10,
   "id": "exempt-prayer",
   "metadata": {},
   "outputs": [
    {
     "name": "stdout",
     "output_type": "stream",
     "text": [
      " class 1 :  1337\n",
      " class 0 :  263\n",
      "Confusion Matrix: \n",
      " [[  18  245]\n",
      " [  18 1319]]\n",
      "Accuracy:  0.835625\n",
      "AUC:  0.7198313004257304\n",
      "              precision    recall  f1-score   support\n",
      "\n",
      "           0       0.50      0.07      0.12       263\n",
      "           1       0.84      0.99      0.91      1337\n",
      "\n",
      "    accuracy                           0.84      1600\n",
      "   macro avg       0.67      0.53      0.51      1600\n",
      "weighted avg       0.79      0.84      0.78      1600\n",
      "\n"
     ]
    },
    {
     "data": {
      "image/png": "[encoded data removed]",
      "text/plain": [
       "<Figure size 432x288 with 1 Axes>"
      ]
     },
     "metadata": {
      "needs_background": "light"
     },
     "output_type": "display_data"
    }
   ],
   "source": [
    "visualize.classification_reports(baseline_model,X_val,y_val)"
   ]
  },
  {
   "cell_type": "markdown",
   "id": "conditional-voluntary",
   "metadata": {},
   "source": [
    "# Include Oversampling\n",
    "Including SMOTE with no calibration may improve results by oversampling the minority class"
   ]
  },
  {
   "cell_type": "code",
   "execution_count": 11,
   "id": "dominican-obligation",
   "metadata": {},
   "outputs": [],
   "source": [
    "sm = SMOTE(random_state=42)\n",
    "\n",
    "X_sm, y_sm = sm.fit_resample(X_train, y_train)\n"
   ]
  },
  {
   "cell_type": "code",
   "execution_count": 12,
   "id": "military-bhutan",
   "metadata": {},
   "outputs": [
    {
     "name": "stdout",
     "output_type": "stream",
     "text": [
      "Fitting 7 folds for each of 12 candidates, totalling 84 fits\n"
     ]
    },
    {
     "data": {
      "text/plain": [
       "RandomizedSearchCV(cv=7,\n",
       "                   estimator=VotingClassifier(estimators=[('rf',\n",
       "                                                           Pipeline(steps=[('classifier',\n",
       "                                                                            RandomForestClassifier(oob_score=True))])),\n",
       "                                                          ('lr',\n",
       "                                                           Pipeline(steps=[('scaler',\n",
       "                                                                            StandardScaler()),\n",
       "                                                                           ('pca',\n",
       "                                                                            PCA()),\n",
       "                                                                           ('classifier',\n",
       "                                                                            LogisticRegression(max_iter=10000))]))],\n",
       "                                              voting='soft'),\n",
       "                   n_iter=12, n_jobs=-1,\n",
       "                   param_distributions={'lr__classifier__penalty': ['l2'],\n",
       "                                        'rf__classifier__class_weight': ['balanced'],\n",
       "                                        'rf__classifier__max_depth': [3, 4, 5],\n",
       "                                        'rf__classifier__max_features': ['log2',\n",
       "                                                                         None],\n",
       "                                        'rf__classifier__n_estimators': [1000],\n",
       "                                        'weights': [[2, 1], [1, 1], [1, 2],\n",
       "                                                    [1, 3], [1, 4]]},\n",
       "                   random_state=1, verbose=10)"
      ]
     },
     "execution_count": 12,
     "metadata": {},
     "output_type": "execute_result"
    }
   ],
   "source": [
    "model = baseline_model\n",
    "\n",
    "model.fit(X_sm, y_sm)"
   ]
  },
  {
   "cell_type": "markdown",
   "id": "bound-scotland",
   "metadata": {},
   "source": [
    "### Inspect Results"
   ]
  },
  {
   "cell_type": "code",
   "execution_count": 13,
   "id": "satisfactory-overhead",
   "metadata": {},
   "outputs": [
    {
     "name": "stdout",
     "output_type": "stream",
     "text": [
      " class 1 :  1337\n",
      " class 0 :  263\n",
      "Confusion Matrix: \n",
      " [[134 129]\n",
      " [345 992]]\n",
      "Accuracy:  0.70375\n",
      "AUC:  0.7016161828735237\n",
      "              precision    recall  f1-score   support\n",
      "\n",
      "           0       0.28      0.51      0.36       263\n",
      "           1       0.88      0.74      0.81      1337\n",
      "\n",
      "    accuracy                           0.70      1600\n",
      "   macro avg       0.58      0.63      0.58      1600\n",
      "weighted avg       0.79      0.70      0.73      1600\n",
      "\n"
     ]
    },
    {
     "data": {
      "image/png": "[encoded data removed]",
      "text/plain": [
       "<Figure size 432x288 with 1 Axes>"
      ]
     },
     "metadata": {
      "needs_background": "light"
     },
     "output_type": "display_data"
    }
   ],
   "source": [
    "visualize.classification_reports(model,X_val,y_val)"
   ]
  },
  {
   "cell_type": "markdown",
   "id": "smoking-virginia",
   "metadata": {},
   "source": [
    "Since it Didnt improve the results on the validation set, we will try to calibrate the model.\n"
   ]
  },
  {
   "cell_type": "code",
   "execution_count": 28,
   "id": "ruled-direction",
   "metadata": {},
   "outputs": [],
   "source": [
    "X_sm, y_sm = sm.fit_resample(X, y)\n",
    "calibrated_model = CalibratedClassifierCV(model)"
   ]
  },
  {
   "cell_type": "code",
   "execution_count": 29,
   "id": "funky-chance",
   "metadata": {},
   "outputs": [
    {
     "name": "stdout",
     "output_type": "stream",
     "text": [
      "Fitting 7 folds for each of 12 candidates, totalling 84 fits\n",
      "Fitting 7 folds for each of 12 candidates, totalling 84 fits\n",
      "Fitting 7 folds for each of 12 candidates, totalling 84 fits\n",
      "Fitting 7 folds for each of 12 candidates, totalling 84 fits\n",
      "Fitting 7 folds for each of 12 candidates, totalling 84 fits\n"
     ]
    },
    {
     "data": {
      "text/plain": [
       "CalibratedClassifierCV(base_estimator=RandomizedSearchCV(cv=7,\n",
       "                                                         estimator=VotingClassifier(estimators=[('rf',\n",
       "                                                                                                 Pipeline(steps=[('classifier',\n",
       "                                                                                                                  RandomForestClassifier(oob_score=True))])),\n",
       "                                                                                                ('lr',\n",
       "                                                                                                 Pipeline(steps=[('scaler',\n",
       "                                                                                                                  StandardScaler()),\n",
       "                                                                                                                 ('pca',\n",
       "                                                                                                                  PCA()),\n",
       "                                                                                                                 ('classifier',\n",
       "                                                                                                                  LogisticRegression(max_iter=10000))]))],\n",
       "                                                                                    voting='soft'),\n",
       "                                                         n_iter=12, n_jobs=-1,\n",
       "                                                         param_distributions={'lr__classifier__penalty': ['l2'],\n",
       "                                                                              'rf__classifier__class_weight': ['balanced'],\n",
       "                                                                              'rf__classifier__max_depth': [3,\n",
       "                                                                                                            4,\n",
       "                                                                                                            5],\n",
       "                                                                              'rf__classifier__max_features': ['log2',\n",
       "                                                                                                               None],\n",
       "                                                                              'rf__classifier__n_estimators': [1000],\n",
       "                                                                              'weights': [[2,\n",
       "                                                                                           1],\n",
       "                                                                                          [1,\n",
       "                                                                                           1],\n",
       "                                                                                          [1,\n",
       "                                                                                           2],\n",
       "                                                                                          [1,\n",
       "                                                                                           3],\n",
       "                                                                                          [1,\n",
       "                                                                                           4]]},\n",
       "                                                         random_state=1,\n",
       "                                                         verbose=10))"
      ]
     },
     "execution_count": 29,
     "metadata": {},
     "output_type": "execute_result"
    }
   ],
   "source": [
    "calibrated_model.fit(X_sm,y_sm)"
   ]
  },
  {
   "cell_type": "code",
   "execution_count": 30,
   "id": "meaning-sharing",
   "metadata": {},
   "outputs": [
    {
     "name": "stdout",
     "output_type": "stream",
     "text": [
      " class 1 :  6669\n",
      " class 0 :  1331\n",
      "Confusion Matrix: \n",
      " [[ 792  539]\n",
      " [1880 4789]]\n",
      "Accuracy:  0.697625\n",
      "AUC:  0.7225985555694123\n",
      "              precision    recall  f1-score   support\n",
      "\n",
      "           0       0.30      0.60      0.40      1331\n",
      "           1       0.90      0.72      0.80      6669\n",
      "\n",
      "    accuracy                           0.70      8000\n",
      "   macro avg       0.60      0.66      0.60      8000\n",
      "weighted avg       0.80      0.70      0.73      8000\n",
      "\n"
     ]
    },
    {
     "data": {
      "image/png": "[encoded data removed]",
      "text/plain": [
       "<Figure size 432x288 with 1 Axes>"
      ]
     },
     "metadata": {
      "needs_background": "light"
     },
     "output_type": "display_data"
    }
   ],
   "source": [
    "visualize.classification_reports(calibrated_model,X,y)"
   ]
  },
  {
   "cell_type": "markdown",
   "id": "legendary-contact",
   "metadata": {},
   "source": [
    "## Submit Predictions"
   ]
  },
  {
   "cell_type": "code",
   "execution_count": 31,
   "id": "bottom-redhead",
   "metadata": {},
   "outputs": [
    {
     "name": "stdout",
     "output_type": "stream",
     "text": [
      "Warning: Your Kaggle API key is readable by other users on this system! To fix this, you can run 'chmod 600 /Users/markbrackenrig/.kaggle/kaggle.json'\n",
      "Success! User is Authenticated\n"
     ]
    },
    {
     "name": "stderr",
     "output_type": "stream",
     "text": [
      "100%|██████████| 88.2k/88.2k [00:05<00:00, 17.6kB/s]\n"
     ]
    },
    {
     "data": {
      "text/html": [
       "<div>\n",
       "<style scoped>\n",
       "    .dataframe tbody tr th:only-of-type {\n",
       "        vertical-align: middle;\n",
       "    }\n",
       "\n",
       "    .dataframe tbody tr th {\n",
       "        vertical-align: top;\n",
       "    }\n",
       "\n",
       "    .dataframe thead th {\n",
       "        text-align: right;\n",
       "    }\n",
       "</style>\n",
       "<table border=\"1\" class=\"dataframe\">\n",
       "  <thead>\n",
       "    <tr style=\"text-align: right;\">\n",
       "      <th></th>\n",
       "      <th>id</th>\n",
       "      <th>TARGET_5Yrs</th>\n",
       "    </tr>\n",
       "  </thead>\n",
       "  <tbody>\n",
       "    <tr>\n",
       "      <th>0</th>\n",
       "      <td>0</td>\n",
       "      <td>0.609099</td>\n",
       "    </tr>\n",
       "    <tr>\n",
       "      <th>1</th>\n",
       "      <td>1</td>\n",
       "      <td>0.406272</td>\n",
       "    </tr>\n",
       "    <tr>\n",
       "      <th>2</th>\n",
       "      <td>2</td>\n",
       "      <td>0.839139</td>\n",
       "    </tr>\n",
       "    <tr>\n",
       "      <th>3</th>\n",
       "      <td>3</td>\n",
       "      <td>0.888420</td>\n",
       "    </tr>\n",
       "    <tr>\n",
       "      <th>4</th>\n",
       "      <td>4</td>\n",
       "      <td>0.302987</td>\n",
       "    </tr>\n",
       "    <tr>\n",
       "      <th>...</th>\n",
       "      <td>...</td>\n",
       "      <td>...</td>\n",
       "    </tr>\n",
       "    <tr>\n",
       "      <th>3794</th>\n",
       "      <td>3794</td>\n",
       "      <td>0.915986</td>\n",
       "    </tr>\n",
       "    <tr>\n",
       "      <th>3795</th>\n",
       "      <td>3795</td>\n",
       "      <td>0.591187</td>\n",
       "    </tr>\n",
       "    <tr>\n",
       "      <th>3796</th>\n",
       "      <td>3796</td>\n",
       "      <td>0.344923</td>\n",
       "    </tr>\n",
       "    <tr>\n",
       "      <th>3797</th>\n",
       "      <td>3797</td>\n",
       "      <td>0.897821</td>\n",
       "    </tr>\n",
       "    <tr>\n",
       "      <th>3798</th>\n",
       "      <td>3798</td>\n",
       "      <td>0.520386</td>\n",
       "    </tr>\n",
       "  </tbody>\n",
       "</table>\n",
       "<p>3799 rows × 2 columns</p>\n",
       "</div>"
      ],
      "text/plain": [
       "        id  TARGET_5Yrs\n",
       "0        0     0.609099\n",
       "1        1     0.406272\n",
       "2        2     0.839139\n",
       "3        3     0.888420\n",
       "4        4     0.302987\n",
       "...    ...          ...\n",
       "3794  3794     0.915986\n",
       "3795  3795     0.591187\n",
       "3796  3796     0.344923\n",
       "3797  3797     0.897821\n",
       "3798  3798     0.520386\n",
       "\n",
       "[3799 rows x 2 columns]"
      ]
     },
     "execution_count": 31,
     "metadata": {},
     "output_type": "execute_result"
    }
   ],
   "source": [
    "submit_predictions.submit_predictions(calibrated_model, X_test, test_id,\"SMOTE model experiment\", pred_path=processed_data_dir/'12964298_week2_SMOTE.csv')"
   ]
  },
  {
   "cell_type": "code",
   "execution_count": null,
   "id": "incredible-increase",
   "metadata": {},
   "outputs": [],
   "source": []
  }
 ],
 "metadata": {
  "kernelspec": {
   "display_name": "Python 3",
   "language": "python",
   "name": "python3"
  },
  "language_info": {
   "codemirror_mode": {
    "name": "ipython",
    "version": 3
   },
   "file_extension": ".py",
   "mimetype": "text/x-python",
   "name": "python",
   "nbconvert_exporter": "python",
   "pygments_lexer": "ipython3",
   "version": "3.8.5"
  }
 },
 "nbformat": 4,
 "nbformat_minor": 5
}
